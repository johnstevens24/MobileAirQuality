{
 "cells": [
  {
   "cell_type": "code",
   "execution_count": 1,
   "metadata": {},
   "outputs": [],
   "source": [
    "import os\n",
    "import pandas as pd\n",
    "from pandas.api.types import CategoricalDtype\n"
   ]
  },
  {
   "cell_type": "code",
   "execution_count": 2,
   "metadata": {},
   "outputs": [],
   "source": [
    "raw_data_path = './raw_data/'  # Path to raw data stored locally\n",
    "gmd_data_path = './data/aq_data/'  # Path to groomed data\n",
    "\n",
    "AQI_category = CategoricalDtype(categories=[\"Good\", \"Moderate\", \"Unhealthy for Sensitive Groups\", \n",
    "                                            \"Unhealthy\", \"Very Unhealthy\", \"Hazardous\"], ordered=True)\n",
    "PM25_Category = CategoricalDtype(categories=[\"< 12.00\", \"12.00 - 35.50\", \"35.50 - 85.50\", \n",
    "                                                \"115.00 - 150.50\", \"150.50+\"], ordered=True)\n",
    "MesoWest_Category = CategoricalDtype(categories=['< 2.00', '2.00 - 4.00', '4.00 - 6.00', \n",
    "                                                    '6.00 - 8.00', '8.00 - 10.00','10.00 - 12.00',\n",
    "                                                    '12.00 - 20.00','20.00 - 28.00','28.00 - 35.50',\n",
    "                                                    '35.50 - 45.50','45.50 - 55.50','55.50 - 85.50',\n",
    "                                                    '85.50 - 115.50','115.50 - 150.50','150.50+'], ordered=True)"
   ]
  },
  {
   "cell_type": "code",
   "execution_count": 3,
   "metadata": {},
   "outputs": [
    {
     "name": "stderr",
     "output_type": "stream",
     "text": [
      "C:\\Users\\Raikou\\AppData\\Local\\Temp\\ipykernel_11592\\2694455489.py:40: FutureWarning: DataFrame.applymap has been deprecated. Use DataFrame.map instead.\n",
      "  aqi_col = pm25_cols.applymap(lambda x: 'Good' if x < 12\n",
      "C:\\Users\\Raikou\\AppData\\Local\\Temp\\ipykernel_11592\\2694455489.py:46: FutureWarning: DataFrame.applymap has been deprecated. Use DataFrame.map instead.\n",
      "  pm25_category_col = pm25_cols.applymap(lambda x: '< 12.00' if x < 12.00\n",
      "C:\\Users\\Raikou\\AppData\\Local\\Temp\\ipykernel_11592\\2694455489.py:53: FutureWarning: DataFrame.applymap has been deprecated. Use DataFrame.map instead.\n",
      "  meso_west_category_col = pm25_cols.applymap(lambda x: '< 2.00' if x < 2.00\n"
     ]
    },
    {
     "name": "stdout",
     "output_type": "stream",
     "text": [
      "Groomed: BUS01_2021_09.csv\n"
     ]
    },
    {
     "name": "stderr",
     "output_type": "stream",
     "text": [
      "C:\\Users\\Raikou\\AppData\\Local\\Temp\\ipykernel_11592\\2694455489.py:40: FutureWarning: DataFrame.applymap has been deprecated. Use DataFrame.map instead.\n",
      "  aqi_col = pm25_cols.applymap(lambda x: 'Good' if x < 12\n",
      "C:\\Users\\Raikou\\AppData\\Local\\Temp\\ipykernel_11592\\2694455489.py:46: FutureWarning: DataFrame.applymap has been deprecated. Use DataFrame.map instead.\n",
      "  pm25_category_col = pm25_cols.applymap(lambda x: '< 12.00' if x < 12.00\n",
      "C:\\Users\\Raikou\\AppData\\Local\\Temp\\ipykernel_11592\\2694455489.py:53: FutureWarning: DataFrame.applymap has been deprecated. Use DataFrame.map instead.\n",
      "  meso_west_category_col = pm25_cols.applymap(lambda x: '< 2.00' if x < 2.00\n"
     ]
    },
    {
     "name": "stdout",
     "output_type": "stream",
     "text": [
      "Groomed: BUS01_2021_10.csv\n"
     ]
    },
    {
     "name": "stderr",
     "output_type": "stream",
     "text": [
      "C:\\Users\\Raikou\\AppData\\Local\\Temp\\ipykernel_11592\\2694455489.py:40: FutureWarning: DataFrame.applymap has been deprecated. Use DataFrame.map instead.\n",
      "  aqi_col = pm25_cols.applymap(lambda x: 'Good' if x < 12\n",
      "C:\\Users\\Raikou\\AppData\\Local\\Temp\\ipykernel_11592\\2694455489.py:46: FutureWarning: DataFrame.applymap has been deprecated. Use DataFrame.map instead.\n",
      "  pm25_category_col = pm25_cols.applymap(lambda x: '< 12.00' if x < 12.00\n",
      "C:\\Users\\Raikou\\AppData\\Local\\Temp\\ipykernel_11592\\2694455489.py:53: FutureWarning: DataFrame.applymap has been deprecated. Use DataFrame.map instead.\n",
      "  meso_west_category_col = pm25_cols.applymap(lambda x: '< 2.00' if x < 2.00\n"
     ]
    },
    {
     "name": "stdout",
     "output_type": "stream",
     "text": [
      "Groomed: BUS01_2021_11.csv\n"
     ]
    },
    {
     "name": "stderr",
     "output_type": "stream",
     "text": [
      "C:\\Users\\Raikou\\AppData\\Local\\Temp\\ipykernel_11592\\2694455489.py:40: FutureWarning: DataFrame.applymap has been deprecated. Use DataFrame.map instead.\n",
      "  aqi_col = pm25_cols.applymap(lambda x: 'Good' if x < 12\n",
      "C:\\Users\\Raikou\\AppData\\Local\\Temp\\ipykernel_11592\\2694455489.py:46: FutureWarning: DataFrame.applymap has been deprecated. Use DataFrame.map instead.\n",
      "  pm25_category_col = pm25_cols.applymap(lambda x: '< 12.00' if x < 12.00\n",
      "C:\\Users\\Raikou\\AppData\\Local\\Temp\\ipykernel_11592\\2694455489.py:53: FutureWarning: DataFrame.applymap has been deprecated. Use DataFrame.map instead.\n",
      "  meso_west_category_col = pm25_cols.applymap(lambda x: '< 2.00' if x < 2.00\n"
     ]
    },
    {
     "name": "stdout",
     "output_type": "stream",
     "text": [
      "Groomed: BUS01_2021_12.csv\n"
     ]
    },
    {
     "name": "stderr",
     "output_type": "stream",
     "text": [
      "C:\\Users\\Raikou\\AppData\\Local\\Temp\\ipykernel_11592\\2694455489.py:40: FutureWarning: DataFrame.applymap has been deprecated. Use DataFrame.map instead.\n",
      "  aqi_col = pm25_cols.applymap(lambda x: 'Good' if x < 12\n",
      "C:\\Users\\Raikou\\AppData\\Local\\Temp\\ipykernel_11592\\2694455489.py:46: FutureWarning: DataFrame.applymap has been deprecated. Use DataFrame.map instead.\n",
      "  pm25_category_col = pm25_cols.applymap(lambda x: '< 12.00' if x < 12.00\n",
      "C:\\Users\\Raikou\\AppData\\Local\\Temp\\ipykernel_11592\\2694455489.py:53: FutureWarning: DataFrame.applymap has been deprecated. Use DataFrame.map instead.\n",
      "  meso_west_category_col = pm25_cols.applymap(lambda x: '< 2.00' if x < 2.00\n"
     ]
    },
    {
     "name": "stdout",
     "output_type": "stream",
     "text": [
      "Groomed: BUS01_2022_01.csv\n"
     ]
    },
    {
     "name": "stderr",
     "output_type": "stream",
     "text": [
      "C:\\Users\\Raikou\\AppData\\Local\\Temp\\ipykernel_11592\\2694455489.py:40: FutureWarning: DataFrame.applymap has been deprecated. Use DataFrame.map instead.\n",
      "  aqi_col = pm25_cols.applymap(lambda x: 'Good' if x < 12\n",
      "C:\\Users\\Raikou\\AppData\\Local\\Temp\\ipykernel_11592\\2694455489.py:46: FutureWarning: DataFrame.applymap has been deprecated. Use DataFrame.map instead.\n",
      "  pm25_category_col = pm25_cols.applymap(lambda x: '< 12.00' if x < 12.00\n",
      "C:\\Users\\Raikou\\AppData\\Local\\Temp\\ipykernel_11592\\2694455489.py:53: FutureWarning: DataFrame.applymap has been deprecated. Use DataFrame.map instead.\n",
      "  meso_west_category_col = pm25_cols.applymap(lambda x: '< 2.00' if x < 2.00\n"
     ]
    },
    {
     "name": "stdout",
     "output_type": "stream",
     "text": [
      "Groomed: BUS01_2022_02.csv\n"
     ]
    },
    {
     "name": "stderr",
     "output_type": "stream",
     "text": [
      "C:\\Users\\Raikou\\AppData\\Local\\Temp\\ipykernel_11592\\2694455489.py:40: FutureWarning: DataFrame.applymap has been deprecated. Use DataFrame.map instead.\n",
      "  aqi_col = pm25_cols.applymap(lambda x: 'Good' if x < 12\n",
      "C:\\Users\\Raikou\\AppData\\Local\\Temp\\ipykernel_11592\\2694455489.py:46: FutureWarning: DataFrame.applymap has been deprecated. Use DataFrame.map instead.\n",
      "  pm25_category_col = pm25_cols.applymap(lambda x: '< 12.00' if x < 12.00\n",
      "C:\\Users\\Raikou\\AppData\\Local\\Temp\\ipykernel_11592\\2694455489.py:53: FutureWarning: DataFrame.applymap has been deprecated. Use DataFrame.map instead.\n",
      "  meso_west_category_col = pm25_cols.applymap(lambda x: '< 2.00' if x < 2.00\n"
     ]
    },
    {
     "name": "stdout",
     "output_type": "stream",
     "text": [
      "Groomed: BUS01_2022_03.csv\n"
     ]
    },
    {
     "name": "stderr",
     "output_type": "stream",
     "text": [
      "C:\\Users\\Raikou\\AppData\\Local\\Temp\\ipykernel_11592\\2694455489.py:40: FutureWarning: DataFrame.applymap has been deprecated. Use DataFrame.map instead.\n",
      "  aqi_col = pm25_cols.applymap(lambda x: 'Good' if x < 12\n",
      "C:\\Users\\Raikou\\AppData\\Local\\Temp\\ipykernel_11592\\2694455489.py:46: FutureWarning: DataFrame.applymap has been deprecated. Use DataFrame.map instead.\n",
      "  pm25_category_col = pm25_cols.applymap(lambda x: '< 12.00' if x < 12.00\n",
      "C:\\Users\\Raikou\\AppData\\Local\\Temp\\ipykernel_11592\\2694455489.py:53: FutureWarning: DataFrame.applymap has been deprecated. Use DataFrame.map instead.\n",
      "  meso_west_category_col = pm25_cols.applymap(lambda x: '< 2.00' if x < 2.00\n"
     ]
    },
    {
     "name": "stdout",
     "output_type": "stream",
     "text": [
      "Groomed: BUS01_2022_04.csv\n"
     ]
    },
    {
     "name": "stderr",
     "output_type": "stream",
     "text": [
      "C:\\Users\\Raikou\\AppData\\Local\\Temp\\ipykernel_11592\\2694455489.py:40: FutureWarning: DataFrame.applymap has been deprecated. Use DataFrame.map instead.\n",
      "  aqi_col = pm25_cols.applymap(lambda x: 'Good' if x < 12\n",
      "C:\\Users\\Raikou\\AppData\\Local\\Temp\\ipykernel_11592\\2694455489.py:46: FutureWarning: DataFrame.applymap has been deprecated. Use DataFrame.map instead.\n",
      "  pm25_category_col = pm25_cols.applymap(lambda x: '< 12.00' if x < 12.00\n",
      "C:\\Users\\Raikou\\AppData\\Local\\Temp\\ipykernel_11592\\2694455489.py:53: FutureWarning: DataFrame.applymap has been deprecated. Use DataFrame.map instead.\n",
      "  meso_west_category_col = pm25_cols.applymap(lambda x: '< 2.00' if x < 2.00\n"
     ]
    },
    {
     "name": "stdout",
     "output_type": "stream",
     "text": [
      "Groomed: BUS01_2022_05.csv\n"
     ]
    },
    {
     "name": "stderr",
     "output_type": "stream",
     "text": [
      "C:\\Users\\Raikou\\AppData\\Local\\Temp\\ipykernel_11592\\2694455489.py:40: FutureWarning: DataFrame.applymap has been deprecated. Use DataFrame.map instead.\n",
      "  aqi_col = pm25_cols.applymap(lambda x: 'Good' if x < 12\n",
      "C:\\Users\\Raikou\\AppData\\Local\\Temp\\ipykernel_11592\\2694455489.py:46: FutureWarning: DataFrame.applymap has been deprecated. Use DataFrame.map instead.\n",
      "  pm25_category_col = pm25_cols.applymap(lambda x: '< 12.00' if x < 12.00\n",
      "C:\\Users\\Raikou\\AppData\\Local\\Temp\\ipykernel_11592\\2694455489.py:53: FutureWarning: DataFrame.applymap has been deprecated. Use DataFrame.map instead.\n",
      "  meso_west_category_col = pm25_cols.applymap(lambda x: '< 2.00' if x < 2.00\n"
     ]
    },
    {
     "name": "stdout",
     "output_type": "stream",
     "text": [
      "Groomed: BUS01_2022_06.csv\n"
     ]
    },
    {
     "name": "stderr",
     "output_type": "stream",
     "text": [
      "C:\\Users\\Raikou\\AppData\\Local\\Temp\\ipykernel_11592\\2694455489.py:40: FutureWarning: DataFrame.applymap has been deprecated. Use DataFrame.map instead.\n",
      "  aqi_col = pm25_cols.applymap(lambda x: 'Good' if x < 12\n",
      "C:\\Users\\Raikou\\AppData\\Local\\Temp\\ipykernel_11592\\2694455489.py:46: FutureWarning: DataFrame.applymap has been deprecated. Use DataFrame.map instead.\n",
      "  pm25_category_col = pm25_cols.applymap(lambda x: '< 12.00' if x < 12.00\n",
      "C:\\Users\\Raikou\\AppData\\Local\\Temp\\ipykernel_11592\\2694455489.py:53: FutureWarning: DataFrame.applymap has been deprecated. Use DataFrame.map instead.\n",
      "  meso_west_category_col = pm25_cols.applymap(lambda x: '< 2.00' if x < 2.00\n"
     ]
    },
    {
     "name": "stdout",
     "output_type": "stream",
     "text": [
      "Groomed: BUS01_2022_07.csv\n"
     ]
    },
    {
     "name": "stderr",
     "output_type": "stream",
     "text": [
      "C:\\Users\\Raikou\\AppData\\Local\\Temp\\ipykernel_11592\\2694455489.py:40: FutureWarning: DataFrame.applymap has been deprecated. Use DataFrame.map instead.\n",
      "  aqi_col = pm25_cols.applymap(lambda x: 'Good' if x < 12\n",
      "C:\\Users\\Raikou\\AppData\\Local\\Temp\\ipykernel_11592\\2694455489.py:46: FutureWarning: DataFrame.applymap has been deprecated. Use DataFrame.map instead.\n",
      "  pm25_category_col = pm25_cols.applymap(lambda x: '< 12.00' if x < 12.00\n",
      "C:\\Users\\Raikou\\AppData\\Local\\Temp\\ipykernel_11592\\2694455489.py:53: FutureWarning: DataFrame.applymap has been deprecated. Use DataFrame.map instead.\n",
      "  meso_west_category_col = pm25_cols.applymap(lambda x: '< 2.00' if x < 2.00\n"
     ]
    },
    {
     "name": "stdout",
     "output_type": "stream",
     "text": [
      "Groomed: BUS01_2022_09.csv\n"
     ]
    },
    {
     "name": "stderr",
     "output_type": "stream",
     "text": [
      "C:\\Users\\Raikou\\AppData\\Local\\Temp\\ipykernel_11592\\2694455489.py:40: FutureWarning: DataFrame.applymap has been deprecated. Use DataFrame.map instead.\n",
      "  aqi_col = pm25_cols.applymap(lambda x: 'Good' if x < 12\n",
      "C:\\Users\\Raikou\\AppData\\Local\\Temp\\ipykernel_11592\\2694455489.py:46: FutureWarning: DataFrame.applymap has been deprecated. Use DataFrame.map instead.\n",
      "  pm25_category_col = pm25_cols.applymap(lambda x: '< 12.00' if x < 12.00\n",
      "C:\\Users\\Raikou\\AppData\\Local\\Temp\\ipykernel_11592\\2694455489.py:53: FutureWarning: DataFrame.applymap has been deprecated. Use DataFrame.map instead.\n",
      "  meso_west_category_col = pm25_cols.applymap(lambda x: '< 2.00' if x < 2.00\n"
     ]
    },
    {
     "name": "stdout",
     "output_type": "stream",
     "text": [
      "Groomed: BUS01_2022_10.csv\n"
     ]
    },
    {
     "name": "stderr",
     "output_type": "stream",
     "text": [
      "C:\\Users\\Raikou\\AppData\\Local\\Temp\\ipykernel_11592\\2694455489.py:40: FutureWarning: DataFrame.applymap has been deprecated. Use DataFrame.map instead.\n",
      "  aqi_col = pm25_cols.applymap(lambda x: 'Good' if x < 12\n",
      "C:\\Users\\Raikou\\AppData\\Local\\Temp\\ipykernel_11592\\2694455489.py:46: FutureWarning: DataFrame.applymap has been deprecated. Use DataFrame.map instead.\n",
      "  pm25_category_col = pm25_cols.applymap(lambda x: '< 12.00' if x < 12.00\n",
      "C:\\Users\\Raikou\\AppData\\Local\\Temp\\ipykernel_11592\\2694455489.py:53: FutureWarning: DataFrame.applymap has been deprecated. Use DataFrame.map instead.\n",
      "  meso_west_category_col = pm25_cols.applymap(lambda x: '< 2.00' if x < 2.00\n"
     ]
    },
    {
     "name": "stdout",
     "output_type": "stream",
     "text": [
      "Groomed: BUS01_2022_11.csv\n"
     ]
    },
    {
     "name": "stderr",
     "output_type": "stream",
     "text": [
      "C:\\Users\\Raikou\\AppData\\Local\\Temp\\ipykernel_11592\\2694455489.py:40: FutureWarning: DataFrame.applymap has been deprecated. Use DataFrame.map instead.\n",
      "  aqi_col = pm25_cols.applymap(lambda x: 'Good' if x < 12\n",
      "C:\\Users\\Raikou\\AppData\\Local\\Temp\\ipykernel_11592\\2694455489.py:46: FutureWarning: DataFrame.applymap has been deprecated. Use DataFrame.map instead.\n",
      "  pm25_category_col = pm25_cols.applymap(lambda x: '< 12.00' if x < 12.00\n",
      "C:\\Users\\Raikou\\AppData\\Local\\Temp\\ipykernel_11592\\2694455489.py:53: FutureWarning: DataFrame.applymap has been deprecated. Use DataFrame.map instead.\n",
      "  meso_west_category_col = pm25_cols.applymap(lambda x: '< 2.00' if x < 2.00\n"
     ]
    },
    {
     "name": "stdout",
     "output_type": "stream",
     "text": [
      "Groomed: BUS01_2022_12.csv\n"
     ]
    },
    {
     "name": "stderr",
     "output_type": "stream",
     "text": [
      "C:\\Users\\Raikou\\AppData\\Local\\Temp\\ipykernel_11592\\2694455489.py:40: FutureWarning: DataFrame.applymap has been deprecated. Use DataFrame.map instead.\n",
      "  aqi_col = pm25_cols.applymap(lambda x: 'Good' if x < 12\n",
      "C:\\Users\\Raikou\\AppData\\Local\\Temp\\ipykernel_11592\\2694455489.py:46: FutureWarning: DataFrame.applymap has been deprecated. Use DataFrame.map instead.\n",
      "  pm25_category_col = pm25_cols.applymap(lambda x: '< 12.00' if x < 12.00\n",
      "C:\\Users\\Raikou\\AppData\\Local\\Temp\\ipykernel_11592\\2694455489.py:53: FutureWarning: DataFrame.applymap has been deprecated. Use DataFrame.map instead.\n",
      "  meso_west_category_col = pm25_cols.applymap(lambda x: '< 2.00' if x < 2.00\n"
     ]
    },
    {
     "name": "stdout",
     "output_type": "stream",
     "text": [
      "Groomed: BUS01_2023_01.csv\n"
     ]
    },
    {
     "name": "stderr",
     "output_type": "stream",
     "text": [
      "C:\\Users\\Raikou\\AppData\\Local\\Temp\\ipykernel_11592\\2694455489.py:40: FutureWarning: DataFrame.applymap has been deprecated. Use DataFrame.map instead.\n",
      "  aqi_col = pm25_cols.applymap(lambda x: 'Good' if x < 12\n",
      "C:\\Users\\Raikou\\AppData\\Local\\Temp\\ipykernel_11592\\2694455489.py:46: FutureWarning: DataFrame.applymap has been deprecated. Use DataFrame.map instead.\n",
      "  pm25_category_col = pm25_cols.applymap(lambda x: '< 12.00' if x < 12.00\n",
      "C:\\Users\\Raikou\\AppData\\Local\\Temp\\ipykernel_11592\\2694455489.py:53: FutureWarning: DataFrame.applymap has been deprecated. Use DataFrame.map instead.\n",
      "  meso_west_category_col = pm25_cols.applymap(lambda x: '< 2.00' if x < 2.00\n"
     ]
    },
    {
     "name": "stdout",
     "output_type": "stream",
     "text": [
      "Groomed: BUS01_2023_02.csv\n"
     ]
    },
    {
     "name": "stderr",
     "output_type": "stream",
     "text": [
      "C:\\Users\\Raikou\\AppData\\Local\\Temp\\ipykernel_11592\\2694455489.py:40: FutureWarning: DataFrame.applymap has been deprecated. Use DataFrame.map instead.\n",
      "  aqi_col = pm25_cols.applymap(lambda x: 'Good' if x < 12\n",
      "C:\\Users\\Raikou\\AppData\\Local\\Temp\\ipykernel_11592\\2694455489.py:46: FutureWarning: DataFrame.applymap has been deprecated. Use DataFrame.map instead.\n",
      "  pm25_category_col = pm25_cols.applymap(lambda x: '< 12.00' if x < 12.00\n",
      "C:\\Users\\Raikou\\AppData\\Local\\Temp\\ipykernel_11592\\2694455489.py:53: FutureWarning: DataFrame.applymap has been deprecated. Use DataFrame.map instead.\n",
      "  meso_west_category_col = pm25_cols.applymap(lambda x: '< 2.00' if x < 2.00\n"
     ]
    },
    {
     "name": "stdout",
     "output_type": "stream",
     "text": [
      "Groomed: BUS01_2023_03.csv\n"
     ]
    },
    {
     "name": "stderr",
     "output_type": "stream",
     "text": [
      "C:\\Users\\Raikou\\AppData\\Local\\Temp\\ipykernel_11592\\2694455489.py:40: FutureWarning: DataFrame.applymap has been deprecated. Use DataFrame.map instead.\n",
      "  aqi_col = pm25_cols.applymap(lambda x: 'Good' if x < 12\n",
      "C:\\Users\\Raikou\\AppData\\Local\\Temp\\ipykernel_11592\\2694455489.py:46: FutureWarning: DataFrame.applymap has been deprecated. Use DataFrame.map instead.\n",
      "  pm25_category_col = pm25_cols.applymap(lambda x: '< 12.00' if x < 12.00\n",
      "C:\\Users\\Raikou\\AppData\\Local\\Temp\\ipykernel_11592\\2694455489.py:53: FutureWarning: DataFrame.applymap has been deprecated. Use DataFrame.map instead.\n",
      "  meso_west_category_col = pm25_cols.applymap(lambda x: '< 2.00' if x < 2.00\n"
     ]
    },
    {
     "name": "stdout",
     "output_type": "stream",
     "text": [
      "Groomed: BUS01_2023_04.csv\n"
     ]
    },
    {
     "name": "stderr",
     "output_type": "stream",
     "text": [
      "C:\\Users\\Raikou\\AppData\\Local\\Temp\\ipykernel_11592\\2694455489.py:40: FutureWarning: DataFrame.applymap has been deprecated. Use DataFrame.map instead.\n",
      "  aqi_col = pm25_cols.applymap(lambda x: 'Good' if x < 12\n",
      "C:\\Users\\Raikou\\AppData\\Local\\Temp\\ipykernel_11592\\2694455489.py:46: FutureWarning: DataFrame.applymap has been deprecated. Use DataFrame.map instead.\n",
      "  pm25_category_col = pm25_cols.applymap(lambda x: '< 12.00' if x < 12.00\n",
      "C:\\Users\\Raikou\\AppData\\Local\\Temp\\ipykernel_11592\\2694455489.py:53: FutureWarning: DataFrame.applymap has been deprecated. Use DataFrame.map instead.\n",
      "  meso_west_category_col = pm25_cols.applymap(lambda x: '< 2.00' if x < 2.00\n"
     ]
    },
    {
     "name": "stdout",
     "output_type": "stream",
     "text": [
      "Groomed: BUS01_2023_05.csv\n"
     ]
    },
    {
     "name": "stderr",
     "output_type": "stream",
     "text": [
      "C:\\Users\\Raikou\\AppData\\Local\\Temp\\ipykernel_11592\\2694455489.py:40: FutureWarning: DataFrame.applymap has been deprecated. Use DataFrame.map instead.\n",
      "  aqi_col = pm25_cols.applymap(lambda x: 'Good' if x < 12\n",
      "C:\\Users\\Raikou\\AppData\\Local\\Temp\\ipykernel_11592\\2694455489.py:46: FutureWarning: DataFrame.applymap has been deprecated. Use DataFrame.map instead.\n",
      "  pm25_category_col = pm25_cols.applymap(lambda x: '< 12.00' if x < 12.00\n",
      "C:\\Users\\Raikou\\AppData\\Local\\Temp\\ipykernel_11592\\2694455489.py:53: FutureWarning: DataFrame.applymap has been deprecated. Use DataFrame.map instead.\n",
      "  meso_west_category_col = pm25_cols.applymap(lambda x: '< 2.00' if x < 2.00\n"
     ]
    },
    {
     "name": "stdout",
     "output_type": "stream",
     "text": [
      "Groomed: BUS01_2023_08.csv\n",
      "Groomed: BUS01_2023_09.csv\n"
     ]
    },
    {
     "name": "stderr",
     "output_type": "stream",
     "text": [
      "C:\\Users\\Raikou\\AppData\\Local\\Temp\\ipykernel_11592\\2694455489.py:40: FutureWarning: DataFrame.applymap has been deprecated. Use DataFrame.map instead.\n",
      "  aqi_col = pm25_cols.applymap(lambda x: 'Good' if x < 12\n",
      "C:\\Users\\Raikou\\AppData\\Local\\Temp\\ipykernel_11592\\2694455489.py:46: FutureWarning: DataFrame.applymap has been deprecated. Use DataFrame.map instead.\n",
      "  pm25_category_col = pm25_cols.applymap(lambda x: '< 12.00' if x < 12.00\n",
      "C:\\Users\\Raikou\\AppData\\Local\\Temp\\ipykernel_11592\\2694455489.py:53: FutureWarning: DataFrame.applymap has been deprecated. Use DataFrame.map instead.\n",
      "  meso_west_category_col = pm25_cols.applymap(lambda x: '< 2.00' if x < 2.00\n",
      "C:\\Users\\Raikou\\AppData\\Local\\Temp\\ipykernel_11592\\2694455489.py:40: FutureWarning: DataFrame.applymap has been deprecated. Use DataFrame.map instead.\n",
      "  aqi_col = pm25_cols.applymap(lambda x: 'Good' if x < 12\n",
      "C:\\Users\\Raikou\\AppData\\Local\\Temp\\ipykernel_11592\\2694455489.py:46: FutureWarning: DataFrame.applymap has been deprecated. Use DataFrame.map instead.\n",
      "  pm25_category_col = pm25_cols.applymap(lambda x: '< 12.00' if x < 12.00\n",
      "C:\\Users\\Raikou\\AppData\\Local\\Temp\\ipykernel_11592\\2694455489.py:53: FutureWarning: DataFrame.applymap has been deprecated. Use DataFrame.map instead.\n",
      "  meso_west_category_col = pm25_cols.applymap(lambda x: '< 2.00' if x < 2.00\n"
     ]
    },
    {
     "name": "stdout",
     "output_type": "stream",
     "text": [
      "Groomed: BUS02_2022_02.csv\n"
     ]
    },
    {
     "name": "stderr",
     "output_type": "stream",
     "text": [
      "C:\\Users\\Raikou\\AppData\\Local\\Temp\\ipykernel_11592\\2694455489.py:40: FutureWarning: DataFrame.applymap has been deprecated. Use DataFrame.map instead.\n",
      "  aqi_col = pm25_cols.applymap(lambda x: 'Good' if x < 12\n",
      "C:\\Users\\Raikou\\AppData\\Local\\Temp\\ipykernel_11592\\2694455489.py:46: FutureWarning: DataFrame.applymap has been deprecated. Use DataFrame.map instead.\n",
      "  pm25_category_col = pm25_cols.applymap(lambda x: '< 12.00' if x < 12.00\n",
      "C:\\Users\\Raikou\\AppData\\Local\\Temp\\ipykernel_11592\\2694455489.py:53: FutureWarning: DataFrame.applymap has been deprecated. Use DataFrame.map instead.\n",
      "  meso_west_category_col = pm25_cols.applymap(lambda x: '< 2.00' if x < 2.00\n"
     ]
    },
    {
     "name": "stdout",
     "output_type": "stream",
     "text": [
      "Groomed: BUS02_2022_03.csv\n"
     ]
    },
    {
     "name": "stderr",
     "output_type": "stream",
     "text": [
      "C:\\Users\\Raikou\\AppData\\Local\\Temp\\ipykernel_11592\\2694455489.py:40: FutureWarning: DataFrame.applymap has been deprecated. Use DataFrame.map instead.\n",
      "  aqi_col = pm25_cols.applymap(lambda x: 'Good' if x < 12\n",
      "C:\\Users\\Raikou\\AppData\\Local\\Temp\\ipykernel_11592\\2694455489.py:46: FutureWarning: DataFrame.applymap has been deprecated. Use DataFrame.map instead.\n",
      "  pm25_category_col = pm25_cols.applymap(lambda x: '< 12.00' if x < 12.00\n",
      "C:\\Users\\Raikou\\AppData\\Local\\Temp\\ipykernel_11592\\2694455489.py:53: FutureWarning: DataFrame.applymap has been deprecated. Use DataFrame.map instead.\n",
      "  meso_west_category_col = pm25_cols.applymap(lambda x: '< 2.00' if x < 2.00\n"
     ]
    },
    {
     "name": "stdout",
     "output_type": "stream",
     "text": [
      "Groomed: BUS02_2022_04.csv\n"
     ]
    },
    {
     "name": "stderr",
     "output_type": "stream",
     "text": [
      "C:\\Users\\Raikou\\AppData\\Local\\Temp\\ipykernel_11592\\2694455489.py:40: FutureWarning: DataFrame.applymap has been deprecated. Use DataFrame.map instead.\n",
      "  aqi_col = pm25_cols.applymap(lambda x: 'Good' if x < 12\n",
      "C:\\Users\\Raikou\\AppData\\Local\\Temp\\ipykernel_11592\\2694455489.py:46: FutureWarning: DataFrame.applymap has been deprecated. Use DataFrame.map instead.\n",
      "  pm25_category_col = pm25_cols.applymap(lambda x: '< 12.00' if x < 12.00\n",
      "C:\\Users\\Raikou\\AppData\\Local\\Temp\\ipykernel_11592\\2694455489.py:53: FutureWarning: DataFrame.applymap has been deprecated. Use DataFrame.map instead.\n",
      "  meso_west_category_col = pm25_cols.applymap(lambda x: '< 2.00' if x < 2.00\n"
     ]
    },
    {
     "name": "stdout",
     "output_type": "stream",
     "text": [
      "Groomed: BUS02_2022_05.csv\n"
     ]
    },
    {
     "name": "stderr",
     "output_type": "stream",
     "text": [
      "C:\\Users\\Raikou\\AppData\\Local\\Temp\\ipykernel_11592\\2694455489.py:40: FutureWarning: DataFrame.applymap has been deprecated. Use DataFrame.map instead.\n",
      "  aqi_col = pm25_cols.applymap(lambda x: 'Good' if x < 12\n",
      "C:\\Users\\Raikou\\AppData\\Local\\Temp\\ipykernel_11592\\2694455489.py:46: FutureWarning: DataFrame.applymap has been deprecated. Use DataFrame.map instead.\n",
      "  pm25_category_col = pm25_cols.applymap(lambda x: '< 12.00' if x < 12.00\n",
      "C:\\Users\\Raikou\\AppData\\Local\\Temp\\ipykernel_11592\\2694455489.py:53: FutureWarning: DataFrame.applymap has been deprecated. Use DataFrame.map instead.\n",
      "  meso_west_category_col = pm25_cols.applymap(lambda x: '< 2.00' if x < 2.00\n"
     ]
    },
    {
     "name": "stdout",
     "output_type": "stream",
     "text": [
      "Groomed: BUS02_2022_06.csv\n"
     ]
    },
    {
     "name": "stderr",
     "output_type": "stream",
     "text": [
      "C:\\Users\\Raikou\\AppData\\Local\\Temp\\ipykernel_11592\\2694455489.py:40: FutureWarning: DataFrame.applymap has been deprecated. Use DataFrame.map instead.\n",
      "  aqi_col = pm25_cols.applymap(lambda x: 'Good' if x < 12\n",
      "C:\\Users\\Raikou\\AppData\\Local\\Temp\\ipykernel_11592\\2694455489.py:46: FutureWarning: DataFrame.applymap has been deprecated. Use DataFrame.map instead.\n",
      "  pm25_category_col = pm25_cols.applymap(lambda x: '< 12.00' if x < 12.00\n",
      "C:\\Users\\Raikou\\AppData\\Local\\Temp\\ipykernel_11592\\2694455489.py:53: FutureWarning: DataFrame.applymap has been deprecated. Use DataFrame.map instead.\n",
      "  meso_west_category_col = pm25_cols.applymap(lambda x: '< 2.00' if x < 2.00\n"
     ]
    },
    {
     "name": "stdout",
     "output_type": "stream",
     "text": [
      "Groomed: BUS02_2022_07.csv\n"
     ]
    },
    {
     "name": "stderr",
     "output_type": "stream",
     "text": [
      "C:\\Users\\Raikou\\AppData\\Local\\Temp\\ipykernel_11592\\2694455489.py:40: FutureWarning: DataFrame.applymap has been deprecated. Use DataFrame.map instead.\n",
      "  aqi_col = pm25_cols.applymap(lambda x: 'Good' if x < 12\n",
      "C:\\Users\\Raikou\\AppData\\Local\\Temp\\ipykernel_11592\\2694455489.py:46: FutureWarning: DataFrame.applymap has been deprecated. Use DataFrame.map instead.\n",
      "  pm25_category_col = pm25_cols.applymap(lambda x: '< 12.00' if x < 12.00\n",
      "C:\\Users\\Raikou\\AppData\\Local\\Temp\\ipykernel_11592\\2694455489.py:53: FutureWarning: DataFrame.applymap has been deprecated. Use DataFrame.map instead.\n",
      "  meso_west_category_col = pm25_cols.applymap(lambda x: '< 2.00' if x < 2.00\n"
     ]
    },
    {
     "name": "stdout",
     "output_type": "stream",
     "text": [
      "Groomed: BUS02_2022_08.csv\n"
     ]
    },
    {
     "name": "stderr",
     "output_type": "stream",
     "text": [
      "C:\\Users\\Raikou\\AppData\\Local\\Temp\\ipykernel_11592\\2694455489.py:40: FutureWarning: DataFrame.applymap has been deprecated. Use DataFrame.map instead.\n",
      "  aqi_col = pm25_cols.applymap(lambda x: 'Good' if x < 12\n",
      "C:\\Users\\Raikou\\AppData\\Local\\Temp\\ipykernel_11592\\2694455489.py:46: FutureWarning: DataFrame.applymap has been deprecated. Use DataFrame.map instead.\n",
      "  pm25_category_col = pm25_cols.applymap(lambda x: '< 12.00' if x < 12.00\n",
      "C:\\Users\\Raikou\\AppData\\Local\\Temp\\ipykernel_11592\\2694455489.py:53: FutureWarning: DataFrame.applymap has been deprecated. Use DataFrame.map instead.\n",
      "  meso_west_category_col = pm25_cols.applymap(lambda x: '< 2.00' if x < 2.00\n"
     ]
    },
    {
     "name": "stdout",
     "output_type": "stream",
     "text": [
      "Groomed: BUS02_2022_09.csv\n"
     ]
    },
    {
     "name": "stderr",
     "output_type": "stream",
     "text": [
      "C:\\Users\\Raikou\\AppData\\Local\\Temp\\ipykernel_11592\\2694455489.py:40: FutureWarning: DataFrame.applymap has been deprecated. Use DataFrame.map instead.\n",
      "  aqi_col = pm25_cols.applymap(lambda x: 'Good' if x < 12\n",
      "C:\\Users\\Raikou\\AppData\\Local\\Temp\\ipykernel_11592\\2694455489.py:46: FutureWarning: DataFrame.applymap has been deprecated. Use DataFrame.map instead.\n",
      "  pm25_category_col = pm25_cols.applymap(lambda x: '< 12.00' if x < 12.00\n",
      "C:\\Users\\Raikou\\AppData\\Local\\Temp\\ipykernel_11592\\2694455489.py:53: FutureWarning: DataFrame.applymap has been deprecated. Use DataFrame.map instead.\n",
      "  meso_west_category_col = pm25_cols.applymap(lambda x: '< 2.00' if x < 2.00\n"
     ]
    },
    {
     "name": "stdout",
     "output_type": "stream",
     "text": [
      "Groomed: BUS02_2022_10.csv\n"
     ]
    },
    {
     "name": "stderr",
     "output_type": "stream",
     "text": [
      "C:\\Users\\Raikou\\AppData\\Local\\Temp\\ipykernel_11592\\2694455489.py:40: FutureWarning: DataFrame.applymap has been deprecated. Use DataFrame.map instead.\n",
      "  aqi_col = pm25_cols.applymap(lambda x: 'Good' if x < 12\n",
      "C:\\Users\\Raikou\\AppData\\Local\\Temp\\ipykernel_11592\\2694455489.py:46: FutureWarning: DataFrame.applymap has been deprecated. Use DataFrame.map instead.\n",
      "  pm25_category_col = pm25_cols.applymap(lambda x: '< 12.00' if x < 12.00\n",
      "C:\\Users\\Raikou\\AppData\\Local\\Temp\\ipykernel_11592\\2694455489.py:53: FutureWarning: DataFrame.applymap has been deprecated. Use DataFrame.map instead.\n",
      "  meso_west_category_col = pm25_cols.applymap(lambda x: '< 2.00' if x < 2.00\n"
     ]
    },
    {
     "name": "stdout",
     "output_type": "stream",
     "text": [
      "Groomed: BUS02_2022_12.csv\n"
     ]
    },
    {
     "name": "stderr",
     "output_type": "stream",
     "text": [
      "C:\\Users\\Raikou\\AppData\\Local\\Temp\\ipykernel_11592\\2694455489.py:40: FutureWarning: DataFrame.applymap has been deprecated. Use DataFrame.map instead.\n",
      "  aqi_col = pm25_cols.applymap(lambda x: 'Good' if x < 12\n",
      "C:\\Users\\Raikou\\AppData\\Local\\Temp\\ipykernel_11592\\2694455489.py:46: FutureWarning: DataFrame.applymap has been deprecated. Use DataFrame.map instead.\n",
      "  pm25_category_col = pm25_cols.applymap(lambda x: '< 12.00' if x < 12.00\n",
      "C:\\Users\\Raikou\\AppData\\Local\\Temp\\ipykernel_11592\\2694455489.py:53: FutureWarning: DataFrame.applymap has been deprecated. Use DataFrame.map instead.\n",
      "  meso_west_category_col = pm25_cols.applymap(lambda x: '< 2.00' if x < 2.00\n"
     ]
    },
    {
     "name": "stdout",
     "output_type": "stream",
     "text": [
      "Groomed: BUS02_2023_01.csv\n"
     ]
    },
    {
     "name": "stderr",
     "output_type": "stream",
     "text": [
      "C:\\Users\\Raikou\\AppData\\Local\\Temp\\ipykernel_11592\\2694455489.py:40: FutureWarning: DataFrame.applymap has been deprecated. Use DataFrame.map instead.\n",
      "  aqi_col = pm25_cols.applymap(lambda x: 'Good' if x < 12\n",
      "C:\\Users\\Raikou\\AppData\\Local\\Temp\\ipykernel_11592\\2694455489.py:46: FutureWarning: DataFrame.applymap has been deprecated. Use DataFrame.map instead.\n",
      "  pm25_category_col = pm25_cols.applymap(lambda x: '< 12.00' if x < 12.00\n",
      "C:\\Users\\Raikou\\AppData\\Local\\Temp\\ipykernel_11592\\2694455489.py:53: FutureWarning: DataFrame.applymap has been deprecated. Use DataFrame.map instead.\n",
      "  meso_west_category_col = pm25_cols.applymap(lambda x: '< 2.00' if x < 2.00\n"
     ]
    },
    {
     "name": "stdout",
     "output_type": "stream",
     "text": [
      "Groomed: BUS02_2023_02.csv\n"
     ]
    },
    {
     "name": "stderr",
     "output_type": "stream",
     "text": [
      "C:\\Users\\Raikou\\AppData\\Local\\Temp\\ipykernel_11592\\2694455489.py:40: FutureWarning: DataFrame.applymap has been deprecated. Use DataFrame.map instead.\n",
      "  aqi_col = pm25_cols.applymap(lambda x: 'Good' if x < 12\n",
      "C:\\Users\\Raikou\\AppData\\Local\\Temp\\ipykernel_11592\\2694455489.py:46: FutureWarning: DataFrame.applymap has been deprecated. Use DataFrame.map instead.\n",
      "  pm25_category_col = pm25_cols.applymap(lambda x: '< 12.00' if x < 12.00\n",
      "C:\\Users\\Raikou\\AppData\\Local\\Temp\\ipykernel_11592\\2694455489.py:53: FutureWarning: DataFrame.applymap has been deprecated. Use DataFrame.map instead.\n",
      "  meso_west_category_col = pm25_cols.applymap(lambda x: '< 2.00' if x < 2.00\n"
     ]
    },
    {
     "name": "stdout",
     "output_type": "stream",
     "text": [
      "Groomed: BUS02_2023_03.csv\n"
     ]
    },
    {
     "name": "stderr",
     "output_type": "stream",
     "text": [
      "C:\\Users\\Raikou\\AppData\\Local\\Temp\\ipykernel_11592\\2694455489.py:40: FutureWarning: DataFrame.applymap has been deprecated. Use DataFrame.map instead.\n",
      "  aqi_col = pm25_cols.applymap(lambda x: 'Good' if x < 12\n",
      "C:\\Users\\Raikou\\AppData\\Local\\Temp\\ipykernel_11592\\2694455489.py:46: FutureWarning: DataFrame.applymap has been deprecated. Use DataFrame.map instead.\n",
      "  pm25_category_col = pm25_cols.applymap(lambda x: '< 12.00' if x < 12.00\n",
      "C:\\Users\\Raikou\\AppData\\Local\\Temp\\ipykernel_11592\\2694455489.py:53: FutureWarning: DataFrame.applymap has been deprecated. Use DataFrame.map instead.\n",
      "  meso_west_category_col = pm25_cols.applymap(lambda x: '< 2.00' if x < 2.00\n"
     ]
    },
    {
     "name": "stdout",
     "output_type": "stream",
     "text": [
      "Groomed: BUS02_2023_04.csv\n"
     ]
    },
    {
     "name": "stderr",
     "output_type": "stream",
     "text": [
      "C:\\Users\\Raikou\\AppData\\Local\\Temp\\ipykernel_11592\\2694455489.py:40: FutureWarning: DataFrame.applymap has been deprecated. Use DataFrame.map instead.\n",
      "  aqi_col = pm25_cols.applymap(lambda x: 'Good' if x < 12\n",
      "C:\\Users\\Raikou\\AppData\\Local\\Temp\\ipykernel_11592\\2694455489.py:46: FutureWarning: DataFrame.applymap has been deprecated. Use DataFrame.map instead.\n",
      "  pm25_category_col = pm25_cols.applymap(lambda x: '< 12.00' if x < 12.00\n",
      "C:\\Users\\Raikou\\AppData\\Local\\Temp\\ipykernel_11592\\2694455489.py:53: FutureWarning: DataFrame.applymap has been deprecated. Use DataFrame.map instead.\n",
      "  meso_west_category_col = pm25_cols.applymap(lambda x: '< 2.00' if x < 2.00\n"
     ]
    },
    {
     "name": "stdout",
     "output_type": "stream",
     "text": [
      "Groomed: BUS02_2023_05.csv\n"
     ]
    },
    {
     "name": "stderr",
     "output_type": "stream",
     "text": [
      "C:\\Users\\Raikou\\AppData\\Local\\Temp\\ipykernel_11592\\2694455489.py:40: FutureWarning: DataFrame.applymap has been deprecated. Use DataFrame.map instead.\n",
      "  aqi_col = pm25_cols.applymap(lambda x: 'Good' if x < 12\n",
      "C:\\Users\\Raikou\\AppData\\Local\\Temp\\ipykernel_11592\\2694455489.py:46: FutureWarning: DataFrame.applymap has been deprecated. Use DataFrame.map instead.\n",
      "  pm25_category_col = pm25_cols.applymap(lambda x: '< 12.00' if x < 12.00\n",
      "C:\\Users\\Raikou\\AppData\\Local\\Temp\\ipykernel_11592\\2694455489.py:53: FutureWarning: DataFrame.applymap has been deprecated. Use DataFrame.map instead.\n",
      "  meso_west_category_col = pm25_cols.applymap(lambda x: '< 2.00' if x < 2.00\n"
     ]
    },
    {
     "name": "stdout",
     "output_type": "stream",
     "text": [
      "Groomed: BUS02_2023_06.csv\n"
     ]
    },
    {
     "name": "stderr",
     "output_type": "stream",
     "text": [
      "C:\\Users\\Raikou\\AppData\\Local\\Temp\\ipykernel_11592\\2694455489.py:40: FutureWarning: DataFrame.applymap has been deprecated. Use DataFrame.map instead.\n",
      "  aqi_col = pm25_cols.applymap(lambda x: 'Good' if x < 12\n",
      "C:\\Users\\Raikou\\AppData\\Local\\Temp\\ipykernel_11592\\2694455489.py:46: FutureWarning: DataFrame.applymap has been deprecated. Use DataFrame.map instead.\n",
      "  pm25_category_col = pm25_cols.applymap(lambda x: '< 12.00' if x < 12.00\n",
      "C:\\Users\\Raikou\\AppData\\Local\\Temp\\ipykernel_11592\\2694455489.py:53: FutureWarning: DataFrame.applymap has been deprecated. Use DataFrame.map instead.\n",
      "  meso_west_category_col = pm25_cols.applymap(lambda x: '< 2.00' if x < 2.00\n"
     ]
    },
    {
     "name": "stdout",
     "output_type": "stream",
     "text": [
      "Groomed: BUS02_2023_07.csv\n"
     ]
    },
    {
     "name": "stderr",
     "output_type": "stream",
     "text": [
      "C:\\Users\\Raikou\\AppData\\Local\\Temp\\ipykernel_11592\\2694455489.py:40: FutureWarning: DataFrame.applymap has been deprecated. Use DataFrame.map instead.\n",
      "  aqi_col = pm25_cols.applymap(lambda x: 'Good' if x < 12\n",
      "C:\\Users\\Raikou\\AppData\\Local\\Temp\\ipykernel_11592\\2694455489.py:46: FutureWarning: DataFrame.applymap has been deprecated. Use DataFrame.map instead.\n",
      "  pm25_category_col = pm25_cols.applymap(lambda x: '< 12.00' if x < 12.00\n",
      "C:\\Users\\Raikou\\AppData\\Local\\Temp\\ipykernel_11592\\2694455489.py:53: FutureWarning: DataFrame.applymap has been deprecated. Use DataFrame.map instead.\n",
      "  meso_west_category_col = pm25_cols.applymap(lambda x: '< 2.00' if x < 2.00\n"
     ]
    },
    {
     "name": "stdout",
     "output_type": "stream",
     "text": [
      "Groomed: BUS02_2023_08.csv\n"
     ]
    },
    {
     "name": "stderr",
     "output_type": "stream",
     "text": [
      "C:\\Users\\Raikou\\AppData\\Local\\Temp\\ipykernel_11592\\2694455489.py:40: FutureWarning: DataFrame.applymap has been deprecated. Use DataFrame.map instead.\n",
      "  aqi_col = pm25_cols.applymap(lambda x: 'Good' if x < 12\n",
      "C:\\Users\\Raikou\\AppData\\Local\\Temp\\ipykernel_11592\\2694455489.py:46: FutureWarning: DataFrame.applymap has been deprecated. Use DataFrame.map instead.\n",
      "  pm25_category_col = pm25_cols.applymap(lambda x: '< 12.00' if x < 12.00\n",
      "C:\\Users\\Raikou\\AppData\\Local\\Temp\\ipykernel_11592\\2694455489.py:53: FutureWarning: DataFrame.applymap has been deprecated. Use DataFrame.map instead.\n",
      "  meso_west_category_col = pm25_cols.applymap(lambda x: '< 2.00' if x < 2.00\n"
     ]
    },
    {
     "name": "stdout",
     "output_type": "stream",
     "text": [
      "Groomed: BUS02_2023_09.csv\n"
     ]
    },
    {
     "name": "stderr",
     "output_type": "stream",
     "text": [
      "C:\\Users\\Raikou\\AppData\\Local\\Temp\\ipykernel_11592\\2694455489.py:40: FutureWarning: DataFrame.applymap has been deprecated. Use DataFrame.map instead.\n",
      "  aqi_col = pm25_cols.applymap(lambda x: 'Good' if x < 12\n",
      "C:\\Users\\Raikou\\AppData\\Local\\Temp\\ipykernel_11592\\2694455489.py:46: FutureWarning: DataFrame.applymap has been deprecated. Use DataFrame.map instead.\n",
      "  pm25_category_col = pm25_cols.applymap(lambda x: '< 12.00' if x < 12.00\n",
      "C:\\Users\\Raikou\\AppData\\Local\\Temp\\ipykernel_11592\\2694455489.py:53: FutureWarning: DataFrame.applymap has been deprecated. Use DataFrame.map instead.\n",
      "  meso_west_category_col = pm25_cols.applymap(lambda x: '< 2.00' if x < 2.00\n"
     ]
    },
    {
     "name": "stdout",
     "output_type": "stream",
     "text": [
      "Groomed: BUS03_2022_02.csv\n"
     ]
    },
    {
     "name": "stderr",
     "output_type": "stream",
     "text": [
      "C:\\Users\\Raikou\\AppData\\Local\\Temp\\ipykernel_11592\\2694455489.py:40: FutureWarning: DataFrame.applymap has been deprecated. Use DataFrame.map instead.\n",
      "  aqi_col = pm25_cols.applymap(lambda x: 'Good' if x < 12\n",
      "C:\\Users\\Raikou\\AppData\\Local\\Temp\\ipykernel_11592\\2694455489.py:46: FutureWarning: DataFrame.applymap has been deprecated. Use DataFrame.map instead.\n",
      "  pm25_category_col = pm25_cols.applymap(lambda x: '< 12.00' if x < 12.00\n",
      "C:\\Users\\Raikou\\AppData\\Local\\Temp\\ipykernel_11592\\2694455489.py:53: FutureWarning: DataFrame.applymap has been deprecated. Use DataFrame.map instead.\n",
      "  meso_west_category_col = pm25_cols.applymap(lambda x: '< 2.00' if x < 2.00\n"
     ]
    },
    {
     "name": "stdout",
     "output_type": "stream",
     "text": [
      "Groomed: BUS03_2022_03.csv\n"
     ]
    },
    {
     "name": "stderr",
     "output_type": "stream",
     "text": [
      "C:\\Users\\Raikou\\AppData\\Local\\Temp\\ipykernel_11592\\2694455489.py:40: FutureWarning: DataFrame.applymap has been deprecated. Use DataFrame.map instead.\n",
      "  aqi_col = pm25_cols.applymap(lambda x: 'Good' if x < 12\n",
      "C:\\Users\\Raikou\\AppData\\Local\\Temp\\ipykernel_11592\\2694455489.py:46: FutureWarning: DataFrame.applymap has been deprecated. Use DataFrame.map instead.\n",
      "  pm25_category_col = pm25_cols.applymap(lambda x: '< 12.00' if x < 12.00\n",
      "C:\\Users\\Raikou\\AppData\\Local\\Temp\\ipykernel_11592\\2694455489.py:53: FutureWarning: DataFrame.applymap has been deprecated. Use DataFrame.map instead.\n",
      "  meso_west_category_col = pm25_cols.applymap(lambda x: '< 2.00' if x < 2.00\n"
     ]
    },
    {
     "name": "stdout",
     "output_type": "stream",
     "text": [
      "Groomed: BUS03_2022_04.csv\n"
     ]
    },
    {
     "name": "stderr",
     "output_type": "stream",
     "text": [
      "C:\\Users\\Raikou\\AppData\\Local\\Temp\\ipykernel_11592\\2694455489.py:40: FutureWarning: DataFrame.applymap has been deprecated. Use DataFrame.map instead.\n",
      "  aqi_col = pm25_cols.applymap(lambda x: 'Good' if x < 12\n",
      "C:\\Users\\Raikou\\AppData\\Local\\Temp\\ipykernel_11592\\2694455489.py:46: FutureWarning: DataFrame.applymap has been deprecated. Use DataFrame.map instead.\n",
      "  pm25_category_col = pm25_cols.applymap(lambda x: '< 12.00' if x < 12.00\n",
      "C:\\Users\\Raikou\\AppData\\Local\\Temp\\ipykernel_11592\\2694455489.py:53: FutureWarning: DataFrame.applymap has been deprecated. Use DataFrame.map instead.\n",
      "  meso_west_category_col = pm25_cols.applymap(lambda x: '< 2.00' if x < 2.00\n"
     ]
    },
    {
     "name": "stdout",
     "output_type": "stream",
     "text": [
      "Groomed: BUS03_2022_05.csv\n"
     ]
    },
    {
     "name": "stderr",
     "output_type": "stream",
     "text": [
      "C:\\Users\\Raikou\\AppData\\Local\\Temp\\ipykernel_11592\\2694455489.py:40: FutureWarning: DataFrame.applymap has been deprecated. Use DataFrame.map instead.\n",
      "  aqi_col = pm25_cols.applymap(lambda x: 'Good' if x < 12\n",
      "C:\\Users\\Raikou\\AppData\\Local\\Temp\\ipykernel_11592\\2694455489.py:46: FutureWarning: DataFrame.applymap has been deprecated. Use DataFrame.map instead.\n",
      "  pm25_category_col = pm25_cols.applymap(lambda x: '< 12.00' if x < 12.00\n",
      "C:\\Users\\Raikou\\AppData\\Local\\Temp\\ipykernel_11592\\2694455489.py:53: FutureWarning: DataFrame.applymap has been deprecated. Use DataFrame.map instead.\n",
      "  meso_west_category_col = pm25_cols.applymap(lambda x: '< 2.00' if x < 2.00\n"
     ]
    },
    {
     "name": "stdout",
     "output_type": "stream",
     "text": [
      "Groomed: BUS03_2022_06.csv\n"
     ]
    },
    {
     "name": "stderr",
     "output_type": "stream",
     "text": [
      "C:\\Users\\Raikou\\AppData\\Local\\Temp\\ipykernel_11592\\2694455489.py:40: FutureWarning: DataFrame.applymap has been deprecated. Use DataFrame.map instead.\n",
      "  aqi_col = pm25_cols.applymap(lambda x: 'Good' if x < 12\n",
      "C:\\Users\\Raikou\\AppData\\Local\\Temp\\ipykernel_11592\\2694455489.py:46: FutureWarning: DataFrame.applymap has been deprecated. Use DataFrame.map instead.\n",
      "  pm25_category_col = pm25_cols.applymap(lambda x: '< 12.00' if x < 12.00\n",
      "C:\\Users\\Raikou\\AppData\\Local\\Temp\\ipykernel_11592\\2694455489.py:53: FutureWarning: DataFrame.applymap has been deprecated. Use DataFrame.map instead.\n",
      "  meso_west_category_col = pm25_cols.applymap(lambda x: '< 2.00' if x < 2.00\n"
     ]
    },
    {
     "name": "stdout",
     "output_type": "stream",
     "text": [
      "Groomed: BUS03_2023_01.csv\n"
     ]
    },
    {
     "name": "stderr",
     "output_type": "stream",
     "text": [
      "C:\\Users\\Raikou\\AppData\\Local\\Temp\\ipykernel_11592\\2694455489.py:40: FutureWarning: DataFrame.applymap has been deprecated. Use DataFrame.map instead.\n",
      "  aqi_col = pm25_cols.applymap(lambda x: 'Good' if x < 12\n",
      "C:\\Users\\Raikou\\AppData\\Local\\Temp\\ipykernel_11592\\2694455489.py:46: FutureWarning: DataFrame.applymap has been deprecated. Use DataFrame.map instead.\n",
      "  pm25_category_col = pm25_cols.applymap(lambda x: '< 12.00' if x < 12.00\n",
      "C:\\Users\\Raikou\\AppData\\Local\\Temp\\ipykernel_11592\\2694455489.py:53: FutureWarning: DataFrame.applymap has been deprecated. Use DataFrame.map instead.\n",
      "  meso_west_category_col = pm25_cols.applymap(lambda x: '< 2.00' if x < 2.00\n"
     ]
    },
    {
     "name": "stdout",
     "output_type": "stream",
     "text": [
      "Groomed: BUS03_2023_02.csv\n"
     ]
    },
    {
     "name": "stderr",
     "output_type": "stream",
     "text": [
      "C:\\Users\\Raikou\\AppData\\Local\\Temp\\ipykernel_11592\\2694455489.py:40: FutureWarning: DataFrame.applymap has been deprecated. Use DataFrame.map instead.\n",
      "  aqi_col = pm25_cols.applymap(lambda x: 'Good' if x < 12\n",
      "C:\\Users\\Raikou\\AppData\\Local\\Temp\\ipykernel_11592\\2694455489.py:46: FutureWarning: DataFrame.applymap has been deprecated. Use DataFrame.map instead.\n",
      "  pm25_category_col = pm25_cols.applymap(lambda x: '< 12.00' if x < 12.00\n",
      "C:\\Users\\Raikou\\AppData\\Local\\Temp\\ipykernel_11592\\2694455489.py:53: FutureWarning: DataFrame.applymap has been deprecated. Use DataFrame.map instead.\n",
      "  meso_west_category_col = pm25_cols.applymap(lambda x: '< 2.00' if x < 2.00\n"
     ]
    },
    {
     "name": "stdout",
     "output_type": "stream",
     "text": [
      "Groomed: BUS03_2023_03.csv\n"
     ]
    },
    {
     "name": "stderr",
     "output_type": "stream",
     "text": [
      "C:\\Users\\Raikou\\AppData\\Local\\Temp\\ipykernel_11592\\2694455489.py:40: FutureWarning: DataFrame.applymap has been deprecated. Use DataFrame.map instead.\n",
      "  aqi_col = pm25_cols.applymap(lambda x: 'Good' if x < 12\n",
      "C:\\Users\\Raikou\\AppData\\Local\\Temp\\ipykernel_11592\\2694455489.py:46: FutureWarning: DataFrame.applymap has been deprecated. Use DataFrame.map instead.\n",
      "  pm25_category_col = pm25_cols.applymap(lambda x: '< 12.00' if x < 12.00\n",
      "C:\\Users\\Raikou\\AppData\\Local\\Temp\\ipykernel_11592\\2694455489.py:53: FutureWarning: DataFrame.applymap has been deprecated. Use DataFrame.map instead.\n",
      "  meso_west_category_col = pm25_cols.applymap(lambda x: '< 2.00' if x < 2.00\n"
     ]
    },
    {
     "name": "stdout",
     "output_type": "stream",
     "text": [
      "Groomed: BUS03_2023_04.csv\n"
     ]
    },
    {
     "name": "stderr",
     "output_type": "stream",
     "text": [
      "C:\\Users\\Raikou\\AppData\\Local\\Temp\\ipykernel_11592\\2694455489.py:40: FutureWarning: DataFrame.applymap has been deprecated. Use DataFrame.map instead.\n",
      "  aqi_col = pm25_cols.applymap(lambda x: 'Good' if x < 12\n",
      "C:\\Users\\Raikou\\AppData\\Local\\Temp\\ipykernel_11592\\2694455489.py:46: FutureWarning: DataFrame.applymap has been deprecated. Use DataFrame.map instead.\n",
      "  pm25_category_col = pm25_cols.applymap(lambda x: '< 12.00' if x < 12.00\n",
      "C:\\Users\\Raikou\\AppData\\Local\\Temp\\ipykernel_11592\\2694455489.py:53: FutureWarning: DataFrame.applymap has been deprecated. Use DataFrame.map instead.\n",
      "  meso_west_category_col = pm25_cols.applymap(lambda x: '< 2.00' if x < 2.00\n"
     ]
    },
    {
     "name": "stdout",
     "output_type": "stream",
     "text": [
      "Groomed: BUS03_2023_05.csv\n"
     ]
    },
    {
     "name": "stderr",
     "output_type": "stream",
     "text": [
      "C:\\Users\\Raikou\\AppData\\Local\\Temp\\ipykernel_11592\\2694455489.py:40: FutureWarning: DataFrame.applymap has been deprecated. Use DataFrame.map instead.\n",
      "  aqi_col = pm25_cols.applymap(lambda x: 'Good' if x < 12\n",
      "C:\\Users\\Raikou\\AppData\\Local\\Temp\\ipykernel_11592\\2694455489.py:46: FutureWarning: DataFrame.applymap has been deprecated. Use DataFrame.map instead.\n",
      "  pm25_category_col = pm25_cols.applymap(lambda x: '< 12.00' if x < 12.00\n",
      "C:\\Users\\Raikou\\AppData\\Local\\Temp\\ipykernel_11592\\2694455489.py:53: FutureWarning: DataFrame.applymap has been deprecated. Use DataFrame.map instead.\n",
      "  meso_west_category_col = pm25_cols.applymap(lambda x: '< 2.00' if x < 2.00\n"
     ]
    },
    {
     "name": "stdout",
     "output_type": "stream",
     "text": [
      "Groomed: BUS03_2023_06.csv\n"
     ]
    },
    {
     "name": "stderr",
     "output_type": "stream",
     "text": [
      "C:\\Users\\Raikou\\AppData\\Local\\Temp\\ipykernel_11592\\2694455489.py:40: FutureWarning: DataFrame.applymap has been deprecated. Use DataFrame.map instead.\n",
      "  aqi_col = pm25_cols.applymap(lambda x: 'Good' if x < 12\n",
      "C:\\Users\\Raikou\\AppData\\Local\\Temp\\ipykernel_11592\\2694455489.py:46: FutureWarning: DataFrame.applymap has been deprecated. Use DataFrame.map instead.\n",
      "  pm25_category_col = pm25_cols.applymap(lambda x: '< 12.00' if x < 12.00\n",
      "C:\\Users\\Raikou\\AppData\\Local\\Temp\\ipykernel_11592\\2694455489.py:53: FutureWarning: DataFrame.applymap has been deprecated. Use DataFrame.map instead.\n",
      "  meso_west_category_col = pm25_cols.applymap(lambda x: '< 2.00' if x < 2.00\n"
     ]
    },
    {
     "name": "stdout",
     "output_type": "stream",
     "text": [
      "Groomed: BUS03_2023_07.csv\n"
     ]
    },
    {
     "name": "stderr",
     "output_type": "stream",
     "text": [
      "C:\\Users\\Raikou\\AppData\\Local\\Temp\\ipykernel_11592\\2694455489.py:40: FutureWarning: DataFrame.applymap has been deprecated. Use DataFrame.map instead.\n",
      "  aqi_col = pm25_cols.applymap(lambda x: 'Good' if x < 12\n",
      "C:\\Users\\Raikou\\AppData\\Local\\Temp\\ipykernel_11592\\2694455489.py:46: FutureWarning: DataFrame.applymap has been deprecated. Use DataFrame.map instead.\n",
      "  pm25_category_col = pm25_cols.applymap(lambda x: '< 12.00' if x < 12.00\n",
      "C:\\Users\\Raikou\\AppData\\Local\\Temp\\ipykernel_11592\\2694455489.py:53: FutureWarning: DataFrame.applymap has been deprecated. Use DataFrame.map instead.\n",
      "  meso_west_category_col = pm25_cols.applymap(lambda x: '< 2.00' if x < 2.00\n"
     ]
    },
    {
     "name": "stdout",
     "output_type": "stream",
     "text": [
      "Groomed: BUS03_2023_08.csv\n"
     ]
    },
    {
     "name": "stderr",
     "output_type": "stream",
     "text": [
      "C:\\Users\\Raikou\\AppData\\Local\\Temp\\ipykernel_11592\\2694455489.py:40: FutureWarning: DataFrame.applymap has been deprecated. Use DataFrame.map instead.\n",
      "  aqi_col = pm25_cols.applymap(lambda x: 'Good' if x < 12\n",
      "C:\\Users\\Raikou\\AppData\\Local\\Temp\\ipykernel_11592\\2694455489.py:46: FutureWarning: DataFrame.applymap has been deprecated. Use DataFrame.map instead.\n",
      "  pm25_category_col = pm25_cols.applymap(lambda x: '< 12.00' if x < 12.00\n",
      "C:\\Users\\Raikou\\AppData\\Local\\Temp\\ipykernel_11592\\2694455489.py:53: FutureWarning: DataFrame.applymap has been deprecated. Use DataFrame.map instead.\n",
      "  meso_west_category_col = pm25_cols.applymap(lambda x: '< 2.00' if x < 2.00\n"
     ]
    },
    {
     "name": "stdout",
     "output_type": "stream",
     "text": [
      "Groomed: BUS03_2023_09.csv\n"
     ]
    },
    {
     "name": "stderr",
     "output_type": "stream",
     "text": [
      "C:\\Users\\Raikou\\AppData\\Local\\Temp\\ipykernel_11592\\2694455489.py:40: FutureWarning: DataFrame.applymap has been deprecated. Use DataFrame.map instead.\n",
      "  aqi_col = pm25_cols.applymap(lambda x: 'Good' if x < 12\n",
      "C:\\Users\\Raikou\\AppData\\Local\\Temp\\ipykernel_11592\\2694455489.py:46: FutureWarning: DataFrame.applymap has been deprecated. Use DataFrame.map instead.\n",
      "  pm25_category_col = pm25_cols.applymap(lambda x: '< 12.00' if x < 12.00\n",
      "C:\\Users\\Raikou\\AppData\\Local\\Temp\\ipykernel_11592\\2694455489.py:53: FutureWarning: DataFrame.applymap has been deprecated. Use DataFrame.map instead.\n",
      "  meso_west_category_col = pm25_cols.applymap(lambda x: '< 2.00' if x < 2.00\n"
     ]
    },
    {
     "name": "stdout",
     "output_type": "stream",
     "text": [
      "Groomed: BUS04_2023_05.csv\n"
     ]
    },
    {
     "name": "stderr",
     "output_type": "stream",
     "text": [
      "C:\\Users\\Raikou\\AppData\\Local\\Temp\\ipykernel_11592\\2694455489.py:40: FutureWarning: DataFrame.applymap has been deprecated. Use DataFrame.map instead.\n",
      "  aqi_col = pm25_cols.applymap(lambda x: 'Good' if x < 12\n",
      "C:\\Users\\Raikou\\AppData\\Local\\Temp\\ipykernel_11592\\2694455489.py:46: FutureWarning: DataFrame.applymap has been deprecated. Use DataFrame.map instead.\n",
      "  pm25_category_col = pm25_cols.applymap(lambda x: '< 12.00' if x < 12.00\n",
      "C:\\Users\\Raikou\\AppData\\Local\\Temp\\ipykernel_11592\\2694455489.py:53: FutureWarning: DataFrame.applymap has been deprecated. Use DataFrame.map instead.\n",
      "  meso_west_category_col = pm25_cols.applymap(lambda x: '< 2.00' if x < 2.00\n"
     ]
    },
    {
     "name": "stdout",
     "output_type": "stream",
     "text": [
      "Groomed: BUS04_2023_06.csv\n"
     ]
    },
    {
     "name": "stderr",
     "output_type": "stream",
     "text": [
      "C:\\Users\\Raikou\\AppData\\Local\\Temp\\ipykernel_11592\\2694455489.py:40: FutureWarning: DataFrame.applymap has been deprecated. Use DataFrame.map instead.\n",
      "  aqi_col = pm25_cols.applymap(lambda x: 'Good' if x < 12\n",
      "C:\\Users\\Raikou\\AppData\\Local\\Temp\\ipykernel_11592\\2694455489.py:46: FutureWarning: DataFrame.applymap has been deprecated. Use DataFrame.map instead.\n",
      "  pm25_category_col = pm25_cols.applymap(lambda x: '< 12.00' if x < 12.00\n",
      "C:\\Users\\Raikou\\AppData\\Local\\Temp\\ipykernel_11592\\2694455489.py:53: FutureWarning: DataFrame.applymap has been deprecated. Use DataFrame.map instead.\n",
      "  meso_west_category_col = pm25_cols.applymap(lambda x: '< 2.00' if x < 2.00\n"
     ]
    },
    {
     "name": "stdout",
     "output_type": "stream",
     "text": [
      "Groomed: BUS04_2023_07.csv\n"
     ]
    },
    {
     "name": "stderr",
     "output_type": "stream",
     "text": [
      "C:\\Users\\Raikou\\AppData\\Local\\Temp\\ipykernel_11592\\2694455489.py:40: FutureWarning: DataFrame.applymap has been deprecated. Use DataFrame.map instead.\n",
      "  aqi_col = pm25_cols.applymap(lambda x: 'Good' if x < 12\n",
      "C:\\Users\\Raikou\\AppData\\Local\\Temp\\ipykernel_11592\\2694455489.py:46: FutureWarning: DataFrame.applymap has been deprecated. Use DataFrame.map instead.\n",
      "  pm25_category_col = pm25_cols.applymap(lambda x: '< 12.00' if x < 12.00\n",
      "C:\\Users\\Raikou\\AppData\\Local\\Temp\\ipykernel_11592\\2694455489.py:53: FutureWarning: DataFrame.applymap has been deprecated. Use DataFrame.map instead.\n",
      "  meso_west_category_col = pm25_cols.applymap(lambda x: '< 2.00' if x < 2.00\n"
     ]
    },
    {
     "name": "stdout",
     "output_type": "stream",
     "text": [
      "Groomed: BUS04_2023_08.csv\n"
     ]
    },
    {
     "name": "stderr",
     "output_type": "stream",
     "text": [
      "C:\\Users\\Raikou\\AppData\\Local\\Temp\\ipykernel_11592\\2694455489.py:40: FutureWarning: DataFrame.applymap has been deprecated. Use DataFrame.map instead.\n",
      "  aqi_col = pm25_cols.applymap(lambda x: 'Good' if x < 12\n",
      "C:\\Users\\Raikou\\AppData\\Local\\Temp\\ipykernel_11592\\2694455489.py:46: FutureWarning: DataFrame.applymap has been deprecated. Use DataFrame.map instead.\n",
      "  pm25_category_col = pm25_cols.applymap(lambda x: '< 12.00' if x < 12.00\n",
      "C:\\Users\\Raikou\\AppData\\Local\\Temp\\ipykernel_11592\\2694455489.py:53: FutureWarning: DataFrame.applymap has been deprecated. Use DataFrame.map instead.\n",
      "  meso_west_category_col = pm25_cols.applymap(lambda x: '< 2.00' if x < 2.00\n"
     ]
    },
    {
     "name": "stdout",
     "output_type": "stream",
     "text": [
      "Groomed: BUS04_2023_09.csv\n"
     ]
    },
    {
     "name": "stderr",
     "output_type": "stream",
     "text": [
      "C:\\Users\\Raikou\\AppData\\Local\\Temp\\ipykernel_11592\\2694455489.py:40: FutureWarning: DataFrame.applymap has been deprecated. Use DataFrame.map instead.\n",
      "  aqi_col = pm25_cols.applymap(lambda x: 'Good' if x < 12\n",
      "C:\\Users\\Raikou\\AppData\\Local\\Temp\\ipykernel_11592\\2694455489.py:46: FutureWarning: DataFrame.applymap has been deprecated. Use DataFrame.map instead.\n",
      "  pm25_category_col = pm25_cols.applymap(lambda x: '< 12.00' if x < 12.00\n",
      "C:\\Users\\Raikou\\AppData\\Local\\Temp\\ipykernel_11592\\2694455489.py:53: FutureWarning: DataFrame.applymap has been deprecated. Use DataFrame.map instead.\n",
      "  meso_west_category_col = pm25_cols.applymap(lambda x: '< 2.00' if x < 2.00\n"
     ]
    },
    {
     "name": "stdout",
     "output_type": "stream",
     "text": [
      "Groomed: BUS05_2023_07.csv\n"
     ]
    },
    {
     "name": "stderr",
     "output_type": "stream",
     "text": [
      "C:\\Users\\Raikou\\AppData\\Local\\Temp\\ipykernel_11592\\2694455489.py:40: FutureWarning: DataFrame.applymap has been deprecated. Use DataFrame.map instead.\n",
      "  aqi_col = pm25_cols.applymap(lambda x: 'Good' if x < 12\n",
      "C:\\Users\\Raikou\\AppData\\Local\\Temp\\ipykernel_11592\\2694455489.py:46: FutureWarning: DataFrame.applymap has been deprecated. Use DataFrame.map instead.\n",
      "  pm25_category_col = pm25_cols.applymap(lambda x: '< 12.00' if x < 12.00\n",
      "C:\\Users\\Raikou\\AppData\\Local\\Temp\\ipykernel_11592\\2694455489.py:53: FutureWarning: DataFrame.applymap has been deprecated. Use DataFrame.map instead.\n",
      "  meso_west_category_col = pm25_cols.applymap(lambda x: '< 2.00' if x < 2.00\n"
     ]
    },
    {
     "name": "stdout",
     "output_type": "stream",
     "text": [
      "Groomed: BUS05_2023_08.csv\n"
     ]
    },
    {
     "name": "stderr",
     "output_type": "stream",
     "text": [
      "C:\\Users\\Raikou\\AppData\\Local\\Temp\\ipykernel_11592\\2694455489.py:40: FutureWarning: DataFrame.applymap has been deprecated. Use DataFrame.map instead.\n",
      "  aqi_col = pm25_cols.applymap(lambda x: 'Good' if x < 12\n",
      "C:\\Users\\Raikou\\AppData\\Local\\Temp\\ipykernel_11592\\2694455489.py:46: FutureWarning: DataFrame.applymap has been deprecated. Use DataFrame.map instead.\n",
      "  pm25_category_col = pm25_cols.applymap(lambda x: '< 12.00' if x < 12.00\n",
      "C:\\Users\\Raikou\\AppData\\Local\\Temp\\ipykernel_11592\\2694455489.py:53: FutureWarning: DataFrame.applymap has been deprecated. Use DataFrame.map instead.\n",
      "  meso_west_category_col = pm25_cols.applymap(lambda x: '< 2.00' if x < 2.00\n"
     ]
    },
    {
     "name": "stdout",
     "output_type": "stream",
     "text": [
      "Groomed: BUS05_2023_09.csv\n"
     ]
    },
    {
     "name": "stderr",
     "output_type": "stream",
     "text": [
      "C:\\Users\\Raikou\\AppData\\Local\\Temp\\ipykernel_11592\\2694455489.py:40: FutureWarning: DataFrame.applymap has been deprecated. Use DataFrame.map instead.\n",
      "  aqi_col = pm25_cols.applymap(lambda x: 'Good' if x < 12\n",
      "C:\\Users\\Raikou\\AppData\\Local\\Temp\\ipykernel_11592\\2694455489.py:46: FutureWarning: DataFrame.applymap has been deprecated. Use DataFrame.map instead.\n",
      "  pm25_category_col = pm25_cols.applymap(lambda x: '< 12.00' if x < 12.00\n",
      "C:\\Users\\Raikou\\AppData\\Local\\Temp\\ipykernel_11592\\2694455489.py:53: FutureWarning: DataFrame.applymap has been deprecated. Use DataFrame.map instead.\n",
      "  meso_west_category_col = pm25_cols.applymap(lambda x: '< 2.00' if x < 2.00\n"
     ]
    },
    {
     "name": "stdout",
     "output_type": "stream",
     "text": [
      "Groomed: BUS06_2023_09.csv\n"
     ]
    },
    {
     "name": "stderr",
     "output_type": "stream",
     "text": [
      "C:\\Users\\Raikou\\AppData\\Local\\Temp\\ipykernel_11592\\2694455489.py:40: FutureWarning: DataFrame.applymap has been deprecated. Use DataFrame.map instead.\n",
      "  aqi_col = pm25_cols.applymap(lambda x: 'Good' if x < 12\n",
      "C:\\Users\\Raikou\\AppData\\Local\\Temp\\ipykernel_11592\\2694455489.py:46: FutureWarning: DataFrame.applymap has been deprecated. Use DataFrame.map instead.\n",
      "  pm25_category_col = pm25_cols.applymap(lambda x: '< 12.00' if x < 12.00\n",
      "C:\\Users\\Raikou\\AppData\\Local\\Temp\\ipykernel_11592\\2694455489.py:53: FutureWarning: DataFrame.applymap has been deprecated. Use DataFrame.map instead.\n",
      "  meso_west_category_col = pm25_cols.applymap(lambda x: '< 2.00' if x < 2.00\n"
     ]
    },
    {
     "name": "stdout",
     "output_type": "stream",
     "text": [
      "Groomed: BUS07_2023_09.csv\n"
     ]
    },
    {
     "name": "stderr",
     "output_type": "stream",
     "text": [
      "C:\\Users\\Raikou\\AppData\\Local\\Temp\\ipykernel_11592\\2694455489.py:40: FutureWarning: DataFrame.applymap has been deprecated. Use DataFrame.map instead.\n",
      "  aqi_col = pm25_cols.applymap(lambda x: 'Good' if x < 12\n",
      "C:\\Users\\Raikou\\AppData\\Local\\Temp\\ipykernel_11592\\2694455489.py:46: FutureWarning: DataFrame.applymap has been deprecated. Use DataFrame.map instead.\n",
      "  pm25_category_col = pm25_cols.applymap(lambda x: '< 12.00' if x < 12.00\n",
      "C:\\Users\\Raikou\\AppData\\Local\\Temp\\ipykernel_11592\\2694455489.py:53: FutureWarning: DataFrame.applymap has been deprecated. Use DataFrame.map instead.\n",
      "  meso_west_category_col = pm25_cols.applymap(lambda x: '< 2.00' if x < 2.00\n"
     ]
    },
    {
     "name": "stdout",
     "output_type": "stream",
     "text": [
      "Groomed: TRX01_2018_11.csv\n"
     ]
    },
    {
     "name": "stderr",
     "output_type": "stream",
     "text": [
      "C:\\Users\\Raikou\\AppData\\Local\\Temp\\ipykernel_11592\\2694455489.py:40: FutureWarning: DataFrame.applymap has been deprecated. Use DataFrame.map instead.\n",
      "  aqi_col = pm25_cols.applymap(lambda x: 'Good' if x < 12\n",
      "C:\\Users\\Raikou\\AppData\\Local\\Temp\\ipykernel_11592\\2694455489.py:46: FutureWarning: DataFrame.applymap has been deprecated. Use DataFrame.map instead.\n",
      "  pm25_category_col = pm25_cols.applymap(lambda x: '< 12.00' if x < 12.00\n",
      "C:\\Users\\Raikou\\AppData\\Local\\Temp\\ipykernel_11592\\2694455489.py:53: FutureWarning: DataFrame.applymap has been deprecated. Use DataFrame.map instead.\n",
      "  meso_west_category_col = pm25_cols.applymap(lambda x: '< 2.00' if x < 2.00\n"
     ]
    },
    {
     "name": "stdout",
     "output_type": "stream",
     "text": [
      "Groomed: TRX01_2018_12.csv\n"
     ]
    },
    {
     "name": "stderr",
     "output_type": "stream",
     "text": [
      "C:\\Users\\Raikou\\AppData\\Local\\Temp\\ipykernel_11592\\2694455489.py:40: FutureWarning: DataFrame.applymap has been deprecated. Use DataFrame.map instead.\n",
      "  aqi_col = pm25_cols.applymap(lambda x: 'Good' if x < 12\n",
      "C:\\Users\\Raikou\\AppData\\Local\\Temp\\ipykernel_11592\\2694455489.py:46: FutureWarning: DataFrame.applymap has been deprecated. Use DataFrame.map instead.\n",
      "  pm25_category_col = pm25_cols.applymap(lambda x: '< 12.00' if x < 12.00\n",
      "C:\\Users\\Raikou\\AppData\\Local\\Temp\\ipykernel_11592\\2694455489.py:53: FutureWarning: DataFrame.applymap has been deprecated. Use DataFrame.map instead.\n",
      "  meso_west_category_col = pm25_cols.applymap(lambda x: '< 2.00' if x < 2.00\n"
     ]
    },
    {
     "name": "stdout",
     "output_type": "stream",
     "text": [
      "Groomed: TRX01_2019_01.csv\n"
     ]
    },
    {
     "name": "stderr",
     "output_type": "stream",
     "text": [
      "C:\\Users\\Raikou\\AppData\\Local\\Temp\\ipykernel_11592\\2694455489.py:40: FutureWarning: DataFrame.applymap has been deprecated. Use DataFrame.map instead.\n",
      "  aqi_col = pm25_cols.applymap(lambda x: 'Good' if x < 12\n",
      "C:\\Users\\Raikou\\AppData\\Local\\Temp\\ipykernel_11592\\2694455489.py:46: FutureWarning: DataFrame.applymap has been deprecated. Use DataFrame.map instead.\n",
      "  pm25_category_col = pm25_cols.applymap(lambda x: '< 12.00' if x < 12.00\n",
      "C:\\Users\\Raikou\\AppData\\Local\\Temp\\ipykernel_11592\\2694455489.py:53: FutureWarning: DataFrame.applymap has been deprecated. Use DataFrame.map instead.\n",
      "  meso_west_category_col = pm25_cols.applymap(lambda x: '< 2.00' if x < 2.00\n"
     ]
    },
    {
     "name": "stdout",
     "output_type": "stream",
     "text": [
      "Groomed: TRX01_2019_02.csv\n"
     ]
    },
    {
     "name": "stderr",
     "output_type": "stream",
     "text": [
      "C:\\Users\\Raikou\\AppData\\Local\\Temp\\ipykernel_11592\\2694455489.py:40: FutureWarning: DataFrame.applymap has been deprecated. Use DataFrame.map instead.\n",
      "  aqi_col = pm25_cols.applymap(lambda x: 'Good' if x < 12\n",
      "C:\\Users\\Raikou\\AppData\\Local\\Temp\\ipykernel_11592\\2694455489.py:46: FutureWarning: DataFrame.applymap has been deprecated. Use DataFrame.map instead.\n",
      "  pm25_category_col = pm25_cols.applymap(lambda x: '< 12.00' if x < 12.00\n",
      "C:\\Users\\Raikou\\AppData\\Local\\Temp\\ipykernel_11592\\2694455489.py:53: FutureWarning: DataFrame.applymap has been deprecated. Use DataFrame.map instead.\n",
      "  meso_west_category_col = pm25_cols.applymap(lambda x: '< 2.00' if x < 2.00\n"
     ]
    },
    {
     "name": "stdout",
     "output_type": "stream",
     "text": [
      "Groomed: TRX01_2019_03.csv\n"
     ]
    },
    {
     "name": "stderr",
     "output_type": "stream",
     "text": [
      "C:\\Users\\Raikou\\AppData\\Local\\Temp\\ipykernel_11592\\2694455489.py:40: FutureWarning: DataFrame.applymap has been deprecated. Use DataFrame.map instead.\n",
      "  aqi_col = pm25_cols.applymap(lambda x: 'Good' if x < 12\n",
      "C:\\Users\\Raikou\\AppData\\Local\\Temp\\ipykernel_11592\\2694455489.py:46: FutureWarning: DataFrame.applymap has been deprecated. Use DataFrame.map instead.\n",
      "  pm25_category_col = pm25_cols.applymap(lambda x: '< 12.00' if x < 12.00\n",
      "C:\\Users\\Raikou\\AppData\\Local\\Temp\\ipykernel_11592\\2694455489.py:53: FutureWarning: DataFrame.applymap has been deprecated. Use DataFrame.map instead.\n",
      "  meso_west_category_col = pm25_cols.applymap(lambda x: '< 2.00' if x < 2.00\n"
     ]
    },
    {
     "name": "stdout",
     "output_type": "stream",
     "text": [
      "Groomed: TRX01_2019_04.csv\n"
     ]
    },
    {
     "name": "stderr",
     "output_type": "stream",
     "text": [
      "C:\\Users\\Raikou\\AppData\\Local\\Temp\\ipykernel_11592\\2694455489.py:40: FutureWarning: DataFrame.applymap has been deprecated. Use DataFrame.map instead.\n",
      "  aqi_col = pm25_cols.applymap(lambda x: 'Good' if x < 12\n",
      "C:\\Users\\Raikou\\AppData\\Local\\Temp\\ipykernel_11592\\2694455489.py:46: FutureWarning: DataFrame.applymap has been deprecated. Use DataFrame.map instead.\n",
      "  pm25_category_col = pm25_cols.applymap(lambda x: '< 12.00' if x < 12.00\n",
      "C:\\Users\\Raikou\\AppData\\Local\\Temp\\ipykernel_11592\\2694455489.py:53: FutureWarning: DataFrame.applymap has been deprecated. Use DataFrame.map instead.\n",
      "  meso_west_category_col = pm25_cols.applymap(lambda x: '< 2.00' if x < 2.00\n"
     ]
    },
    {
     "name": "stdout",
     "output_type": "stream",
     "text": [
      "Groomed: TRX01_2019_05.csv\n"
     ]
    },
    {
     "name": "stderr",
     "output_type": "stream",
     "text": [
      "C:\\Users\\Raikou\\AppData\\Local\\Temp\\ipykernel_11592\\2694455489.py:40: FutureWarning: DataFrame.applymap has been deprecated. Use DataFrame.map instead.\n",
      "  aqi_col = pm25_cols.applymap(lambda x: 'Good' if x < 12\n",
      "C:\\Users\\Raikou\\AppData\\Local\\Temp\\ipykernel_11592\\2694455489.py:46: FutureWarning: DataFrame.applymap has been deprecated. Use DataFrame.map instead.\n",
      "  pm25_category_col = pm25_cols.applymap(lambda x: '< 12.00' if x < 12.00\n",
      "C:\\Users\\Raikou\\AppData\\Local\\Temp\\ipykernel_11592\\2694455489.py:53: FutureWarning: DataFrame.applymap has been deprecated. Use DataFrame.map instead.\n",
      "  meso_west_category_col = pm25_cols.applymap(lambda x: '< 2.00' if x < 2.00\n"
     ]
    },
    {
     "name": "stdout",
     "output_type": "stream",
     "text": [
      "Groomed: TRX01_2019_06.csv\n"
     ]
    },
    {
     "name": "stderr",
     "output_type": "stream",
     "text": [
      "C:\\Users\\Raikou\\AppData\\Local\\Temp\\ipykernel_11592\\2694455489.py:40: FutureWarning: DataFrame.applymap has been deprecated. Use DataFrame.map instead.\n",
      "  aqi_col = pm25_cols.applymap(lambda x: 'Good' if x < 12\n",
      "C:\\Users\\Raikou\\AppData\\Local\\Temp\\ipykernel_11592\\2694455489.py:46: FutureWarning: DataFrame.applymap has been deprecated. Use DataFrame.map instead.\n",
      "  pm25_category_col = pm25_cols.applymap(lambda x: '< 12.00' if x < 12.00\n",
      "C:\\Users\\Raikou\\AppData\\Local\\Temp\\ipykernel_11592\\2694455489.py:53: FutureWarning: DataFrame.applymap has been deprecated. Use DataFrame.map instead.\n",
      "  meso_west_category_col = pm25_cols.applymap(lambda x: '< 2.00' if x < 2.00\n"
     ]
    },
    {
     "name": "stdout",
     "output_type": "stream",
     "text": [
      "Groomed: TRX01_2019_07.csv\n"
     ]
    },
    {
     "name": "stderr",
     "output_type": "stream",
     "text": [
      "C:\\Users\\Raikou\\AppData\\Local\\Temp\\ipykernel_11592\\2694455489.py:40: FutureWarning: DataFrame.applymap has been deprecated. Use DataFrame.map instead.\n",
      "  aqi_col = pm25_cols.applymap(lambda x: 'Good' if x < 12\n",
      "C:\\Users\\Raikou\\AppData\\Local\\Temp\\ipykernel_11592\\2694455489.py:46: FutureWarning: DataFrame.applymap has been deprecated. Use DataFrame.map instead.\n",
      "  pm25_category_col = pm25_cols.applymap(lambda x: '< 12.00' if x < 12.00\n",
      "C:\\Users\\Raikou\\AppData\\Local\\Temp\\ipykernel_11592\\2694455489.py:53: FutureWarning: DataFrame.applymap has been deprecated. Use DataFrame.map instead.\n",
      "  meso_west_category_col = pm25_cols.applymap(lambda x: '< 2.00' if x < 2.00\n"
     ]
    },
    {
     "name": "stdout",
     "output_type": "stream",
     "text": [
      "Groomed: TRX01_2019_08.csv\n"
     ]
    },
    {
     "name": "stderr",
     "output_type": "stream",
     "text": [
      "C:\\Users\\Raikou\\AppData\\Local\\Temp\\ipykernel_11592\\2694455489.py:40: FutureWarning: DataFrame.applymap has been deprecated. Use DataFrame.map instead.\n",
      "  aqi_col = pm25_cols.applymap(lambda x: 'Good' if x < 12\n",
      "C:\\Users\\Raikou\\AppData\\Local\\Temp\\ipykernel_11592\\2694455489.py:46: FutureWarning: DataFrame.applymap has been deprecated. Use DataFrame.map instead.\n",
      "  pm25_category_col = pm25_cols.applymap(lambda x: '< 12.00' if x < 12.00\n",
      "C:\\Users\\Raikou\\AppData\\Local\\Temp\\ipykernel_11592\\2694455489.py:53: FutureWarning: DataFrame.applymap has been deprecated. Use DataFrame.map instead.\n",
      "  meso_west_category_col = pm25_cols.applymap(lambda x: '< 2.00' if x < 2.00\n"
     ]
    },
    {
     "name": "stdout",
     "output_type": "stream",
     "text": [
      "Groomed: TRX01_2019_09.csv\n"
     ]
    },
    {
     "name": "stderr",
     "output_type": "stream",
     "text": [
      "C:\\Users\\Raikou\\AppData\\Local\\Temp\\ipykernel_11592\\2694455489.py:40: FutureWarning: DataFrame.applymap has been deprecated. Use DataFrame.map instead.\n",
      "  aqi_col = pm25_cols.applymap(lambda x: 'Good' if x < 12\n",
      "C:\\Users\\Raikou\\AppData\\Local\\Temp\\ipykernel_11592\\2694455489.py:46: FutureWarning: DataFrame.applymap has been deprecated. Use DataFrame.map instead.\n",
      "  pm25_category_col = pm25_cols.applymap(lambda x: '< 12.00' if x < 12.00\n",
      "C:\\Users\\Raikou\\AppData\\Local\\Temp\\ipykernel_11592\\2694455489.py:53: FutureWarning: DataFrame.applymap has been deprecated. Use DataFrame.map instead.\n",
      "  meso_west_category_col = pm25_cols.applymap(lambda x: '< 2.00' if x < 2.00\n"
     ]
    },
    {
     "name": "stdout",
     "output_type": "stream",
     "text": [
      "Groomed: TRX01_2019_10.csv\n"
     ]
    },
    {
     "name": "stderr",
     "output_type": "stream",
     "text": [
      "C:\\Users\\Raikou\\AppData\\Local\\Temp\\ipykernel_11592\\2694455489.py:40: FutureWarning: DataFrame.applymap has been deprecated. Use DataFrame.map instead.\n",
      "  aqi_col = pm25_cols.applymap(lambda x: 'Good' if x < 12\n",
      "C:\\Users\\Raikou\\AppData\\Local\\Temp\\ipykernel_11592\\2694455489.py:46: FutureWarning: DataFrame.applymap has been deprecated. Use DataFrame.map instead.\n",
      "  pm25_category_col = pm25_cols.applymap(lambda x: '< 12.00' if x < 12.00\n",
      "C:\\Users\\Raikou\\AppData\\Local\\Temp\\ipykernel_11592\\2694455489.py:53: FutureWarning: DataFrame.applymap has been deprecated. Use DataFrame.map instead.\n",
      "  meso_west_category_col = pm25_cols.applymap(lambda x: '< 2.00' if x < 2.00\n"
     ]
    },
    {
     "name": "stdout",
     "output_type": "stream",
     "text": [
      "Groomed: TRX01_2019_11.csv\n"
     ]
    },
    {
     "name": "stderr",
     "output_type": "stream",
     "text": [
      "C:\\Users\\Raikou\\AppData\\Local\\Temp\\ipykernel_11592\\2694455489.py:40: FutureWarning: DataFrame.applymap has been deprecated. Use DataFrame.map instead.\n",
      "  aqi_col = pm25_cols.applymap(lambda x: 'Good' if x < 12\n",
      "C:\\Users\\Raikou\\AppData\\Local\\Temp\\ipykernel_11592\\2694455489.py:46: FutureWarning: DataFrame.applymap has been deprecated. Use DataFrame.map instead.\n",
      "  pm25_category_col = pm25_cols.applymap(lambda x: '< 12.00' if x < 12.00\n",
      "C:\\Users\\Raikou\\AppData\\Local\\Temp\\ipykernel_11592\\2694455489.py:53: FutureWarning: DataFrame.applymap has been deprecated. Use DataFrame.map instead.\n",
      "  meso_west_category_col = pm25_cols.applymap(lambda x: '< 2.00' if x < 2.00\n"
     ]
    },
    {
     "name": "stdout",
     "output_type": "stream",
     "text": [
      "Groomed: TRX01_2019_12.csv\n"
     ]
    },
    {
     "name": "stderr",
     "output_type": "stream",
     "text": [
      "C:\\Users\\Raikou\\AppData\\Local\\Temp\\ipykernel_11592\\2694455489.py:40: FutureWarning: DataFrame.applymap has been deprecated. Use DataFrame.map instead.\n",
      "  aqi_col = pm25_cols.applymap(lambda x: 'Good' if x < 12\n",
      "C:\\Users\\Raikou\\AppData\\Local\\Temp\\ipykernel_11592\\2694455489.py:46: FutureWarning: DataFrame.applymap has been deprecated. Use DataFrame.map instead.\n",
      "  pm25_category_col = pm25_cols.applymap(lambda x: '< 12.00' if x < 12.00\n",
      "C:\\Users\\Raikou\\AppData\\Local\\Temp\\ipykernel_11592\\2694455489.py:53: FutureWarning: DataFrame.applymap has been deprecated. Use DataFrame.map instead.\n",
      "  meso_west_category_col = pm25_cols.applymap(lambda x: '< 2.00' if x < 2.00\n"
     ]
    },
    {
     "name": "stdout",
     "output_type": "stream",
     "text": [
      "Groomed: TRX01_2020_01.csv\n"
     ]
    },
    {
     "name": "stderr",
     "output_type": "stream",
     "text": [
      "C:\\Users\\Raikou\\AppData\\Local\\Temp\\ipykernel_11592\\2694455489.py:40: FutureWarning: DataFrame.applymap has been deprecated. Use DataFrame.map instead.\n",
      "  aqi_col = pm25_cols.applymap(lambda x: 'Good' if x < 12\n",
      "C:\\Users\\Raikou\\AppData\\Local\\Temp\\ipykernel_11592\\2694455489.py:46: FutureWarning: DataFrame.applymap has been deprecated. Use DataFrame.map instead.\n",
      "  pm25_category_col = pm25_cols.applymap(lambda x: '< 12.00' if x < 12.00\n",
      "C:\\Users\\Raikou\\AppData\\Local\\Temp\\ipykernel_11592\\2694455489.py:53: FutureWarning: DataFrame.applymap has been deprecated. Use DataFrame.map instead.\n",
      "  meso_west_category_col = pm25_cols.applymap(lambda x: '< 2.00' if x < 2.00\n"
     ]
    },
    {
     "name": "stdout",
     "output_type": "stream",
     "text": [
      "Groomed: TRX01_2020_02.csv\n"
     ]
    },
    {
     "name": "stderr",
     "output_type": "stream",
     "text": [
      "C:\\Users\\Raikou\\AppData\\Local\\Temp\\ipykernel_11592\\2694455489.py:40: FutureWarning: DataFrame.applymap has been deprecated. Use DataFrame.map instead.\n",
      "  aqi_col = pm25_cols.applymap(lambda x: 'Good' if x < 12\n",
      "C:\\Users\\Raikou\\AppData\\Local\\Temp\\ipykernel_11592\\2694455489.py:46: FutureWarning: DataFrame.applymap has been deprecated. Use DataFrame.map instead.\n",
      "  pm25_category_col = pm25_cols.applymap(lambda x: '< 12.00' if x < 12.00\n",
      "C:\\Users\\Raikou\\AppData\\Local\\Temp\\ipykernel_11592\\2694455489.py:53: FutureWarning: DataFrame.applymap has been deprecated. Use DataFrame.map instead.\n",
      "  meso_west_category_col = pm25_cols.applymap(lambda x: '< 2.00' if x < 2.00\n"
     ]
    },
    {
     "name": "stdout",
     "output_type": "stream",
     "text": [
      "Groomed: TRX01_2020_03.csv\n"
     ]
    },
    {
     "name": "stderr",
     "output_type": "stream",
     "text": [
      "C:\\Users\\Raikou\\AppData\\Local\\Temp\\ipykernel_11592\\2694455489.py:40: FutureWarning: DataFrame.applymap has been deprecated. Use DataFrame.map instead.\n",
      "  aqi_col = pm25_cols.applymap(lambda x: 'Good' if x < 12\n",
      "C:\\Users\\Raikou\\AppData\\Local\\Temp\\ipykernel_11592\\2694455489.py:46: FutureWarning: DataFrame.applymap has been deprecated. Use DataFrame.map instead.\n",
      "  pm25_category_col = pm25_cols.applymap(lambda x: '< 12.00' if x < 12.00\n",
      "C:\\Users\\Raikou\\AppData\\Local\\Temp\\ipykernel_11592\\2694455489.py:53: FutureWarning: DataFrame.applymap has been deprecated. Use DataFrame.map instead.\n",
      "  meso_west_category_col = pm25_cols.applymap(lambda x: '< 2.00' if x < 2.00\n"
     ]
    },
    {
     "name": "stdout",
     "output_type": "stream",
     "text": [
      "Groomed: TRX01_2020_04.csv\n"
     ]
    },
    {
     "name": "stderr",
     "output_type": "stream",
     "text": [
      "C:\\Users\\Raikou\\AppData\\Local\\Temp\\ipykernel_11592\\2694455489.py:40: FutureWarning: DataFrame.applymap has been deprecated. Use DataFrame.map instead.\n",
      "  aqi_col = pm25_cols.applymap(lambda x: 'Good' if x < 12\n",
      "C:\\Users\\Raikou\\AppData\\Local\\Temp\\ipykernel_11592\\2694455489.py:46: FutureWarning: DataFrame.applymap has been deprecated. Use DataFrame.map instead.\n",
      "  pm25_category_col = pm25_cols.applymap(lambda x: '< 12.00' if x < 12.00\n",
      "C:\\Users\\Raikou\\AppData\\Local\\Temp\\ipykernel_11592\\2694455489.py:53: FutureWarning: DataFrame.applymap has been deprecated. Use DataFrame.map instead.\n",
      "  meso_west_category_col = pm25_cols.applymap(lambda x: '< 2.00' if x < 2.00\n"
     ]
    },
    {
     "name": "stdout",
     "output_type": "stream",
     "text": [
      "Groomed: TRX01_2020_05.csv\n"
     ]
    },
    {
     "name": "stderr",
     "output_type": "stream",
     "text": [
      "C:\\Users\\Raikou\\AppData\\Local\\Temp\\ipykernel_11592\\2694455489.py:40: FutureWarning: DataFrame.applymap has been deprecated. Use DataFrame.map instead.\n",
      "  aqi_col = pm25_cols.applymap(lambda x: 'Good' if x < 12\n",
      "C:\\Users\\Raikou\\AppData\\Local\\Temp\\ipykernel_11592\\2694455489.py:46: FutureWarning: DataFrame.applymap has been deprecated. Use DataFrame.map instead.\n",
      "  pm25_category_col = pm25_cols.applymap(lambda x: '< 12.00' if x < 12.00\n",
      "C:\\Users\\Raikou\\AppData\\Local\\Temp\\ipykernel_11592\\2694455489.py:53: FutureWarning: DataFrame.applymap has been deprecated. Use DataFrame.map instead.\n",
      "  meso_west_category_col = pm25_cols.applymap(lambda x: '< 2.00' if x < 2.00\n"
     ]
    },
    {
     "name": "stdout",
     "output_type": "stream",
     "text": [
      "Groomed: TRX01_2020_06.csv\n"
     ]
    },
    {
     "name": "stderr",
     "output_type": "stream",
     "text": [
      "C:\\Users\\Raikou\\AppData\\Local\\Temp\\ipykernel_11592\\2694455489.py:40: FutureWarning: DataFrame.applymap has been deprecated. Use DataFrame.map instead.\n",
      "  aqi_col = pm25_cols.applymap(lambda x: 'Good' if x < 12\n",
      "C:\\Users\\Raikou\\AppData\\Local\\Temp\\ipykernel_11592\\2694455489.py:46: FutureWarning: DataFrame.applymap has been deprecated. Use DataFrame.map instead.\n",
      "  pm25_category_col = pm25_cols.applymap(lambda x: '< 12.00' if x < 12.00\n",
      "C:\\Users\\Raikou\\AppData\\Local\\Temp\\ipykernel_11592\\2694455489.py:53: FutureWarning: DataFrame.applymap has been deprecated. Use DataFrame.map instead.\n",
      "  meso_west_category_col = pm25_cols.applymap(lambda x: '< 2.00' if x < 2.00\n"
     ]
    },
    {
     "name": "stdout",
     "output_type": "stream",
     "text": [
      "Groomed: TRX01_2020_07.csv\n"
     ]
    },
    {
     "name": "stderr",
     "output_type": "stream",
     "text": [
      "C:\\Users\\Raikou\\AppData\\Local\\Temp\\ipykernel_11592\\2694455489.py:40: FutureWarning: DataFrame.applymap has been deprecated. Use DataFrame.map instead.\n",
      "  aqi_col = pm25_cols.applymap(lambda x: 'Good' if x < 12\n",
      "C:\\Users\\Raikou\\AppData\\Local\\Temp\\ipykernel_11592\\2694455489.py:46: FutureWarning: DataFrame.applymap has been deprecated. Use DataFrame.map instead.\n",
      "  pm25_category_col = pm25_cols.applymap(lambda x: '< 12.00' if x < 12.00\n",
      "C:\\Users\\Raikou\\AppData\\Local\\Temp\\ipykernel_11592\\2694455489.py:53: FutureWarning: DataFrame.applymap has been deprecated. Use DataFrame.map instead.\n",
      "  meso_west_category_col = pm25_cols.applymap(lambda x: '< 2.00' if x < 2.00\n"
     ]
    },
    {
     "name": "stdout",
     "output_type": "stream",
     "text": [
      "Groomed: TRX01_2020_08.csv\n"
     ]
    },
    {
     "name": "stderr",
     "output_type": "stream",
     "text": [
      "C:\\Users\\Raikou\\AppData\\Local\\Temp\\ipykernel_11592\\2694455489.py:40: FutureWarning: DataFrame.applymap has been deprecated. Use DataFrame.map instead.\n",
      "  aqi_col = pm25_cols.applymap(lambda x: 'Good' if x < 12\n",
      "C:\\Users\\Raikou\\AppData\\Local\\Temp\\ipykernel_11592\\2694455489.py:46: FutureWarning: DataFrame.applymap has been deprecated. Use DataFrame.map instead.\n",
      "  pm25_category_col = pm25_cols.applymap(lambda x: '< 12.00' if x < 12.00\n",
      "C:\\Users\\Raikou\\AppData\\Local\\Temp\\ipykernel_11592\\2694455489.py:53: FutureWarning: DataFrame.applymap has been deprecated. Use DataFrame.map instead.\n",
      "  meso_west_category_col = pm25_cols.applymap(lambda x: '< 2.00' if x < 2.00\n"
     ]
    },
    {
     "name": "stdout",
     "output_type": "stream",
     "text": [
      "Groomed: TRX01_2020_09.csv\n"
     ]
    },
    {
     "name": "stderr",
     "output_type": "stream",
     "text": [
      "C:\\Users\\Raikou\\AppData\\Local\\Temp\\ipykernel_11592\\2694455489.py:40: FutureWarning: DataFrame.applymap has been deprecated. Use DataFrame.map instead.\n",
      "  aqi_col = pm25_cols.applymap(lambda x: 'Good' if x < 12\n",
      "C:\\Users\\Raikou\\AppData\\Local\\Temp\\ipykernel_11592\\2694455489.py:46: FutureWarning: DataFrame.applymap has been deprecated. Use DataFrame.map instead.\n",
      "  pm25_category_col = pm25_cols.applymap(lambda x: '< 12.00' if x < 12.00\n",
      "C:\\Users\\Raikou\\AppData\\Local\\Temp\\ipykernel_11592\\2694455489.py:53: FutureWarning: DataFrame.applymap has been deprecated. Use DataFrame.map instead.\n",
      "  meso_west_category_col = pm25_cols.applymap(lambda x: '< 2.00' if x < 2.00\n"
     ]
    },
    {
     "name": "stdout",
     "output_type": "stream",
     "text": [
      "Groomed: TRX01_2020_10.csv\n"
     ]
    },
    {
     "name": "stderr",
     "output_type": "stream",
     "text": [
      "C:\\Users\\Raikou\\AppData\\Local\\Temp\\ipykernel_11592\\2694455489.py:40: FutureWarning: DataFrame.applymap has been deprecated. Use DataFrame.map instead.\n",
      "  aqi_col = pm25_cols.applymap(lambda x: 'Good' if x < 12\n",
      "C:\\Users\\Raikou\\AppData\\Local\\Temp\\ipykernel_11592\\2694455489.py:46: FutureWarning: DataFrame.applymap has been deprecated. Use DataFrame.map instead.\n",
      "  pm25_category_col = pm25_cols.applymap(lambda x: '< 12.00' if x < 12.00\n",
      "C:\\Users\\Raikou\\AppData\\Local\\Temp\\ipykernel_11592\\2694455489.py:53: FutureWarning: DataFrame.applymap has been deprecated. Use DataFrame.map instead.\n",
      "  meso_west_category_col = pm25_cols.applymap(lambda x: '< 2.00' if x < 2.00\n"
     ]
    },
    {
     "name": "stdout",
     "output_type": "stream",
     "text": [
      "Groomed: TRX01_2020_11.csv\n"
     ]
    },
    {
     "name": "stderr",
     "output_type": "stream",
     "text": [
      "C:\\Users\\Raikou\\AppData\\Local\\Temp\\ipykernel_11592\\2694455489.py:40: FutureWarning: DataFrame.applymap has been deprecated. Use DataFrame.map instead.\n",
      "  aqi_col = pm25_cols.applymap(lambda x: 'Good' if x < 12\n",
      "C:\\Users\\Raikou\\AppData\\Local\\Temp\\ipykernel_11592\\2694455489.py:46: FutureWarning: DataFrame.applymap has been deprecated. Use DataFrame.map instead.\n",
      "  pm25_category_col = pm25_cols.applymap(lambda x: '< 12.00' if x < 12.00\n",
      "C:\\Users\\Raikou\\AppData\\Local\\Temp\\ipykernel_11592\\2694455489.py:53: FutureWarning: DataFrame.applymap has been deprecated. Use DataFrame.map instead.\n",
      "  meso_west_category_col = pm25_cols.applymap(lambda x: '< 2.00' if x < 2.00\n"
     ]
    },
    {
     "name": "stdout",
     "output_type": "stream",
     "text": [
      "Groomed: TRX01_2020_12.csv\n"
     ]
    },
    {
     "name": "stderr",
     "output_type": "stream",
     "text": [
      "C:\\Users\\Raikou\\AppData\\Local\\Temp\\ipykernel_11592\\2694455489.py:40: FutureWarning: DataFrame.applymap has been deprecated. Use DataFrame.map instead.\n",
      "  aqi_col = pm25_cols.applymap(lambda x: 'Good' if x < 12\n",
      "C:\\Users\\Raikou\\AppData\\Local\\Temp\\ipykernel_11592\\2694455489.py:46: FutureWarning: DataFrame.applymap has been deprecated. Use DataFrame.map instead.\n",
      "  pm25_category_col = pm25_cols.applymap(lambda x: '< 12.00' if x < 12.00\n",
      "C:\\Users\\Raikou\\AppData\\Local\\Temp\\ipykernel_11592\\2694455489.py:53: FutureWarning: DataFrame.applymap has been deprecated. Use DataFrame.map instead.\n",
      "  meso_west_category_col = pm25_cols.applymap(lambda x: '< 2.00' if x < 2.00\n"
     ]
    },
    {
     "name": "stdout",
     "output_type": "stream",
     "text": [
      "Groomed: TRX01_2021_01.csv\n"
     ]
    },
    {
     "name": "stderr",
     "output_type": "stream",
     "text": [
      "C:\\Users\\Raikou\\AppData\\Local\\Temp\\ipykernel_11592\\2694455489.py:40: FutureWarning: DataFrame.applymap has been deprecated. Use DataFrame.map instead.\n",
      "  aqi_col = pm25_cols.applymap(lambda x: 'Good' if x < 12\n",
      "C:\\Users\\Raikou\\AppData\\Local\\Temp\\ipykernel_11592\\2694455489.py:46: FutureWarning: DataFrame.applymap has been deprecated. Use DataFrame.map instead.\n",
      "  pm25_category_col = pm25_cols.applymap(lambda x: '< 12.00' if x < 12.00\n",
      "C:\\Users\\Raikou\\AppData\\Local\\Temp\\ipykernel_11592\\2694455489.py:53: FutureWarning: DataFrame.applymap has been deprecated. Use DataFrame.map instead.\n",
      "  meso_west_category_col = pm25_cols.applymap(lambda x: '< 2.00' if x < 2.00\n"
     ]
    },
    {
     "name": "stdout",
     "output_type": "stream",
     "text": [
      "Groomed: TRX01_2021_02.csv\n"
     ]
    },
    {
     "name": "stderr",
     "output_type": "stream",
     "text": [
      "C:\\Users\\Raikou\\AppData\\Local\\Temp\\ipykernel_11592\\2694455489.py:40: FutureWarning: DataFrame.applymap has been deprecated. Use DataFrame.map instead.\n",
      "  aqi_col = pm25_cols.applymap(lambda x: 'Good' if x < 12\n",
      "C:\\Users\\Raikou\\AppData\\Local\\Temp\\ipykernel_11592\\2694455489.py:46: FutureWarning: DataFrame.applymap has been deprecated. Use DataFrame.map instead.\n",
      "  pm25_category_col = pm25_cols.applymap(lambda x: '< 12.00' if x < 12.00\n",
      "C:\\Users\\Raikou\\AppData\\Local\\Temp\\ipykernel_11592\\2694455489.py:53: FutureWarning: DataFrame.applymap has been deprecated. Use DataFrame.map instead.\n",
      "  meso_west_category_col = pm25_cols.applymap(lambda x: '< 2.00' if x < 2.00\n"
     ]
    },
    {
     "name": "stdout",
     "output_type": "stream",
     "text": [
      "Groomed: TRX01_2021_03.csv\n"
     ]
    },
    {
     "name": "stderr",
     "output_type": "stream",
     "text": [
      "C:\\Users\\Raikou\\AppData\\Local\\Temp\\ipykernel_11592\\2694455489.py:40: FutureWarning: DataFrame.applymap has been deprecated. Use DataFrame.map instead.\n",
      "  aqi_col = pm25_cols.applymap(lambda x: 'Good' if x < 12\n",
      "C:\\Users\\Raikou\\AppData\\Local\\Temp\\ipykernel_11592\\2694455489.py:46: FutureWarning: DataFrame.applymap has been deprecated. Use DataFrame.map instead.\n",
      "  pm25_category_col = pm25_cols.applymap(lambda x: '< 12.00' if x < 12.00\n",
      "C:\\Users\\Raikou\\AppData\\Local\\Temp\\ipykernel_11592\\2694455489.py:53: FutureWarning: DataFrame.applymap has been deprecated. Use DataFrame.map instead.\n",
      "  meso_west_category_col = pm25_cols.applymap(lambda x: '< 2.00' if x < 2.00\n"
     ]
    },
    {
     "name": "stdout",
     "output_type": "stream",
     "text": [
      "Groomed: TRX01_2021_04.csv\n"
     ]
    },
    {
     "name": "stderr",
     "output_type": "stream",
     "text": [
      "C:\\Users\\Raikou\\AppData\\Local\\Temp\\ipykernel_11592\\2694455489.py:40: FutureWarning: DataFrame.applymap has been deprecated. Use DataFrame.map instead.\n",
      "  aqi_col = pm25_cols.applymap(lambda x: 'Good' if x < 12\n",
      "C:\\Users\\Raikou\\AppData\\Local\\Temp\\ipykernel_11592\\2694455489.py:46: FutureWarning: DataFrame.applymap has been deprecated. Use DataFrame.map instead.\n",
      "  pm25_category_col = pm25_cols.applymap(lambda x: '< 12.00' if x < 12.00\n",
      "C:\\Users\\Raikou\\AppData\\Local\\Temp\\ipykernel_11592\\2694455489.py:53: FutureWarning: DataFrame.applymap has been deprecated. Use DataFrame.map instead.\n",
      "  meso_west_category_col = pm25_cols.applymap(lambda x: '< 2.00' if x < 2.00\n"
     ]
    },
    {
     "name": "stdout",
     "output_type": "stream",
     "text": [
      "Groomed: TRX01_2021_05.csv\n"
     ]
    },
    {
     "name": "stderr",
     "output_type": "stream",
     "text": [
      "C:\\Users\\Raikou\\AppData\\Local\\Temp\\ipykernel_11592\\2694455489.py:40: FutureWarning: DataFrame.applymap has been deprecated. Use DataFrame.map instead.\n",
      "  aqi_col = pm25_cols.applymap(lambda x: 'Good' if x < 12\n",
      "C:\\Users\\Raikou\\AppData\\Local\\Temp\\ipykernel_11592\\2694455489.py:46: FutureWarning: DataFrame.applymap has been deprecated. Use DataFrame.map instead.\n",
      "  pm25_category_col = pm25_cols.applymap(lambda x: '< 12.00' if x < 12.00\n",
      "C:\\Users\\Raikou\\AppData\\Local\\Temp\\ipykernel_11592\\2694455489.py:53: FutureWarning: DataFrame.applymap has been deprecated. Use DataFrame.map instead.\n",
      "  meso_west_category_col = pm25_cols.applymap(lambda x: '< 2.00' if x < 2.00\n"
     ]
    },
    {
     "name": "stdout",
     "output_type": "stream",
     "text": [
      "Groomed: TRX01_2021_06.csv\n"
     ]
    },
    {
     "name": "stderr",
     "output_type": "stream",
     "text": [
      "C:\\Users\\Raikou\\AppData\\Local\\Temp\\ipykernel_11592\\2694455489.py:40: FutureWarning: DataFrame.applymap has been deprecated. Use DataFrame.map instead.\n",
      "  aqi_col = pm25_cols.applymap(lambda x: 'Good' if x < 12\n",
      "C:\\Users\\Raikou\\AppData\\Local\\Temp\\ipykernel_11592\\2694455489.py:46: FutureWarning: DataFrame.applymap has been deprecated. Use DataFrame.map instead.\n",
      "  pm25_category_col = pm25_cols.applymap(lambda x: '< 12.00' if x < 12.00\n",
      "C:\\Users\\Raikou\\AppData\\Local\\Temp\\ipykernel_11592\\2694455489.py:53: FutureWarning: DataFrame.applymap has been deprecated. Use DataFrame.map instead.\n",
      "  meso_west_category_col = pm25_cols.applymap(lambda x: '< 2.00' if x < 2.00\n"
     ]
    },
    {
     "name": "stdout",
     "output_type": "stream",
     "text": [
      "Groomed: TRX01_2021_07.csv\n"
     ]
    },
    {
     "name": "stderr",
     "output_type": "stream",
     "text": [
      "C:\\Users\\Raikou\\AppData\\Local\\Temp\\ipykernel_11592\\2694455489.py:40: FutureWarning: DataFrame.applymap has been deprecated. Use DataFrame.map instead.\n",
      "  aqi_col = pm25_cols.applymap(lambda x: 'Good' if x < 12\n",
      "C:\\Users\\Raikou\\AppData\\Local\\Temp\\ipykernel_11592\\2694455489.py:46: FutureWarning: DataFrame.applymap has been deprecated. Use DataFrame.map instead.\n",
      "  pm25_category_col = pm25_cols.applymap(lambda x: '< 12.00' if x < 12.00\n",
      "C:\\Users\\Raikou\\AppData\\Local\\Temp\\ipykernel_11592\\2694455489.py:53: FutureWarning: DataFrame.applymap has been deprecated. Use DataFrame.map instead.\n",
      "  meso_west_category_col = pm25_cols.applymap(lambda x: '< 2.00' if x < 2.00\n"
     ]
    },
    {
     "name": "stdout",
     "output_type": "stream",
     "text": [
      "Groomed: TRX01_2021_08.csv\n"
     ]
    },
    {
     "name": "stderr",
     "output_type": "stream",
     "text": [
      "C:\\Users\\Raikou\\AppData\\Local\\Temp\\ipykernel_11592\\2694455489.py:40: FutureWarning: DataFrame.applymap has been deprecated. Use DataFrame.map instead.\n",
      "  aqi_col = pm25_cols.applymap(lambda x: 'Good' if x < 12\n",
      "C:\\Users\\Raikou\\AppData\\Local\\Temp\\ipykernel_11592\\2694455489.py:46: FutureWarning: DataFrame.applymap has been deprecated. Use DataFrame.map instead.\n",
      "  pm25_category_col = pm25_cols.applymap(lambda x: '< 12.00' if x < 12.00\n",
      "C:\\Users\\Raikou\\AppData\\Local\\Temp\\ipykernel_11592\\2694455489.py:53: FutureWarning: DataFrame.applymap has been deprecated. Use DataFrame.map instead.\n",
      "  meso_west_category_col = pm25_cols.applymap(lambda x: '< 2.00' if x < 2.00\n"
     ]
    },
    {
     "name": "stdout",
     "output_type": "stream",
     "text": [
      "Groomed: TRX01_2021_09.csv\n"
     ]
    },
    {
     "name": "stderr",
     "output_type": "stream",
     "text": [
      "C:\\Users\\Raikou\\AppData\\Local\\Temp\\ipykernel_11592\\2694455489.py:40: FutureWarning: DataFrame.applymap has been deprecated. Use DataFrame.map instead.\n",
      "  aqi_col = pm25_cols.applymap(lambda x: 'Good' if x < 12\n",
      "C:\\Users\\Raikou\\AppData\\Local\\Temp\\ipykernel_11592\\2694455489.py:46: FutureWarning: DataFrame.applymap has been deprecated. Use DataFrame.map instead.\n",
      "  pm25_category_col = pm25_cols.applymap(lambda x: '< 12.00' if x < 12.00\n",
      "C:\\Users\\Raikou\\AppData\\Local\\Temp\\ipykernel_11592\\2694455489.py:53: FutureWarning: DataFrame.applymap has been deprecated. Use DataFrame.map instead.\n",
      "  meso_west_category_col = pm25_cols.applymap(lambda x: '< 2.00' if x < 2.00\n"
     ]
    },
    {
     "name": "stdout",
     "output_type": "stream",
     "text": [
      "Groomed: TRX01_2021_10.csv\n"
     ]
    },
    {
     "name": "stderr",
     "output_type": "stream",
     "text": [
      "C:\\Users\\Raikou\\AppData\\Local\\Temp\\ipykernel_11592\\2694455489.py:40: FutureWarning: DataFrame.applymap has been deprecated. Use DataFrame.map instead.\n",
      "  aqi_col = pm25_cols.applymap(lambda x: 'Good' if x < 12\n",
      "C:\\Users\\Raikou\\AppData\\Local\\Temp\\ipykernel_11592\\2694455489.py:46: FutureWarning: DataFrame.applymap has been deprecated. Use DataFrame.map instead.\n",
      "  pm25_category_col = pm25_cols.applymap(lambda x: '< 12.00' if x < 12.00\n",
      "C:\\Users\\Raikou\\AppData\\Local\\Temp\\ipykernel_11592\\2694455489.py:53: FutureWarning: DataFrame.applymap has been deprecated. Use DataFrame.map instead.\n",
      "  meso_west_category_col = pm25_cols.applymap(lambda x: '< 2.00' if x < 2.00\n"
     ]
    },
    {
     "name": "stdout",
     "output_type": "stream",
     "text": [
      "Groomed: TRX01_2021_11.csv\n"
     ]
    },
    {
     "name": "stderr",
     "output_type": "stream",
     "text": [
      "C:\\Users\\Raikou\\AppData\\Local\\Temp\\ipykernel_11592\\2694455489.py:40: FutureWarning: DataFrame.applymap has been deprecated. Use DataFrame.map instead.\n",
      "  aqi_col = pm25_cols.applymap(lambda x: 'Good' if x < 12\n",
      "C:\\Users\\Raikou\\AppData\\Local\\Temp\\ipykernel_11592\\2694455489.py:46: FutureWarning: DataFrame.applymap has been deprecated. Use DataFrame.map instead.\n",
      "  pm25_category_col = pm25_cols.applymap(lambda x: '< 12.00' if x < 12.00\n",
      "C:\\Users\\Raikou\\AppData\\Local\\Temp\\ipykernel_11592\\2694455489.py:53: FutureWarning: DataFrame.applymap has been deprecated. Use DataFrame.map instead.\n",
      "  meso_west_category_col = pm25_cols.applymap(lambda x: '< 2.00' if x < 2.00\n"
     ]
    },
    {
     "name": "stdout",
     "output_type": "stream",
     "text": [
      "Groomed: TRX01_2021_12.csv\n"
     ]
    },
    {
     "name": "stderr",
     "output_type": "stream",
     "text": [
      "C:\\Users\\Raikou\\AppData\\Local\\Temp\\ipykernel_11592\\2694455489.py:40: FutureWarning: DataFrame.applymap has been deprecated. Use DataFrame.map instead.\n",
      "  aqi_col = pm25_cols.applymap(lambda x: 'Good' if x < 12\n",
      "C:\\Users\\Raikou\\AppData\\Local\\Temp\\ipykernel_11592\\2694455489.py:46: FutureWarning: DataFrame.applymap has been deprecated. Use DataFrame.map instead.\n",
      "  pm25_category_col = pm25_cols.applymap(lambda x: '< 12.00' if x < 12.00\n",
      "C:\\Users\\Raikou\\AppData\\Local\\Temp\\ipykernel_11592\\2694455489.py:53: FutureWarning: DataFrame.applymap has been deprecated. Use DataFrame.map instead.\n",
      "  meso_west_category_col = pm25_cols.applymap(lambda x: '< 2.00' if x < 2.00\n"
     ]
    },
    {
     "name": "stdout",
     "output_type": "stream",
     "text": [
      "Groomed: TRX01_2022_01.csv\n"
     ]
    },
    {
     "name": "stderr",
     "output_type": "stream",
     "text": [
      "C:\\Users\\Raikou\\AppData\\Local\\Temp\\ipykernel_11592\\2694455489.py:40: FutureWarning: DataFrame.applymap has been deprecated. Use DataFrame.map instead.\n",
      "  aqi_col = pm25_cols.applymap(lambda x: 'Good' if x < 12\n",
      "C:\\Users\\Raikou\\AppData\\Local\\Temp\\ipykernel_11592\\2694455489.py:46: FutureWarning: DataFrame.applymap has been deprecated. Use DataFrame.map instead.\n",
      "  pm25_category_col = pm25_cols.applymap(lambda x: '< 12.00' if x < 12.00\n",
      "C:\\Users\\Raikou\\AppData\\Local\\Temp\\ipykernel_11592\\2694455489.py:53: FutureWarning: DataFrame.applymap has been deprecated. Use DataFrame.map instead.\n",
      "  meso_west_category_col = pm25_cols.applymap(lambda x: '< 2.00' if x < 2.00\n"
     ]
    },
    {
     "name": "stdout",
     "output_type": "stream",
     "text": [
      "Groomed: TRX01_2022_02.csv\n"
     ]
    },
    {
     "name": "stderr",
     "output_type": "stream",
     "text": [
      "C:\\Users\\Raikou\\AppData\\Local\\Temp\\ipykernel_11592\\2694455489.py:40: FutureWarning: DataFrame.applymap has been deprecated. Use DataFrame.map instead.\n",
      "  aqi_col = pm25_cols.applymap(lambda x: 'Good' if x < 12\n",
      "C:\\Users\\Raikou\\AppData\\Local\\Temp\\ipykernel_11592\\2694455489.py:46: FutureWarning: DataFrame.applymap has been deprecated. Use DataFrame.map instead.\n",
      "  pm25_category_col = pm25_cols.applymap(lambda x: '< 12.00' if x < 12.00\n",
      "C:\\Users\\Raikou\\AppData\\Local\\Temp\\ipykernel_11592\\2694455489.py:53: FutureWarning: DataFrame.applymap has been deprecated. Use DataFrame.map instead.\n",
      "  meso_west_category_col = pm25_cols.applymap(lambda x: '< 2.00' if x < 2.00\n"
     ]
    },
    {
     "name": "stdout",
     "output_type": "stream",
     "text": [
      "Groomed: TRX01_2022_03.csv\n"
     ]
    },
    {
     "name": "stderr",
     "output_type": "stream",
     "text": [
      "C:\\Users\\Raikou\\AppData\\Local\\Temp\\ipykernel_11592\\2694455489.py:40: FutureWarning: DataFrame.applymap has been deprecated. Use DataFrame.map instead.\n",
      "  aqi_col = pm25_cols.applymap(lambda x: 'Good' if x < 12\n",
      "C:\\Users\\Raikou\\AppData\\Local\\Temp\\ipykernel_11592\\2694455489.py:46: FutureWarning: DataFrame.applymap has been deprecated. Use DataFrame.map instead.\n",
      "  pm25_category_col = pm25_cols.applymap(lambda x: '< 12.00' if x < 12.00\n",
      "C:\\Users\\Raikou\\AppData\\Local\\Temp\\ipykernel_11592\\2694455489.py:53: FutureWarning: DataFrame.applymap has been deprecated. Use DataFrame.map instead.\n",
      "  meso_west_category_col = pm25_cols.applymap(lambda x: '< 2.00' if x < 2.00\n"
     ]
    },
    {
     "name": "stdout",
     "output_type": "stream",
     "text": [
      "Groomed: TRX01_2022_04.csv\n"
     ]
    },
    {
     "name": "stderr",
     "output_type": "stream",
     "text": [
      "C:\\Users\\Raikou\\AppData\\Local\\Temp\\ipykernel_11592\\2694455489.py:40: FutureWarning: DataFrame.applymap has been deprecated. Use DataFrame.map instead.\n",
      "  aqi_col = pm25_cols.applymap(lambda x: 'Good' if x < 12\n",
      "C:\\Users\\Raikou\\AppData\\Local\\Temp\\ipykernel_11592\\2694455489.py:46: FutureWarning: DataFrame.applymap has been deprecated. Use DataFrame.map instead.\n",
      "  pm25_category_col = pm25_cols.applymap(lambda x: '< 12.00' if x < 12.00\n",
      "C:\\Users\\Raikou\\AppData\\Local\\Temp\\ipykernel_11592\\2694455489.py:53: FutureWarning: DataFrame.applymap has been deprecated. Use DataFrame.map instead.\n",
      "  meso_west_category_col = pm25_cols.applymap(lambda x: '< 2.00' if x < 2.00\n"
     ]
    },
    {
     "name": "stdout",
     "output_type": "stream",
     "text": [
      "Groomed: TRX01_2022_05.csv\n",
      "Groomed: TRX01_2022_06.csv\n"
     ]
    },
    {
     "name": "stderr",
     "output_type": "stream",
     "text": [
      "C:\\Users\\Raikou\\AppData\\Local\\Temp\\ipykernel_11592\\2694455489.py:40: FutureWarning: DataFrame.applymap has been deprecated. Use DataFrame.map instead.\n",
      "  aqi_col = pm25_cols.applymap(lambda x: 'Good' if x < 12\n",
      "C:\\Users\\Raikou\\AppData\\Local\\Temp\\ipykernel_11592\\2694455489.py:46: FutureWarning: DataFrame.applymap has been deprecated. Use DataFrame.map instead.\n",
      "  pm25_category_col = pm25_cols.applymap(lambda x: '< 12.00' if x < 12.00\n",
      "C:\\Users\\Raikou\\AppData\\Local\\Temp\\ipykernel_11592\\2694455489.py:53: FutureWarning: DataFrame.applymap has been deprecated. Use DataFrame.map instead.\n",
      "  meso_west_category_col = pm25_cols.applymap(lambda x: '< 2.00' if x < 2.00\n",
      "C:\\Users\\Raikou\\AppData\\Local\\Temp\\ipykernel_11592\\2694455489.py:40: FutureWarning: DataFrame.applymap has been deprecated. Use DataFrame.map instead.\n",
      "  aqi_col = pm25_cols.applymap(lambda x: 'Good' if x < 12\n",
      "C:\\Users\\Raikou\\AppData\\Local\\Temp\\ipykernel_11592\\2694455489.py:46: FutureWarning: DataFrame.applymap has been deprecated. Use DataFrame.map instead.\n",
      "  pm25_category_col = pm25_cols.applymap(lambda x: '< 12.00' if x < 12.00\n",
      "C:\\Users\\Raikou\\AppData\\Local\\Temp\\ipykernel_11592\\2694455489.py:53: FutureWarning: DataFrame.applymap has been deprecated. Use DataFrame.map instead.\n",
      "  meso_west_category_col = pm25_cols.applymap(lambda x: '< 2.00' if x < 2.00\n"
     ]
    },
    {
     "name": "stdout",
     "output_type": "stream",
     "text": [
      "Groomed: TRX01_2022_08.csv\n"
     ]
    },
    {
     "name": "stderr",
     "output_type": "stream",
     "text": [
      "C:\\Users\\Raikou\\AppData\\Local\\Temp\\ipykernel_11592\\2694455489.py:40: FutureWarning: DataFrame.applymap has been deprecated. Use DataFrame.map instead.\n",
      "  aqi_col = pm25_cols.applymap(lambda x: 'Good' if x < 12\n",
      "C:\\Users\\Raikou\\AppData\\Local\\Temp\\ipykernel_11592\\2694455489.py:46: FutureWarning: DataFrame.applymap has been deprecated. Use DataFrame.map instead.\n",
      "  pm25_category_col = pm25_cols.applymap(lambda x: '< 12.00' if x < 12.00\n",
      "C:\\Users\\Raikou\\AppData\\Local\\Temp\\ipykernel_11592\\2694455489.py:53: FutureWarning: DataFrame.applymap has been deprecated. Use DataFrame.map instead.\n",
      "  meso_west_category_col = pm25_cols.applymap(lambda x: '< 2.00' if x < 2.00\n"
     ]
    },
    {
     "name": "stdout",
     "output_type": "stream",
     "text": [
      "Groomed: TRX01_2022_09.csv\n"
     ]
    },
    {
     "name": "stderr",
     "output_type": "stream",
     "text": [
      "C:\\Users\\Raikou\\AppData\\Local\\Temp\\ipykernel_11592\\2694455489.py:40: FutureWarning: DataFrame.applymap has been deprecated. Use DataFrame.map instead.\n",
      "  aqi_col = pm25_cols.applymap(lambda x: 'Good' if x < 12\n",
      "C:\\Users\\Raikou\\AppData\\Local\\Temp\\ipykernel_11592\\2694455489.py:46: FutureWarning: DataFrame.applymap has been deprecated. Use DataFrame.map instead.\n",
      "  pm25_category_col = pm25_cols.applymap(lambda x: '< 12.00' if x < 12.00\n",
      "C:\\Users\\Raikou\\AppData\\Local\\Temp\\ipykernel_11592\\2694455489.py:53: FutureWarning: DataFrame.applymap has been deprecated. Use DataFrame.map instead.\n",
      "  meso_west_category_col = pm25_cols.applymap(lambda x: '< 2.00' if x < 2.00\n"
     ]
    },
    {
     "name": "stdout",
     "output_type": "stream",
     "text": [
      "Groomed: TRX01_2022_10.csv\n"
     ]
    },
    {
     "name": "stderr",
     "output_type": "stream",
     "text": [
      "C:\\Users\\Raikou\\AppData\\Local\\Temp\\ipykernel_11592\\2694455489.py:40: FutureWarning: DataFrame.applymap has been deprecated. Use DataFrame.map instead.\n",
      "  aqi_col = pm25_cols.applymap(lambda x: 'Good' if x < 12\n",
      "C:\\Users\\Raikou\\AppData\\Local\\Temp\\ipykernel_11592\\2694455489.py:46: FutureWarning: DataFrame.applymap has been deprecated. Use DataFrame.map instead.\n",
      "  pm25_category_col = pm25_cols.applymap(lambda x: '< 12.00' if x < 12.00\n",
      "C:\\Users\\Raikou\\AppData\\Local\\Temp\\ipykernel_11592\\2694455489.py:53: FutureWarning: DataFrame.applymap has been deprecated. Use DataFrame.map instead.\n",
      "  meso_west_category_col = pm25_cols.applymap(lambda x: '< 2.00' if x < 2.00\n"
     ]
    },
    {
     "name": "stdout",
     "output_type": "stream",
     "text": [
      "Groomed: TRX01_2022_11.csv\n"
     ]
    },
    {
     "name": "stderr",
     "output_type": "stream",
     "text": [
      "C:\\Users\\Raikou\\AppData\\Local\\Temp\\ipykernel_11592\\2694455489.py:40: FutureWarning: DataFrame.applymap has been deprecated. Use DataFrame.map instead.\n",
      "  aqi_col = pm25_cols.applymap(lambda x: 'Good' if x < 12\n",
      "C:\\Users\\Raikou\\AppData\\Local\\Temp\\ipykernel_11592\\2694455489.py:46: FutureWarning: DataFrame.applymap has been deprecated. Use DataFrame.map instead.\n",
      "  pm25_category_col = pm25_cols.applymap(lambda x: '< 12.00' if x < 12.00\n",
      "C:\\Users\\Raikou\\AppData\\Local\\Temp\\ipykernel_11592\\2694455489.py:53: FutureWarning: DataFrame.applymap has been deprecated. Use DataFrame.map instead.\n",
      "  meso_west_category_col = pm25_cols.applymap(lambda x: '< 2.00' if x < 2.00\n"
     ]
    },
    {
     "name": "stdout",
     "output_type": "stream",
     "text": [
      "Groomed: TRX01_2022_12.csv\n"
     ]
    },
    {
     "name": "stderr",
     "output_type": "stream",
     "text": [
      "C:\\Users\\Raikou\\AppData\\Local\\Temp\\ipykernel_11592\\2694455489.py:40: FutureWarning: DataFrame.applymap has been deprecated. Use DataFrame.map instead.\n",
      "  aqi_col = pm25_cols.applymap(lambda x: 'Good' if x < 12\n",
      "C:\\Users\\Raikou\\AppData\\Local\\Temp\\ipykernel_11592\\2694455489.py:46: FutureWarning: DataFrame.applymap has been deprecated. Use DataFrame.map instead.\n",
      "  pm25_category_col = pm25_cols.applymap(lambda x: '< 12.00' if x < 12.00\n",
      "C:\\Users\\Raikou\\AppData\\Local\\Temp\\ipykernel_11592\\2694455489.py:53: FutureWarning: DataFrame.applymap has been deprecated. Use DataFrame.map instead.\n",
      "  meso_west_category_col = pm25_cols.applymap(lambda x: '< 2.00' if x < 2.00\n"
     ]
    },
    {
     "name": "stdout",
     "output_type": "stream",
     "text": [
      "Groomed: TRX01_2023_01.csv\n"
     ]
    },
    {
     "name": "stderr",
     "output_type": "stream",
     "text": [
      "C:\\Users\\Raikou\\AppData\\Local\\Temp\\ipykernel_11592\\2694455489.py:40: FutureWarning: DataFrame.applymap has been deprecated. Use DataFrame.map instead.\n",
      "  aqi_col = pm25_cols.applymap(lambda x: 'Good' if x < 12\n",
      "C:\\Users\\Raikou\\AppData\\Local\\Temp\\ipykernel_11592\\2694455489.py:46: FutureWarning: DataFrame.applymap has been deprecated. Use DataFrame.map instead.\n",
      "  pm25_category_col = pm25_cols.applymap(lambda x: '< 12.00' if x < 12.00\n",
      "C:\\Users\\Raikou\\AppData\\Local\\Temp\\ipykernel_11592\\2694455489.py:53: FutureWarning: DataFrame.applymap has been deprecated. Use DataFrame.map instead.\n",
      "  meso_west_category_col = pm25_cols.applymap(lambda x: '< 2.00' if x < 2.00\n"
     ]
    },
    {
     "name": "stdout",
     "output_type": "stream",
     "text": [
      "Groomed: TRX01_2023_04.csv\n"
     ]
    },
    {
     "name": "stderr",
     "output_type": "stream",
     "text": [
      "C:\\Users\\Raikou\\AppData\\Local\\Temp\\ipykernel_11592\\2694455489.py:40: FutureWarning: DataFrame.applymap has been deprecated. Use DataFrame.map instead.\n",
      "  aqi_col = pm25_cols.applymap(lambda x: 'Good' if x < 12\n",
      "C:\\Users\\Raikou\\AppData\\Local\\Temp\\ipykernel_11592\\2694455489.py:46: FutureWarning: DataFrame.applymap has been deprecated. Use DataFrame.map instead.\n",
      "  pm25_category_col = pm25_cols.applymap(lambda x: '< 12.00' if x < 12.00\n",
      "C:\\Users\\Raikou\\AppData\\Local\\Temp\\ipykernel_11592\\2694455489.py:53: FutureWarning: DataFrame.applymap has been deprecated. Use DataFrame.map instead.\n",
      "  meso_west_category_col = pm25_cols.applymap(lambda x: '< 2.00' if x < 2.00\n"
     ]
    },
    {
     "name": "stdout",
     "output_type": "stream",
     "text": [
      "Groomed: TRX01_2023_05.csv\n"
     ]
    },
    {
     "name": "stderr",
     "output_type": "stream",
     "text": [
      "C:\\Users\\Raikou\\AppData\\Local\\Temp\\ipykernel_11592\\2694455489.py:40: FutureWarning: DataFrame.applymap has been deprecated. Use DataFrame.map instead.\n",
      "  aqi_col = pm25_cols.applymap(lambda x: 'Good' if x < 12\n",
      "C:\\Users\\Raikou\\AppData\\Local\\Temp\\ipykernel_11592\\2694455489.py:46: FutureWarning: DataFrame.applymap has been deprecated. Use DataFrame.map instead.\n",
      "  pm25_category_col = pm25_cols.applymap(lambda x: '< 12.00' if x < 12.00\n",
      "C:\\Users\\Raikou\\AppData\\Local\\Temp\\ipykernel_11592\\2694455489.py:53: FutureWarning: DataFrame.applymap has been deprecated. Use DataFrame.map instead.\n",
      "  meso_west_category_col = pm25_cols.applymap(lambda x: '< 2.00' if x < 2.00\n"
     ]
    },
    {
     "name": "stdout",
     "output_type": "stream",
     "text": [
      "Groomed: TRX01_2023_06.csv\n"
     ]
    },
    {
     "name": "stderr",
     "output_type": "stream",
     "text": [
      "C:\\Users\\Raikou\\AppData\\Local\\Temp\\ipykernel_11592\\2694455489.py:40: FutureWarning: DataFrame.applymap has been deprecated. Use DataFrame.map instead.\n",
      "  aqi_col = pm25_cols.applymap(lambda x: 'Good' if x < 12\n",
      "C:\\Users\\Raikou\\AppData\\Local\\Temp\\ipykernel_11592\\2694455489.py:46: FutureWarning: DataFrame.applymap has been deprecated. Use DataFrame.map instead.\n",
      "  pm25_category_col = pm25_cols.applymap(lambda x: '< 12.00' if x < 12.00\n",
      "C:\\Users\\Raikou\\AppData\\Local\\Temp\\ipykernel_11592\\2694455489.py:53: FutureWarning: DataFrame.applymap has been deprecated. Use DataFrame.map instead.\n",
      "  meso_west_category_col = pm25_cols.applymap(lambda x: '< 2.00' if x < 2.00\n"
     ]
    },
    {
     "name": "stdout",
     "output_type": "stream",
     "text": [
      "Groomed: TRX01_2023_07.csv\n"
     ]
    },
    {
     "name": "stderr",
     "output_type": "stream",
     "text": [
      "C:\\Users\\Raikou\\AppData\\Local\\Temp\\ipykernel_11592\\2694455489.py:40: FutureWarning: DataFrame.applymap has been deprecated. Use DataFrame.map instead.\n",
      "  aqi_col = pm25_cols.applymap(lambda x: 'Good' if x < 12\n",
      "C:\\Users\\Raikou\\AppData\\Local\\Temp\\ipykernel_11592\\2694455489.py:46: FutureWarning: DataFrame.applymap has been deprecated. Use DataFrame.map instead.\n",
      "  pm25_category_col = pm25_cols.applymap(lambda x: '< 12.00' if x < 12.00\n",
      "C:\\Users\\Raikou\\AppData\\Local\\Temp\\ipykernel_11592\\2694455489.py:53: FutureWarning: DataFrame.applymap has been deprecated. Use DataFrame.map instead.\n",
      "  meso_west_category_col = pm25_cols.applymap(lambda x: '< 2.00' if x < 2.00\n"
     ]
    },
    {
     "name": "stdout",
     "output_type": "stream",
     "text": [
      "Groomed: TRX01_2023_08.csv\n"
     ]
    },
    {
     "name": "stderr",
     "output_type": "stream",
     "text": [
      "C:\\Users\\Raikou\\AppData\\Local\\Temp\\ipykernel_11592\\2694455489.py:40: FutureWarning: DataFrame.applymap has been deprecated. Use DataFrame.map instead.\n",
      "  aqi_col = pm25_cols.applymap(lambda x: 'Good' if x < 12\n",
      "C:\\Users\\Raikou\\AppData\\Local\\Temp\\ipykernel_11592\\2694455489.py:46: FutureWarning: DataFrame.applymap has been deprecated. Use DataFrame.map instead.\n",
      "  pm25_category_col = pm25_cols.applymap(lambda x: '< 12.00' if x < 12.00\n",
      "C:\\Users\\Raikou\\AppData\\Local\\Temp\\ipykernel_11592\\2694455489.py:53: FutureWarning: DataFrame.applymap has been deprecated. Use DataFrame.map instead.\n",
      "  meso_west_category_col = pm25_cols.applymap(lambda x: '< 2.00' if x < 2.00\n"
     ]
    },
    {
     "name": "stdout",
     "output_type": "stream",
     "text": [
      "Groomed: TRX01_2023_09.csv\n"
     ]
    },
    {
     "name": "stderr",
     "output_type": "stream",
     "text": [
      "C:\\Users\\Raikou\\AppData\\Local\\Temp\\ipykernel_11592\\2694455489.py:40: FutureWarning: DataFrame.applymap has been deprecated. Use DataFrame.map instead.\n",
      "  aqi_col = pm25_cols.applymap(lambda x: 'Good' if x < 12\n",
      "C:\\Users\\Raikou\\AppData\\Local\\Temp\\ipykernel_11592\\2694455489.py:46: FutureWarning: DataFrame.applymap has been deprecated. Use DataFrame.map instead.\n",
      "  pm25_category_col = pm25_cols.applymap(lambda x: '< 12.00' if x < 12.00\n",
      "C:\\Users\\Raikou\\AppData\\Local\\Temp\\ipykernel_11592\\2694455489.py:53: FutureWarning: DataFrame.applymap has been deprecated. Use DataFrame.map instead.\n",
      "  meso_west_category_col = pm25_cols.applymap(lambda x: '< 2.00' if x < 2.00\n"
     ]
    },
    {
     "name": "stdout",
     "output_type": "stream",
     "text": [
      "Groomed: TRX02_2018_11.csv\n"
     ]
    },
    {
     "name": "stderr",
     "output_type": "stream",
     "text": [
      "C:\\Users\\Raikou\\AppData\\Local\\Temp\\ipykernel_11592\\2694455489.py:40: FutureWarning: DataFrame.applymap has been deprecated. Use DataFrame.map instead.\n",
      "  aqi_col = pm25_cols.applymap(lambda x: 'Good' if x < 12\n",
      "C:\\Users\\Raikou\\AppData\\Local\\Temp\\ipykernel_11592\\2694455489.py:46: FutureWarning: DataFrame.applymap has been deprecated. Use DataFrame.map instead.\n",
      "  pm25_category_col = pm25_cols.applymap(lambda x: '< 12.00' if x < 12.00\n",
      "C:\\Users\\Raikou\\AppData\\Local\\Temp\\ipykernel_11592\\2694455489.py:53: FutureWarning: DataFrame.applymap has been deprecated. Use DataFrame.map instead.\n",
      "  meso_west_category_col = pm25_cols.applymap(lambda x: '< 2.00' if x < 2.00\n"
     ]
    },
    {
     "name": "stdout",
     "output_type": "stream",
     "text": [
      "Groomed: TRX02_2018_12.csv\n"
     ]
    },
    {
     "name": "stderr",
     "output_type": "stream",
     "text": [
      "C:\\Users\\Raikou\\AppData\\Local\\Temp\\ipykernel_11592\\2694455489.py:40: FutureWarning: DataFrame.applymap has been deprecated. Use DataFrame.map instead.\n",
      "  aqi_col = pm25_cols.applymap(lambda x: 'Good' if x < 12\n",
      "C:\\Users\\Raikou\\AppData\\Local\\Temp\\ipykernel_11592\\2694455489.py:46: FutureWarning: DataFrame.applymap has been deprecated. Use DataFrame.map instead.\n",
      "  pm25_category_col = pm25_cols.applymap(lambda x: '< 12.00' if x < 12.00\n",
      "C:\\Users\\Raikou\\AppData\\Local\\Temp\\ipykernel_11592\\2694455489.py:53: FutureWarning: DataFrame.applymap has been deprecated. Use DataFrame.map instead.\n",
      "  meso_west_category_col = pm25_cols.applymap(lambda x: '< 2.00' if x < 2.00\n"
     ]
    },
    {
     "name": "stdout",
     "output_type": "stream",
     "text": [
      "Groomed: TRX02_2019_01.csv\n"
     ]
    },
    {
     "name": "stderr",
     "output_type": "stream",
     "text": [
      "C:\\Users\\Raikou\\AppData\\Local\\Temp\\ipykernel_11592\\2694455489.py:40: FutureWarning: DataFrame.applymap has been deprecated. Use DataFrame.map instead.\n",
      "  aqi_col = pm25_cols.applymap(lambda x: 'Good' if x < 12\n",
      "C:\\Users\\Raikou\\AppData\\Local\\Temp\\ipykernel_11592\\2694455489.py:46: FutureWarning: DataFrame.applymap has been deprecated. Use DataFrame.map instead.\n",
      "  pm25_category_col = pm25_cols.applymap(lambda x: '< 12.00' if x < 12.00\n",
      "C:\\Users\\Raikou\\AppData\\Local\\Temp\\ipykernel_11592\\2694455489.py:53: FutureWarning: DataFrame.applymap has been deprecated. Use DataFrame.map instead.\n",
      "  meso_west_category_col = pm25_cols.applymap(lambda x: '< 2.00' if x < 2.00\n"
     ]
    },
    {
     "name": "stdout",
     "output_type": "stream",
     "text": [
      "Groomed: TRX02_2019_02.csv\n"
     ]
    },
    {
     "name": "stderr",
     "output_type": "stream",
     "text": [
      "C:\\Users\\Raikou\\AppData\\Local\\Temp\\ipykernel_11592\\2694455489.py:40: FutureWarning: DataFrame.applymap has been deprecated. Use DataFrame.map instead.\n",
      "  aqi_col = pm25_cols.applymap(lambda x: 'Good' if x < 12\n",
      "C:\\Users\\Raikou\\AppData\\Local\\Temp\\ipykernel_11592\\2694455489.py:46: FutureWarning: DataFrame.applymap has been deprecated. Use DataFrame.map instead.\n",
      "  pm25_category_col = pm25_cols.applymap(lambda x: '< 12.00' if x < 12.00\n",
      "C:\\Users\\Raikou\\AppData\\Local\\Temp\\ipykernel_11592\\2694455489.py:53: FutureWarning: DataFrame.applymap has been deprecated. Use DataFrame.map instead.\n",
      "  meso_west_category_col = pm25_cols.applymap(lambda x: '< 2.00' if x < 2.00\n"
     ]
    },
    {
     "name": "stdout",
     "output_type": "stream",
     "text": [
      "Groomed: TRX02_2019_03.csv\n"
     ]
    },
    {
     "name": "stderr",
     "output_type": "stream",
     "text": [
      "C:\\Users\\Raikou\\AppData\\Local\\Temp\\ipykernel_11592\\2694455489.py:40: FutureWarning: DataFrame.applymap has been deprecated. Use DataFrame.map instead.\n",
      "  aqi_col = pm25_cols.applymap(lambda x: 'Good' if x < 12\n",
      "C:\\Users\\Raikou\\AppData\\Local\\Temp\\ipykernel_11592\\2694455489.py:46: FutureWarning: DataFrame.applymap has been deprecated. Use DataFrame.map instead.\n",
      "  pm25_category_col = pm25_cols.applymap(lambda x: '< 12.00' if x < 12.00\n",
      "C:\\Users\\Raikou\\AppData\\Local\\Temp\\ipykernel_11592\\2694455489.py:53: FutureWarning: DataFrame.applymap has been deprecated. Use DataFrame.map instead.\n",
      "  meso_west_category_col = pm25_cols.applymap(lambda x: '< 2.00' if x < 2.00\n"
     ]
    },
    {
     "name": "stdout",
     "output_type": "stream",
     "text": [
      "Groomed: TRX02_2019_04.csv\n"
     ]
    },
    {
     "name": "stderr",
     "output_type": "stream",
     "text": [
      "C:\\Users\\Raikou\\AppData\\Local\\Temp\\ipykernel_11592\\2694455489.py:40: FutureWarning: DataFrame.applymap has been deprecated. Use DataFrame.map instead.\n",
      "  aqi_col = pm25_cols.applymap(lambda x: 'Good' if x < 12\n",
      "C:\\Users\\Raikou\\AppData\\Local\\Temp\\ipykernel_11592\\2694455489.py:46: FutureWarning: DataFrame.applymap has been deprecated. Use DataFrame.map instead.\n",
      "  pm25_category_col = pm25_cols.applymap(lambda x: '< 12.00' if x < 12.00\n",
      "C:\\Users\\Raikou\\AppData\\Local\\Temp\\ipykernel_11592\\2694455489.py:53: FutureWarning: DataFrame.applymap has been deprecated. Use DataFrame.map instead.\n",
      "  meso_west_category_col = pm25_cols.applymap(lambda x: '< 2.00' if x < 2.00\n"
     ]
    },
    {
     "name": "stdout",
     "output_type": "stream",
     "text": [
      "Groomed: TRX02_2019_05.csv\n"
     ]
    },
    {
     "name": "stderr",
     "output_type": "stream",
     "text": [
      "C:\\Users\\Raikou\\AppData\\Local\\Temp\\ipykernel_11592\\2694455489.py:40: FutureWarning: DataFrame.applymap has been deprecated. Use DataFrame.map instead.\n",
      "  aqi_col = pm25_cols.applymap(lambda x: 'Good' if x < 12\n",
      "C:\\Users\\Raikou\\AppData\\Local\\Temp\\ipykernel_11592\\2694455489.py:46: FutureWarning: DataFrame.applymap has been deprecated. Use DataFrame.map instead.\n",
      "  pm25_category_col = pm25_cols.applymap(lambda x: '< 12.00' if x < 12.00\n",
      "C:\\Users\\Raikou\\AppData\\Local\\Temp\\ipykernel_11592\\2694455489.py:53: FutureWarning: DataFrame.applymap has been deprecated. Use DataFrame.map instead.\n",
      "  meso_west_category_col = pm25_cols.applymap(lambda x: '< 2.00' if x < 2.00\n"
     ]
    },
    {
     "name": "stdout",
     "output_type": "stream",
     "text": [
      "Groomed: TRX02_2019_06.csv\n"
     ]
    },
    {
     "name": "stderr",
     "output_type": "stream",
     "text": [
      "C:\\Users\\Raikou\\AppData\\Local\\Temp\\ipykernel_11592\\2694455489.py:40: FutureWarning: DataFrame.applymap has been deprecated. Use DataFrame.map instead.\n",
      "  aqi_col = pm25_cols.applymap(lambda x: 'Good' if x < 12\n",
      "C:\\Users\\Raikou\\AppData\\Local\\Temp\\ipykernel_11592\\2694455489.py:46: FutureWarning: DataFrame.applymap has been deprecated. Use DataFrame.map instead.\n",
      "  pm25_category_col = pm25_cols.applymap(lambda x: '< 12.00' if x < 12.00\n",
      "C:\\Users\\Raikou\\AppData\\Local\\Temp\\ipykernel_11592\\2694455489.py:53: FutureWarning: DataFrame.applymap has been deprecated. Use DataFrame.map instead.\n",
      "  meso_west_category_col = pm25_cols.applymap(lambda x: '< 2.00' if x < 2.00\n"
     ]
    },
    {
     "name": "stdout",
     "output_type": "stream",
     "text": [
      "Groomed: TRX02_2019_07.csv\n"
     ]
    },
    {
     "name": "stderr",
     "output_type": "stream",
     "text": [
      "C:\\Users\\Raikou\\AppData\\Local\\Temp\\ipykernel_11592\\2694455489.py:40: FutureWarning: DataFrame.applymap has been deprecated. Use DataFrame.map instead.\n",
      "  aqi_col = pm25_cols.applymap(lambda x: 'Good' if x < 12\n",
      "C:\\Users\\Raikou\\AppData\\Local\\Temp\\ipykernel_11592\\2694455489.py:46: FutureWarning: DataFrame.applymap has been deprecated. Use DataFrame.map instead.\n",
      "  pm25_category_col = pm25_cols.applymap(lambda x: '< 12.00' if x < 12.00\n",
      "C:\\Users\\Raikou\\AppData\\Local\\Temp\\ipykernel_11592\\2694455489.py:53: FutureWarning: DataFrame.applymap has been deprecated. Use DataFrame.map instead.\n",
      "  meso_west_category_col = pm25_cols.applymap(lambda x: '< 2.00' if x < 2.00\n"
     ]
    },
    {
     "name": "stdout",
     "output_type": "stream",
     "text": [
      "Groomed: TRX02_2019_08.csv\n"
     ]
    },
    {
     "name": "stderr",
     "output_type": "stream",
     "text": [
      "C:\\Users\\Raikou\\AppData\\Local\\Temp\\ipykernel_11592\\2694455489.py:40: FutureWarning: DataFrame.applymap has been deprecated. Use DataFrame.map instead.\n",
      "  aqi_col = pm25_cols.applymap(lambda x: 'Good' if x < 12\n",
      "C:\\Users\\Raikou\\AppData\\Local\\Temp\\ipykernel_11592\\2694455489.py:46: FutureWarning: DataFrame.applymap has been deprecated. Use DataFrame.map instead.\n",
      "  pm25_category_col = pm25_cols.applymap(lambda x: '< 12.00' if x < 12.00\n",
      "C:\\Users\\Raikou\\AppData\\Local\\Temp\\ipykernel_11592\\2694455489.py:53: FutureWarning: DataFrame.applymap has been deprecated. Use DataFrame.map instead.\n",
      "  meso_west_category_col = pm25_cols.applymap(lambda x: '< 2.00' if x < 2.00\n"
     ]
    },
    {
     "name": "stdout",
     "output_type": "stream",
     "text": [
      "Groomed: TRX02_2019_09.csv\n"
     ]
    },
    {
     "name": "stderr",
     "output_type": "stream",
     "text": [
      "C:\\Users\\Raikou\\AppData\\Local\\Temp\\ipykernel_11592\\2694455489.py:40: FutureWarning: DataFrame.applymap has been deprecated. Use DataFrame.map instead.\n",
      "  aqi_col = pm25_cols.applymap(lambda x: 'Good' if x < 12\n",
      "C:\\Users\\Raikou\\AppData\\Local\\Temp\\ipykernel_11592\\2694455489.py:46: FutureWarning: DataFrame.applymap has been deprecated. Use DataFrame.map instead.\n",
      "  pm25_category_col = pm25_cols.applymap(lambda x: '< 12.00' if x < 12.00\n",
      "C:\\Users\\Raikou\\AppData\\Local\\Temp\\ipykernel_11592\\2694455489.py:53: FutureWarning: DataFrame.applymap has been deprecated. Use DataFrame.map instead.\n",
      "  meso_west_category_col = pm25_cols.applymap(lambda x: '< 2.00' if x < 2.00\n"
     ]
    },
    {
     "name": "stdout",
     "output_type": "stream",
     "text": [
      "Groomed: TRX02_2019_10.csv\n"
     ]
    },
    {
     "name": "stderr",
     "output_type": "stream",
     "text": [
      "C:\\Users\\Raikou\\AppData\\Local\\Temp\\ipykernel_11592\\2694455489.py:40: FutureWarning: DataFrame.applymap has been deprecated. Use DataFrame.map instead.\n",
      "  aqi_col = pm25_cols.applymap(lambda x: 'Good' if x < 12\n",
      "C:\\Users\\Raikou\\AppData\\Local\\Temp\\ipykernel_11592\\2694455489.py:46: FutureWarning: DataFrame.applymap has been deprecated. Use DataFrame.map instead.\n",
      "  pm25_category_col = pm25_cols.applymap(lambda x: '< 12.00' if x < 12.00\n",
      "C:\\Users\\Raikou\\AppData\\Local\\Temp\\ipykernel_11592\\2694455489.py:53: FutureWarning: DataFrame.applymap has been deprecated. Use DataFrame.map instead.\n",
      "  meso_west_category_col = pm25_cols.applymap(lambda x: '< 2.00' if x < 2.00\n"
     ]
    },
    {
     "name": "stdout",
     "output_type": "stream",
     "text": [
      "Groomed: TRX02_2019_11.csv\n"
     ]
    },
    {
     "name": "stderr",
     "output_type": "stream",
     "text": [
      "C:\\Users\\Raikou\\AppData\\Local\\Temp\\ipykernel_11592\\2694455489.py:40: FutureWarning: DataFrame.applymap has been deprecated. Use DataFrame.map instead.\n",
      "  aqi_col = pm25_cols.applymap(lambda x: 'Good' if x < 12\n",
      "C:\\Users\\Raikou\\AppData\\Local\\Temp\\ipykernel_11592\\2694455489.py:46: FutureWarning: DataFrame.applymap has been deprecated. Use DataFrame.map instead.\n",
      "  pm25_category_col = pm25_cols.applymap(lambda x: '< 12.00' if x < 12.00\n",
      "C:\\Users\\Raikou\\AppData\\Local\\Temp\\ipykernel_11592\\2694455489.py:53: FutureWarning: DataFrame.applymap has been deprecated. Use DataFrame.map instead.\n",
      "  meso_west_category_col = pm25_cols.applymap(lambda x: '< 2.00' if x < 2.00\n"
     ]
    },
    {
     "name": "stdout",
     "output_type": "stream",
     "text": [
      "Groomed: TRX02_2019_12.csv\n"
     ]
    },
    {
     "name": "stderr",
     "output_type": "stream",
     "text": [
      "C:\\Users\\Raikou\\AppData\\Local\\Temp\\ipykernel_11592\\2694455489.py:40: FutureWarning: DataFrame.applymap has been deprecated. Use DataFrame.map instead.\n",
      "  aqi_col = pm25_cols.applymap(lambda x: 'Good' if x < 12\n",
      "C:\\Users\\Raikou\\AppData\\Local\\Temp\\ipykernel_11592\\2694455489.py:46: FutureWarning: DataFrame.applymap has been deprecated. Use DataFrame.map instead.\n",
      "  pm25_category_col = pm25_cols.applymap(lambda x: '< 12.00' if x < 12.00\n",
      "C:\\Users\\Raikou\\AppData\\Local\\Temp\\ipykernel_11592\\2694455489.py:53: FutureWarning: DataFrame.applymap has been deprecated. Use DataFrame.map instead.\n",
      "  meso_west_category_col = pm25_cols.applymap(lambda x: '< 2.00' if x < 2.00\n"
     ]
    },
    {
     "name": "stdout",
     "output_type": "stream",
     "text": [
      "Groomed: TRX02_2020_01.csv\n"
     ]
    },
    {
     "name": "stderr",
     "output_type": "stream",
     "text": [
      "C:\\Users\\Raikou\\AppData\\Local\\Temp\\ipykernel_11592\\2694455489.py:40: FutureWarning: DataFrame.applymap has been deprecated. Use DataFrame.map instead.\n",
      "  aqi_col = pm25_cols.applymap(lambda x: 'Good' if x < 12\n",
      "C:\\Users\\Raikou\\AppData\\Local\\Temp\\ipykernel_11592\\2694455489.py:46: FutureWarning: DataFrame.applymap has been deprecated. Use DataFrame.map instead.\n",
      "  pm25_category_col = pm25_cols.applymap(lambda x: '< 12.00' if x < 12.00\n",
      "C:\\Users\\Raikou\\AppData\\Local\\Temp\\ipykernel_11592\\2694455489.py:53: FutureWarning: DataFrame.applymap has been deprecated. Use DataFrame.map instead.\n",
      "  meso_west_category_col = pm25_cols.applymap(lambda x: '< 2.00' if x < 2.00\n"
     ]
    },
    {
     "name": "stdout",
     "output_type": "stream",
     "text": [
      "Groomed: TRX02_2020_02.csv\n"
     ]
    },
    {
     "name": "stderr",
     "output_type": "stream",
     "text": [
      "C:\\Users\\Raikou\\AppData\\Local\\Temp\\ipykernel_11592\\2694455489.py:40: FutureWarning: DataFrame.applymap has been deprecated. Use DataFrame.map instead.\n",
      "  aqi_col = pm25_cols.applymap(lambda x: 'Good' if x < 12\n",
      "C:\\Users\\Raikou\\AppData\\Local\\Temp\\ipykernel_11592\\2694455489.py:46: FutureWarning: DataFrame.applymap has been deprecated. Use DataFrame.map instead.\n",
      "  pm25_category_col = pm25_cols.applymap(lambda x: '< 12.00' if x < 12.00\n",
      "C:\\Users\\Raikou\\AppData\\Local\\Temp\\ipykernel_11592\\2694455489.py:53: FutureWarning: DataFrame.applymap has been deprecated. Use DataFrame.map instead.\n",
      "  meso_west_category_col = pm25_cols.applymap(lambda x: '< 2.00' if x < 2.00\n"
     ]
    },
    {
     "name": "stdout",
     "output_type": "stream",
     "text": [
      "Groomed: TRX02_2020_03.csv\n"
     ]
    },
    {
     "name": "stderr",
     "output_type": "stream",
     "text": [
      "C:\\Users\\Raikou\\AppData\\Local\\Temp\\ipykernel_11592\\2694455489.py:40: FutureWarning: DataFrame.applymap has been deprecated. Use DataFrame.map instead.\n",
      "  aqi_col = pm25_cols.applymap(lambda x: 'Good' if x < 12\n",
      "C:\\Users\\Raikou\\AppData\\Local\\Temp\\ipykernel_11592\\2694455489.py:46: FutureWarning: DataFrame.applymap has been deprecated. Use DataFrame.map instead.\n",
      "  pm25_category_col = pm25_cols.applymap(lambda x: '< 12.00' if x < 12.00\n",
      "C:\\Users\\Raikou\\AppData\\Local\\Temp\\ipykernel_11592\\2694455489.py:53: FutureWarning: DataFrame.applymap has been deprecated. Use DataFrame.map instead.\n",
      "  meso_west_category_col = pm25_cols.applymap(lambda x: '< 2.00' if x < 2.00\n"
     ]
    },
    {
     "name": "stdout",
     "output_type": "stream",
     "text": [
      "Groomed: TRX02_2020_04.csv\n"
     ]
    },
    {
     "name": "stderr",
     "output_type": "stream",
     "text": [
      "C:\\Users\\Raikou\\AppData\\Local\\Temp\\ipykernel_11592\\2694455489.py:40: FutureWarning: DataFrame.applymap has been deprecated. Use DataFrame.map instead.\n",
      "  aqi_col = pm25_cols.applymap(lambda x: 'Good' if x < 12\n",
      "C:\\Users\\Raikou\\AppData\\Local\\Temp\\ipykernel_11592\\2694455489.py:46: FutureWarning: DataFrame.applymap has been deprecated. Use DataFrame.map instead.\n",
      "  pm25_category_col = pm25_cols.applymap(lambda x: '< 12.00' if x < 12.00\n",
      "C:\\Users\\Raikou\\AppData\\Local\\Temp\\ipykernel_11592\\2694455489.py:53: FutureWarning: DataFrame.applymap has been deprecated. Use DataFrame.map instead.\n",
      "  meso_west_category_col = pm25_cols.applymap(lambda x: '< 2.00' if x < 2.00\n"
     ]
    },
    {
     "name": "stdout",
     "output_type": "stream",
     "text": [
      "Groomed: TRX02_2020_05.csv\n"
     ]
    },
    {
     "name": "stderr",
     "output_type": "stream",
     "text": [
      "C:\\Users\\Raikou\\AppData\\Local\\Temp\\ipykernel_11592\\2694455489.py:40: FutureWarning: DataFrame.applymap has been deprecated. Use DataFrame.map instead.\n",
      "  aqi_col = pm25_cols.applymap(lambda x: 'Good' if x < 12\n",
      "C:\\Users\\Raikou\\AppData\\Local\\Temp\\ipykernel_11592\\2694455489.py:46: FutureWarning: DataFrame.applymap has been deprecated. Use DataFrame.map instead.\n",
      "  pm25_category_col = pm25_cols.applymap(lambda x: '< 12.00' if x < 12.00\n",
      "C:\\Users\\Raikou\\AppData\\Local\\Temp\\ipykernel_11592\\2694455489.py:53: FutureWarning: DataFrame.applymap has been deprecated. Use DataFrame.map instead.\n",
      "  meso_west_category_col = pm25_cols.applymap(lambda x: '< 2.00' if x < 2.00\n"
     ]
    },
    {
     "name": "stdout",
     "output_type": "stream",
     "text": [
      "Groomed: TRX02_2020_06.csv\n"
     ]
    },
    {
     "name": "stderr",
     "output_type": "stream",
     "text": [
      "C:\\Users\\Raikou\\AppData\\Local\\Temp\\ipykernel_11592\\2694455489.py:40: FutureWarning: DataFrame.applymap has been deprecated. Use DataFrame.map instead.\n",
      "  aqi_col = pm25_cols.applymap(lambda x: 'Good' if x < 12\n",
      "C:\\Users\\Raikou\\AppData\\Local\\Temp\\ipykernel_11592\\2694455489.py:46: FutureWarning: DataFrame.applymap has been deprecated. Use DataFrame.map instead.\n",
      "  pm25_category_col = pm25_cols.applymap(lambda x: '< 12.00' if x < 12.00\n",
      "C:\\Users\\Raikou\\AppData\\Local\\Temp\\ipykernel_11592\\2694455489.py:53: FutureWarning: DataFrame.applymap has been deprecated. Use DataFrame.map instead.\n",
      "  meso_west_category_col = pm25_cols.applymap(lambda x: '< 2.00' if x < 2.00\n"
     ]
    },
    {
     "name": "stdout",
     "output_type": "stream",
     "text": [
      "Groomed: TRX02_2020_07.csv\n"
     ]
    },
    {
     "name": "stderr",
     "output_type": "stream",
     "text": [
      "C:\\Users\\Raikou\\AppData\\Local\\Temp\\ipykernel_11592\\2694455489.py:40: FutureWarning: DataFrame.applymap has been deprecated. Use DataFrame.map instead.\n",
      "  aqi_col = pm25_cols.applymap(lambda x: 'Good' if x < 12\n",
      "C:\\Users\\Raikou\\AppData\\Local\\Temp\\ipykernel_11592\\2694455489.py:46: FutureWarning: DataFrame.applymap has been deprecated. Use DataFrame.map instead.\n",
      "  pm25_category_col = pm25_cols.applymap(lambda x: '< 12.00' if x < 12.00\n",
      "C:\\Users\\Raikou\\AppData\\Local\\Temp\\ipykernel_11592\\2694455489.py:53: FutureWarning: DataFrame.applymap has been deprecated. Use DataFrame.map instead.\n",
      "  meso_west_category_col = pm25_cols.applymap(lambda x: '< 2.00' if x < 2.00\n"
     ]
    },
    {
     "name": "stdout",
     "output_type": "stream",
     "text": [
      "Groomed: TRX02_2020_08.csv\n"
     ]
    },
    {
     "name": "stderr",
     "output_type": "stream",
     "text": [
      "C:\\Users\\Raikou\\AppData\\Local\\Temp\\ipykernel_11592\\2694455489.py:40: FutureWarning: DataFrame.applymap has been deprecated. Use DataFrame.map instead.\n",
      "  aqi_col = pm25_cols.applymap(lambda x: 'Good' if x < 12\n",
      "C:\\Users\\Raikou\\AppData\\Local\\Temp\\ipykernel_11592\\2694455489.py:46: FutureWarning: DataFrame.applymap has been deprecated. Use DataFrame.map instead.\n",
      "  pm25_category_col = pm25_cols.applymap(lambda x: '< 12.00' if x < 12.00\n",
      "C:\\Users\\Raikou\\AppData\\Local\\Temp\\ipykernel_11592\\2694455489.py:53: FutureWarning: DataFrame.applymap has been deprecated. Use DataFrame.map instead.\n",
      "  meso_west_category_col = pm25_cols.applymap(lambda x: '< 2.00' if x < 2.00\n"
     ]
    },
    {
     "name": "stdout",
     "output_type": "stream",
     "text": [
      "Groomed: TRX02_2020_09.csv\n"
     ]
    },
    {
     "name": "stderr",
     "output_type": "stream",
     "text": [
      "C:\\Users\\Raikou\\AppData\\Local\\Temp\\ipykernel_11592\\2694455489.py:40: FutureWarning: DataFrame.applymap has been deprecated. Use DataFrame.map instead.\n",
      "  aqi_col = pm25_cols.applymap(lambda x: 'Good' if x < 12\n",
      "C:\\Users\\Raikou\\AppData\\Local\\Temp\\ipykernel_11592\\2694455489.py:46: FutureWarning: DataFrame.applymap has been deprecated. Use DataFrame.map instead.\n",
      "  pm25_category_col = pm25_cols.applymap(lambda x: '< 12.00' if x < 12.00\n",
      "C:\\Users\\Raikou\\AppData\\Local\\Temp\\ipykernel_11592\\2694455489.py:53: FutureWarning: DataFrame.applymap has been deprecated. Use DataFrame.map instead.\n",
      "  meso_west_category_col = pm25_cols.applymap(lambda x: '< 2.00' if x < 2.00\n"
     ]
    },
    {
     "name": "stdout",
     "output_type": "stream",
     "text": [
      "Groomed: TRX02_2020_10.csv\n"
     ]
    },
    {
     "name": "stderr",
     "output_type": "stream",
     "text": [
      "C:\\Users\\Raikou\\AppData\\Local\\Temp\\ipykernel_11592\\2694455489.py:40: FutureWarning: DataFrame.applymap has been deprecated. Use DataFrame.map instead.\n",
      "  aqi_col = pm25_cols.applymap(lambda x: 'Good' if x < 12\n",
      "C:\\Users\\Raikou\\AppData\\Local\\Temp\\ipykernel_11592\\2694455489.py:46: FutureWarning: DataFrame.applymap has been deprecated. Use DataFrame.map instead.\n",
      "  pm25_category_col = pm25_cols.applymap(lambda x: '< 12.00' if x < 12.00\n",
      "C:\\Users\\Raikou\\AppData\\Local\\Temp\\ipykernel_11592\\2694455489.py:53: FutureWarning: DataFrame.applymap has been deprecated. Use DataFrame.map instead.\n",
      "  meso_west_category_col = pm25_cols.applymap(lambda x: '< 2.00' if x < 2.00\n"
     ]
    },
    {
     "name": "stdout",
     "output_type": "stream",
     "text": [
      "Groomed: TRX02_2020_11.csv\n"
     ]
    },
    {
     "name": "stderr",
     "output_type": "stream",
     "text": [
      "C:\\Users\\Raikou\\AppData\\Local\\Temp\\ipykernel_11592\\2694455489.py:40: FutureWarning: DataFrame.applymap has been deprecated. Use DataFrame.map instead.\n",
      "  aqi_col = pm25_cols.applymap(lambda x: 'Good' if x < 12\n",
      "C:\\Users\\Raikou\\AppData\\Local\\Temp\\ipykernel_11592\\2694455489.py:46: FutureWarning: DataFrame.applymap has been deprecated. Use DataFrame.map instead.\n",
      "  pm25_category_col = pm25_cols.applymap(lambda x: '< 12.00' if x < 12.00\n",
      "C:\\Users\\Raikou\\AppData\\Local\\Temp\\ipykernel_11592\\2694455489.py:53: FutureWarning: DataFrame.applymap has been deprecated. Use DataFrame.map instead.\n",
      "  meso_west_category_col = pm25_cols.applymap(lambda x: '< 2.00' if x < 2.00\n"
     ]
    },
    {
     "name": "stdout",
     "output_type": "stream",
     "text": [
      "Groomed: TRX02_2020_12.csv\n"
     ]
    },
    {
     "name": "stderr",
     "output_type": "stream",
     "text": [
      "C:\\Users\\Raikou\\AppData\\Local\\Temp\\ipykernel_11592\\2694455489.py:40: FutureWarning: DataFrame.applymap has been deprecated. Use DataFrame.map instead.\n",
      "  aqi_col = pm25_cols.applymap(lambda x: 'Good' if x < 12\n",
      "C:\\Users\\Raikou\\AppData\\Local\\Temp\\ipykernel_11592\\2694455489.py:46: FutureWarning: DataFrame.applymap has been deprecated. Use DataFrame.map instead.\n",
      "  pm25_category_col = pm25_cols.applymap(lambda x: '< 12.00' if x < 12.00\n",
      "C:\\Users\\Raikou\\AppData\\Local\\Temp\\ipykernel_11592\\2694455489.py:53: FutureWarning: DataFrame.applymap has been deprecated. Use DataFrame.map instead.\n",
      "  meso_west_category_col = pm25_cols.applymap(lambda x: '< 2.00' if x < 2.00\n"
     ]
    },
    {
     "name": "stdout",
     "output_type": "stream",
     "text": [
      "Groomed: TRX02_2021_01.csv\n"
     ]
    },
    {
     "name": "stderr",
     "output_type": "stream",
     "text": [
      "C:\\Users\\Raikou\\AppData\\Local\\Temp\\ipykernel_11592\\2694455489.py:40: FutureWarning: DataFrame.applymap has been deprecated. Use DataFrame.map instead.\n",
      "  aqi_col = pm25_cols.applymap(lambda x: 'Good' if x < 12\n",
      "C:\\Users\\Raikou\\AppData\\Local\\Temp\\ipykernel_11592\\2694455489.py:46: FutureWarning: DataFrame.applymap has been deprecated. Use DataFrame.map instead.\n",
      "  pm25_category_col = pm25_cols.applymap(lambda x: '< 12.00' if x < 12.00\n",
      "C:\\Users\\Raikou\\AppData\\Local\\Temp\\ipykernel_11592\\2694455489.py:53: FutureWarning: DataFrame.applymap has been deprecated. Use DataFrame.map instead.\n",
      "  meso_west_category_col = pm25_cols.applymap(lambda x: '< 2.00' if x < 2.00\n"
     ]
    },
    {
     "name": "stdout",
     "output_type": "stream",
     "text": [
      "Groomed: TRX02_2021_02.csv\n"
     ]
    },
    {
     "name": "stderr",
     "output_type": "stream",
     "text": [
      "C:\\Users\\Raikou\\AppData\\Local\\Temp\\ipykernel_11592\\2694455489.py:40: FutureWarning: DataFrame.applymap has been deprecated. Use DataFrame.map instead.\n",
      "  aqi_col = pm25_cols.applymap(lambda x: 'Good' if x < 12\n",
      "C:\\Users\\Raikou\\AppData\\Local\\Temp\\ipykernel_11592\\2694455489.py:46: FutureWarning: DataFrame.applymap has been deprecated. Use DataFrame.map instead.\n",
      "  pm25_category_col = pm25_cols.applymap(lambda x: '< 12.00' if x < 12.00\n",
      "C:\\Users\\Raikou\\AppData\\Local\\Temp\\ipykernel_11592\\2694455489.py:53: FutureWarning: DataFrame.applymap has been deprecated. Use DataFrame.map instead.\n",
      "  meso_west_category_col = pm25_cols.applymap(lambda x: '< 2.00' if x < 2.00\n"
     ]
    },
    {
     "name": "stdout",
     "output_type": "stream",
     "text": [
      "Groomed: TRX02_2021_03.csv\n"
     ]
    },
    {
     "name": "stderr",
     "output_type": "stream",
     "text": [
      "C:\\Users\\Raikou\\AppData\\Local\\Temp\\ipykernel_11592\\2694455489.py:40: FutureWarning: DataFrame.applymap has been deprecated. Use DataFrame.map instead.\n",
      "  aqi_col = pm25_cols.applymap(lambda x: 'Good' if x < 12\n",
      "C:\\Users\\Raikou\\AppData\\Local\\Temp\\ipykernel_11592\\2694455489.py:46: FutureWarning: DataFrame.applymap has been deprecated. Use DataFrame.map instead.\n",
      "  pm25_category_col = pm25_cols.applymap(lambda x: '< 12.00' if x < 12.00\n",
      "C:\\Users\\Raikou\\AppData\\Local\\Temp\\ipykernel_11592\\2694455489.py:53: FutureWarning: DataFrame.applymap has been deprecated. Use DataFrame.map instead.\n",
      "  meso_west_category_col = pm25_cols.applymap(lambda x: '< 2.00' if x < 2.00\n"
     ]
    },
    {
     "name": "stdout",
     "output_type": "stream",
     "text": [
      "Groomed: TRX02_2021_04.csv\n"
     ]
    },
    {
     "name": "stderr",
     "output_type": "stream",
     "text": [
      "C:\\Users\\Raikou\\AppData\\Local\\Temp\\ipykernel_11592\\2694455489.py:40: FutureWarning: DataFrame.applymap has been deprecated. Use DataFrame.map instead.\n",
      "  aqi_col = pm25_cols.applymap(lambda x: 'Good' if x < 12\n",
      "C:\\Users\\Raikou\\AppData\\Local\\Temp\\ipykernel_11592\\2694455489.py:46: FutureWarning: DataFrame.applymap has been deprecated. Use DataFrame.map instead.\n",
      "  pm25_category_col = pm25_cols.applymap(lambda x: '< 12.00' if x < 12.00\n",
      "C:\\Users\\Raikou\\AppData\\Local\\Temp\\ipykernel_11592\\2694455489.py:53: FutureWarning: DataFrame.applymap has been deprecated. Use DataFrame.map instead.\n",
      "  meso_west_category_col = pm25_cols.applymap(lambda x: '< 2.00' if x < 2.00\n"
     ]
    },
    {
     "name": "stdout",
     "output_type": "stream",
     "text": [
      "Groomed: TRX02_2021_05.csv\n"
     ]
    },
    {
     "name": "stderr",
     "output_type": "stream",
     "text": [
      "C:\\Users\\Raikou\\AppData\\Local\\Temp\\ipykernel_11592\\2694455489.py:40: FutureWarning: DataFrame.applymap has been deprecated. Use DataFrame.map instead.\n",
      "  aqi_col = pm25_cols.applymap(lambda x: 'Good' if x < 12\n",
      "C:\\Users\\Raikou\\AppData\\Local\\Temp\\ipykernel_11592\\2694455489.py:46: FutureWarning: DataFrame.applymap has been deprecated. Use DataFrame.map instead.\n",
      "  pm25_category_col = pm25_cols.applymap(lambda x: '< 12.00' if x < 12.00\n",
      "C:\\Users\\Raikou\\AppData\\Local\\Temp\\ipykernel_11592\\2694455489.py:53: FutureWarning: DataFrame.applymap has been deprecated. Use DataFrame.map instead.\n",
      "  meso_west_category_col = pm25_cols.applymap(lambda x: '< 2.00' if x < 2.00\n"
     ]
    },
    {
     "name": "stdout",
     "output_type": "stream",
     "text": [
      "Groomed: TRX02_2021_06.csv\n"
     ]
    },
    {
     "name": "stderr",
     "output_type": "stream",
     "text": [
      "C:\\Users\\Raikou\\AppData\\Local\\Temp\\ipykernel_11592\\2694455489.py:40: FutureWarning: DataFrame.applymap has been deprecated. Use DataFrame.map instead.\n",
      "  aqi_col = pm25_cols.applymap(lambda x: 'Good' if x < 12\n",
      "C:\\Users\\Raikou\\AppData\\Local\\Temp\\ipykernel_11592\\2694455489.py:46: FutureWarning: DataFrame.applymap has been deprecated. Use DataFrame.map instead.\n",
      "  pm25_category_col = pm25_cols.applymap(lambda x: '< 12.00' if x < 12.00\n",
      "C:\\Users\\Raikou\\AppData\\Local\\Temp\\ipykernel_11592\\2694455489.py:53: FutureWarning: DataFrame.applymap has been deprecated. Use DataFrame.map instead.\n",
      "  meso_west_category_col = pm25_cols.applymap(lambda x: '< 2.00' if x < 2.00\n"
     ]
    },
    {
     "name": "stdout",
     "output_type": "stream",
     "text": [
      "Groomed: TRX02_2021_07.csv\n"
     ]
    },
    {
     "name": "stderr",
     "output_type": "stream",
     "text": [
      "C:\\Users\\Raikou\\AppData\\Local\\Temp\\ipykernel_11592\\2694455489.py:40: FutureWarning: DataFrame.applymap has been deprecated. Use DataFrame.map instead.\n",
      "  aqi_col = pm25_cols.applymap(lambda x: 'Good' if x < 12\n",
      "C:\\Users\\Raikou\\AppData\\Local\\Temp\\ipykernel_11592\\2694455489.py:46: FutureWarning: DataFrame.applymap has been deprecated. Use DataFrame.map instead.\n",
      "  pm25_category_col = pm25_cols.applymap(lambda x: '< 12.00' if x < 12.00\n",
      "C:\\Users\\Raikou\\AppData\\Local\\Temp\\ipykernel_11592\\2694455489.py:53: FutureWarning: DataFrame.applymap has been deprecated. Use DataFrame.map instead.\n",
      "  meso_west_category_col = pm25_cols.applymap(lambda x: '< 2.00' if x < 2.00\n"
     ]
    },
    {
     "name": "stdout",
     "output_type": "stream",
     "text": [
      "Groomed: TRX02_2021_08.csv\n"
     ]
    },
    {
     "name": "stderr",
     "output_type": "stream",
     "text": [
      "C:\\Users\\Raikou\\AppData\\Local\\Temp\\ipykernel_11592\\2694455489.py:40: FutureWarning: DataFrame.applymap has been deprecated. Use DataFrame.map instead.\n",
      "  aqi_col = pm25_cols.applymap(lambda x: 'Good' if x < 12\n",
      "C:\\Users\\Raikou\\AppData\\Local\\Temp\\ipykernel_11592\\2694455489.py:46: FutureWarning: DataFrame.applymap has been deprecated. Use DataFrame.map instead.\n",
      "  pm25_category_col = pm25_cols.applymap(lambda x: '< 12.00' if x < 12.00\n",
      "C:\\Users\\Raikou\\AppData\\Local\\Temp\\ipykernel_11592\\2694455489.py:53: FutureWarning: DataFrame.applymap has been deprecated. Use DataFrame.map instead.\n",
      "  meso_west_category_col = pm25_cols.applymap(lambda x: '< 2.00' if x < 2.00\n"
     ]
    },
    {
     "name": "stdout",
     "output_type": "stream",
     "text": [
      "Groomed: TRX02_2021_09.csv\n"
     ]
    },
    {
     "name": "stderr",
     "output_type": "stream",
     "text": [
      "C:\\Users\\Raikou\\AppData\\Local\\Temp\\ipykernel_11592\\2694455489.py:40: FutureWarning: DataFrame.applymap has been deprecated. Use DataFrame.map instead.\n",
      "  aqi_col = pm25_cols.applymap(lambda x: 'Good' if x < 12\n",
      "C:\\Users\\Raikou\\AppData\\Local\\Temp\\ipykernel_11592\\2694455489.py:46: FutureWarning: DataFrame.applymap has been deprecated. Use DataFrame.map instead.\n",
      "  pm25_category_col = pm25_cols.applymap(lambda x: '< 12.00' if x < 12.00\n",
      "C:\\Users\\Raikou\\AppData\\Local\\Temp\\ipykernel_11592\\2694455489.py:53: FutureWarning: DataFrame.applymap has been deprecated. Use DataFrame.map instead.\n",
      "  meso_west_category_col = pm25_cols.applymap(lambda x: '< 2.00' if x < 2.00\n"
     ]
    },
    {
     "name": "stdout",
     "output_type": "stream",
     "text": [
      "Groomed: TRX02_2021_10.csv\n"
     ]
    },
    {
     "name": "stderr",
     "output_type": "stream",
     "text": [
      "C:\\Users\\Raikou\\AppData\\Local\\Temp\\ipykernel_11592\\2694455489.py:40: FutureWarning: DataFrame.applymap has been deprecated. Use DataFrame.map instead.\n",
      "  aqi_col = pm25_cols.applymap(lambda x: 'Good' if x < 12\n",
      "C:\\Users\\Raikou\\AppData\\Local\\Temp\\ipykernel_11592\\2694455489.py:46: FutureWarning: DataFrame.applymap has been deprecated. Use DataFrame.map instead.\n",
      "  pm25_category_col = pm25_cols.applymap(lambda x: '< 12.00' if x < 12.00\n",
      "C:\\Users\\Raikou\\AppData\\Local\\Temp\\ipykernel_11592\\2694455489.py:53: FutureWarning: DataFrame.applymap has been deprecated. Use DataFrame.map instead.\n",
      "  meso_west_category_col = pm25_cols.applymap(lambda x: '< 2.00' if x < 2.00\n"
     ]
    },
    {
     "name": "stdout",
     "output_type": "stream",
     "text": [
      "Groomed: TRX02_2021_11.csv\n"
     ]
    },
    {
     "name": "stderr",
     "output_type": "stream",
     "text": [
      "C:\\Users\\Raikou\\AppData\\Local\\Temp\\ipykernel_11592\\2694455489.py:40: FutureWarning: DataFrame.applymap has been deprecated. Use DataFrame.map instead.\n",
      "  aqi_col = pm25_cols.applymap(lambda x: 'Good' if x < 12\n",
      "C:\\Users\\Raikou\\AppData\\Local\\Temp\\ipykernel_11592\\2694455489.py:46: FutureWarning: DataFrame.applymap has been deprecated. Use DataFrame.map instead.\n",
      "  pm25_category_col = pm25_cols.applymap(lambda x: '< 12.00' if x < 12.00\n",
      "C:\\Users\\Raikou\\AppData\\Local\\Temp\\ipykernel_11592\\2694455489.py:53: FutureWarning: DataFrame.applymap has been deprecated. Use DataFrame.map instead.\n",
      "  meso_west_category_col = pm25_cols.applymap(lambda x: '< 2.00' if x < 2.00\n"
     ]
    },
    {
     "name": "stdout",
     "output_type": "stream",
     "text": [
      "Groomed: TRX02_2021_12.csv\n"
     ]
    },
    {
     "name": "stderr",
     "output_type": "stream",
     "text": [
      "C:\\Users\\Raikou\\AppData\\Local\\Temp\\ipykernel_11592\\2694455489.py:40: FutureWarning: DataFrame.applymap has been deprecated. Use DataFrame.map instead.\n",
      "  aqi_col = pm25_cols.applymap(lambda x: 'Good' if x < 12\n",
      "C:\\Users\\Raikou\\AppData\\Local\\Temp\\ipykernel_11592\\2694455489.py:46: FutureWarning: DataFrame.applymap has been deprecated. Use DataFrame.map instead.\n",
      "  pm25_category_col = pm25_cols.applymap(lambda x: '< 12.00' if x < 12.00\n",
      "C:\\Users\\Raikou\\AppData\\Local\\Temp\\ipykernel_11592\\2694455489.py:53: FutureWarning: DataFrame.applymap has been deprecated. Use DataFrame.map instead.\n",
      "  meso_west_category_col = pm25_cols.applymap(lambda x: '< 2.00' if x < 2.00\n"
     ]
    },
    {
     "name": "stdout",
     "output_type": "stream",
     "text": [
      "Groomed: TRX02_2022_01.csv\n"
     ]
    },
    {
     "name": "stderr",
     "output_type": "stream",
     "text": [
      "C:\\Users\\Raikou\\AppData\\Local\\Temp\\ipykernel_11592\\2694455489.py:40: FutureWarning: DataFrame.applymap has been deprecated. Use DataFrame.map instead.\n",
      "  aqi_col = pm25_cols.applymap(lambda x: 'Good' if x < 12\n",
      "C:\\Users\\Raikou\\AppData\\Local\\Temp\\ipykernel_11592\\2694455489.py:46: FutureWarning: DataFrame.applymap has been deprecated. Use DataFrame.map instead.\n",
      "  pm25_category_col = pm25_cols.applymap(lambda x: '< 12.00' if x < 12.00\n",
      "C:\\Users\\Raikou\\AppData\\Local\\Temp\\ipykernel_11592\\2694455489.py:53: FutureWarning: DataFrame.applymap has been deprecated. Use DataFrame.map instead.\n",
      "  meso_west_category_col = pm25_cols.applymap(lambda x: '< 2.00' if x < 2.00\n"
     ]
    },
    {
     "name": "stdout",
     "output_type": "stream",
     "text": [
      "Groomed: TRX02_2022_02.csv\n"
     ]
    },
    {
     "name": "stderr",
     "output_type": "stream",
     "text": [
      "C:\\Users\\Raikou\\AppData\\Local\\Temp\\ipykernel_11592\\2694455489.py:40: FutureWarning: DataFrame.applymap has been deprecated. Use DataFrame.map instead.\n",
      "  aqi_col = pm25_cols.applymap(lambda x: 'Good' if x < 12\n",
      "C:\\Users\\Raikou\\AppData\\Local\\Temp\\ipykernel_11592\\2694455489.py:46: FutureWarning: DataFrame.applymap has been deprecated. Use DataFrame.map instead.\n",
      "  pm25_category_col = pm25_cols.applymap(lambda x: '< 12.00' if x < 12.00\n",
      "C:\\Users\\Raikou\\AppData\\Local\\Temp\\ipykernel_11592\\2694455489.py:53: FutureWarning: DataFrame.applymap has been deprecated. Use DataFrame.map instead.\n",
      "  meso_west_category_col = pm25_cols.applymap(lambda x: '< 2.00' if x < 2.00\n"
     ]
    },
    {
     "name": "stdout",
     "output_type": "stream",
     "text": [
      "Groomed: TRX02_2022_03.csv\n"
     ]
    },
    {
     "name": "stderr",
     "output_type": "stream",
     "text": [
      "C:\\Users\\Raikou\\AppData\\Local\\Temp\\ipykernel_11592\\2694455489.py:40: FutureWarning: DataFrame.applymap has been deprecated. Use DataFrame.map instead.\n",
      "  aqi_col = pm25_cols.applymap(lambda x: 'Good' if x < 12\n",
      "C:\\Users\\Raikou\\AppData\\Local\\Temp\\ipykernel_11592\\2694455489.py:46: FutureWarning: DataFrame.applymap has been deprecated. Use DataFrame.map instead.\n",
      "  pm25_category_col = pm25_cols.applymap(lambda x: '< 12.00' if x < 12.00\n",
      "C:\\Users\\Raikou\\AppData\\Local\\Temp\\ipykernel_11592\\2694455489.py:53: FutureWarning: DataFrame.applymap has been deprecated. Use DataFrame.map instead.\n",
      "  meso_west_category_col = pm25_cols.applymap(lambda x: '< 2.00' if x < 2.00\n"
     ]
    },
    {
     "name": "stdout",
     "output_type": "stream",
     "text": [
      "Groomed: TRX02_2022_04.csv\n"
     ]
    },
    {
     "name": "stderr",
     "output_type": "stream",
     "text": [
      "C:\\Users\\Raikou\\AppData\\Local\\Temp\\ipykernel_11592\\2694455489.py:40: FutureWarning: DataFrame.applymap has been deprecated. Use DataFrame.map instead.\n",
      "  aqi_col = pm25_cols.applymap(lambda x: 'Good' if x < 12\n",
      "C:\\Users\\Raikou\\AppData\\Local\\Temp\\ipykernel_11592\\2694455489.py:46: FutureWarning: DataFrame.applymap has been deprecated. Use DataFrame.map instead.\n",
      "  pm25_category_col = pm25_cols.applymap(lambda x: '< 12.00' if x < 12.00\n",
      "C:\\Users\\Raikou\\AppData\\Local\\Temp\\ipykernel_11592\\2694455489.py:53: FutureWarning: DataFrame.applymap has been deprecated. Use DataFrame.map instead.\n",
      "  meso_west_category_col = pm25_cols.applymap(lambda x: '< 2.00' if x < 2.00\n"
     ]
    },
    {
     "name": "stdout",
     "output_type": "stream",
     "text": [
      "Groomed: TRX02_2022_05.csv\n"
     ]
    },
    {
     "name": "stderr",
     "output_type": "stream",
     "text": [
      "C:\\Users\\Raikou\\AppData\\Local\\Temp\\ipykernel_11592\\2694455489.py:40: FutureWarning: DataFrame.applymap has been deprecated. Use DataFrame.map instead.\n",
      "  aqi_col = pm25_cols.applymap(lambda x: 'Good' if x < 12\n",
      "C:\\Users\\Raikou\\AppData\\Local\\Temp\\ipykernel_11592\\2694455489.py:46: FutureWarning: DataFrame.applymap has been deprecated. Use DataFrame.map instead.\n",
      "  pm25_category_col = pm25_cols.applymap(lambda x: '< 12.00' if x < 12.00\n",
      "C:\\Users\\Raikou\\AppData\\Local\\Temp\\ipykernel_11592\\2694455489.py:53: FutureWarning: DataFrame.applymap has been deprecated. Use DataFrame.map instead.\n",
      "  meso_west_category_col = pm25_cols.applymap(lambda x: '< 2.00' if x < 2.00\n"
     ]
    },
    {
     "name": "stdout",
     "output_type": "stream",
     "text": [
      "Groomed: TRX02_2022_06.csv\n"
     ]
    },
    {
     "name": "stderr",
     "output_type": "stream",
     "text": [
      "C:\\Users\\Raikou\\AppData\\Local\\Temp\\ipykernel_11592\\2694455489.py:40: FutureWarning: DataFrame.applymap has been deprecated. Use DataFrame.map instead.\n",
      "  aqi_col = pm25_cols.applymap(lambda x: 'Good' if x < 12\n",
      "C:\\Users\\Raikou\\AppData\\Local\\Temp\\ipykernel_11592\\2694455489.py:46: FutureWarning: DataFrame.applymap has been deprecated. Use DataFrame.map instead.\n",
      "  pm25_category_col = pm25_cols.applymap(lambda x: '< 12.00' if x < 12.00\n",
      "C:\\Users\\Raikou\\AppData\\Local\\Temp\\ipykernel_11592\\2694455489.py:53: FutureWarning: DataFrame.applymap has been deprecated. Use DataFrame.map instead.\n",
      "  meso_west_category_col = pm25_cols.applymap(lambda x: '< 2.00' if x < 2.00\n"
     ]
    },
    {
     "name": "stdout",
     "output_type": "stream",
     "text": [
      "Groomed: TRX02_2022_07.csv\n"
     ]
    },
    {
     "name": "stderr",
     "output_type": "stream",
     "text": [
      "C:\\Users\\Raikou\\AppData\\Local\\Temp\\ipykernel_11592\\2694455489.py:40: FutureWarning: DataFrame.applymap has been deprecated. Use DataFrame.map instead.\n",
      "  aqi_col = pm25_cols.applymap(lambda x: 'Good' if x < 12\n",
      "C:\\Users\\Raikou\\AppData\\Local\\Temp\\ipykernel_11592\\2694455489.py:46: FutureWarning: DataFrame.applymap has been deprecated. Use DataFrame.map instead.\n",
      "  pm25_category_col = pm25_cols.applymap(lambda x: '< 12.00' if x < 12.00\n",
      "C:\\Users\\Raikou\\AppData\\Local\\Temp\\ipykernel_11592\\2694455489.py:53: FutureWarning: DataFrame.applymap has been deprecated. Use DataFrame.map instead.\n",
      "  meso_west_category_col = pm25_cols.applymap(lambda x: '< 2.00' if x < 2.00\n"
     ]
    },
    {
     "name": "stdout",
     "output_type": "stream",
     "text": [
      "Groomed: TRX02_2022_08.csv\n"
     ]
    },
    {
     "name": "stderr",
     "output_type": "stream",
     "text": [
      "C:\\Users\\Raikou\\AppData\\Local\\Temp\\ipykernel_11592\\2694455489.py:40: FutureWarning: DataFrame.applymap has been deprecated. Use DataFrame.map instead.\n",
      "  aqi_col = pm25_cols.applymap(lambda x: 'Good' if x < 12\n",
      "C:\\Users\\Raikou\\AppData\\Local\\Temp\\ipykernel_11592\\2694455489.py:46: FutureWarning: DataFrame.applymap has been deprecated. Use DataFrame.map instead.\n",
      "  pm25_category_col = pm25_cols.applymap(lambda x: '< 12.00' if x < 12.00\n",
      "C:\\Users\\Raikou\\AppData\\Local\\Temp\\ipykernel_11592\\2694455489.py:53: FutureWarning: DataFrame.applymap has been deprecated. Use DataFrame.map instead.\n",
      "  meso_west_category_col = pm25_cols.applymap(lambda x: '< 2.00' if x < 2.00\n"
     ]
    },
    {
     "name": "stdout",
     "output_type": "stream",
     "text": [
      "Groomed: TRX02_2022_09.csv\n"
     ]
    },
    {
     "name": "stderr",
     "output_type": "stream",
     "text": [
      "C:\\Users\\Raikou\\AppData\\Local\\Temp\\ipykernel_11592\\2694455489.py:40: FutureWarning: DataFrame.applymap has been deprecated. Use DataFrame.map instead.\n",
      "  aqi_col = pm25_cols.applymap(lambda x: 'Good' if x < 12\n",
      "C:\\Users\\Raikou\\AppData\\Local\\Temp\\ipykernel_11592\\2694455489.py:46: FutureWarning: DataFrame.applymap has been deprecated. Use DataFrame.map instead.\n",
      "  pm25_category_col = pm25_cols.applymap(lambda x: '< 12.00' if x < 12.00\n",
      "C:\\Users\\Raikou\\AppData\\Local\\Temp\\ipykernel_11592\\2694455489.py:53: FutureWarning: DataFrame.applymap has been deprecated. Use DataFrame.map instead.\n",
      "  meso_west_category_col = pm25_cols.applymap(lambda x: '< 2.00' if x < 2.00\n"
     ]
    },
    {
     "name": "stdout",
     "output_type": "stream",
     "text": [
      "Groomed: TRX02_2022_10.csv\n"
     ]
    },
    {
     "name": "stderr",
     "output_type": "stream",
     "text": [
      "C:\\Users\\Raikou\\AppData\\Local\\Temp\\ipykernel_11592\\2694455489.py:40: FutureWarning: DataFrame.applymap has been deprecated. Use DataFrame.map instead.\n",
      "  aqi_col = pm25_cols.applymap(lambda x: 'Good' if x < 12\n",
      "C:\\Users\\Raikou\\AppData\\Local\\Temp\\ipykernel_11592\\2694455489.py:46: FutureWarning: DataFrame.applymap has been deprecated. Use DataFrame.map instead.\n",
      "  pm25_category_col = pm25_cols.applymap(lambda x: '< 12.00' if x < 12.00\n",
      "C:\\Users\\Raikou\\AppData\\Local\\Temp\\ipykernel_11592\\2694455489.py:53: FutureWarning: DataFrame.applymap has been deprecated. Use DataFrame.map instead.\n",
      "  meso_west_category_col = pm25_cols.applymap(lambda x: '< 2.00' if x < 2.00\n"
     ]
    },
    {
     "name": "stdout",
     "output_type": "stream",
     "text": [
      "Groomed: TRX02_2022_11.csv\n"
     ]
    },
    {
     "name": "stderr",
     "output_type": "stream",
     "text": [
      "C:\\Users\\Raikou\\AppData\\Local\\Temp\\ipykernel_11592\\2694455489.py:40: FutureWarning: DataFrame.applymap has been deprecated. Use DataFrame.map instead.\n",
      "  aqi_col = pm25_cols.applymap(lambda x: 'Good' if x < 12\n",
      "C:\\Users\\Raikou\\AppData\\Local\\Temp\\ipykernel_11592\\2694455489.py:46: FutureWarning: DataFrame.applymap has been deprecated. Use DataFrame.map instead.\n",
      "  pm25_category_col = pm25_cols.applymap(lambda x: '< 12.00' if x < 12.00\n",
      "C:\\Users\\Raikou\\AppData\\Local\\Temp\\ipykernel_11592\\2694455489.py:53: FutureWarning: DataFrame.applymap has been deprecated. Use DataFrame.map instead.\n",
      "  meso_west_category_col = pm25_cols.applymap(lambda x: '< 2.00' if x < 2.00\n"
     ]
    },
    {
     "name": "stdout",
     "output_type": "stream",
     "text": [
      "Groomed: TRX02_2022_12.csv\n"
     ]
    },
    {
     "name": "stderr",
     "output_type": "stream",
     "text": [
      "C:\\Users\\Raikou\\AppData\\Local\\Temp\\ipykernel_11592\\2694455489.py:40: FutureWarning: DataFrame.applymap has been deprecated. Use DataFrame.map instead.\n",
      "  aqi_col = pm25_cols.applymap(lambda x: 'Good' if x < 12\n",
      "C:\\Users\\Raikou\\AppData\\Local\\Temp\\ipykernel_11592\\2694455489.py:46: FutureWarning: DataFrame.applymap has been deprecated. Use DataFrame.map instead.\n",
      "  pm25_category_col = pm25_cols.applymap(lambda x: '< 12.00' if x < 12.00\n",
      "C:\\Users\\Raikou\\AppData\\Local\\Temp\\ipykernel_11592\\2694455489.py:53: FutureWarning: DataFrame.applymap has been deprecated. Use DataFrame.map instead.\n",
      "  meso_west_category_col = pm25_cols.applymap(lambda x: '< 2.00' if x < 2.00\n"
     ]
    },
    {
     "name": "stdout",
     "output_type": "stream",
     "text": [
      "Groomed: TRX02_2023_01.csv\n"
     ]
    },
    {
     "name": "stderr",
     "output_type": "stream",
     "text": [
      "C:\\Users\\Raikou\\AppData\\Local\\Temp\\ipykernel_11592\\2694455489.py:40: FutureWarning: DataFrame.applymap has been deprecated. Use DataFrame.map instead.\n",
      "  aqi_col = pm25_cols.applymap(lambda x: 'Good' if x < 12\n",
      "C:\\Users\\Raikou\\AppData\\Local\\Temp\\ipykernel_11592\\2694455489.py:46: FutureWarning: DataFrame.applymap has been deprecated. Use DataFrame.map instead.\n",
      "  pm25_category_col = pm25_cols.applymap(lambda x: '< 12.00' if x < 12.00\n",
      "C:\\Users\\Raikou\\AppData\\Local\\Temp\\ipykernel_11592\\2694455489.py:53: FutureWarning: DataFrame.applymap has been deprecated. Use DataFrame.map instead.\n",
      "  meso_west_category_col = pm25_cols.applymap(lambda x: '< 2.00' if x < 2.00\n"
     ]
    },
    {
     "name": "stdout",
     "output_type": "stream",
     "text": [
      "Groomed: TRX02_2023_02.csv\n"
     ]
    },
    {
     "name": "stderr",
     "output_type": "stream",
     "text": [
      "C:\\Users\\Raikou\\AppData\\Local\\Temp\\ipykernel_11592\\2694455489.py:40: FutureWarning: DataFrame.applymap has been deprecated. Use DataFrame.map instead.\n",
      "  aqi_col = pm25_cols.applymap(lambda x: 'Good' if x < 12\n",
      "C:\\Users\\Raikou\\AppData\\Local\\Temp\\ipykernel_11592\\2694455489.py:46: FutureWarning: DataFrame.applymap has been deprecated. Use DataFrame.map instead.\n",
      "  pm25_category_col = pm25_cols.applymap(lambda x: '< 12.00' if x < 12.00\n",
      "C:\\Users\\Raikou\\AppData\\Local\\Temp\\ipykernel_11592\\2694455489.py:53: FutureWarning: DataFrame.applymap has been deprecated. Use DataFrame.map instead.\n",
      "  meso_west_category_col = pm25_cols.applymap(lambda x: '< 2.00' if x < 2.00\n"
     ]
    },
    {
     "name": "stdout",
     "output_type": "stream",
     "text": [
      "Groomed: TRX02_2023_03.csv\n"
     ]
    },
    {
     "name": "stderr",
     "output_type": "stream",
     "text": [
      "C:\\Users\\Raikou\\AppData\\Local\\Temp\\ipykernel_11592\\2694455489.py:40: FutureWarning: DataFrame.applymap has been deprecated. Use DataFrame.map instead.\n",
      "  aqi_col = pm25_cols.applymap(lambda x: 'Good' if x < 12\n",
      "C:\\Users\\Raikou\\AppData\\Local\\Temp\\ipykernel_11592\\2694455489.py:46: FutureWarning: DataFrame.applymap has been deprecated. Use DataFrame.map instead.\n",
      "  pm25_category_col = pm25_cols.applymap(lambda x: '< 12.00' if x < 12.00\n",
      "C:\\Users\\Raikou\\AppData\\Local\\Temp\\ipykernel_11592\\2694455489.py:53: FutureWarning: DataFrame.applymap has been deprecated. Use DataFrame.map instead.\n",
      "  meso_west_category_col = pm25_cols.applymap(lambda x: '< 2.00' if x < 2.00\n"
     ]
    },
    {
     "name": "stdout",
     "output_type": "stream",
     "text": [
      "Groomed: TRX02_2023_04.csv\n"
     ]
    },
    {
     "name": "stderr",
     "output_type": "stream",
     "text": [
      "C:\\Users\\Raikou\\AppData\\Local\\Temp\\ipykernel_11592\\2694455489.py:40: FutureWarning: DataFrame.applymap has been deprecated. Use DataFrame.map instead.\n",
      "  aqi_col = pm25_cols.applymap(lambda x: 'Good' if x < 12\n",
      "C:\\Users\\Raikou\\AppData\\Local\\Temp\\ipykernel_11592\\2694455489.py:46: FutureWarning: DataFrame.applymap has been deprecated. Use DataFrame.map instead.\n",
      "  pm25_category_col = pm25_cols.applymap(lambda x: '< 12.00' if x < 12.00\n",
      "C:\\Users\\Raikou\\AppData\\Local\\Temp\\ipykernel_11592\\2694455489.py:53: FutureWarning: DataFrame.applymap has been deprecated. Use DataFrame.map instead.\n",
      "  meso_west_category_col = pm25_cols.applymap(lambda x: '< 2.00' if x < 2.00\n"
     ]
    },
    {
     "name": "stdout",
     "output_type": "stream",
     "text": [
      "Groomed: TRX02_2023_05.csv\n"
     ]
    },
    {
     "name": "stderr",
     "output_type": "stream",
     "text": [
      "C:\\Users\\Raikou\\AppData\\Local\\Temp\\ipykernel_11592\\2694455489.py:40: FutureWarning: DataFrame.applymap has been deprecated. Use DataFrame.map instead.\n",
      "  aqi_col = pm25_cols.applymap(lambda x: 'Good' if x < 12\n",
      "C:\\Users\\Raikou\\AppData\\Local\\Temp\\ipykernel_11592\\2694455489.py:46: FutureWarning: DataFrame.applymap has been deprecated. Use DataFrame.map instead.\n",
      "  pm25_category_col = pm25_cols.applymap(lambda x: '< 12.00' if x < 12.00\n",
      "C:\\Users\\Raikou\\AppData\\Local\\Temp\\ipykernel_11592\\2694455489.py:53: FutureWarning: DataFrame.applymap has been deprecated. Use DataFrame.map instead.\n",
      "  meso_west_category_col = pm25_cols.applymap(lambda x: '< 2.00' if x < 2.00\n"
     ]
    },
    {
     "name": "stdout",
     "output_type": "stream",
     "text": [
      "Groomed: TRX02_2023_06.csv\n"
     ]
    },
    {
     "name": "stderr",
     "output_type": "stream",
     "text": [
      "C:\\Users\\Raikou\\AppData\\Local\\Temp\\ipykernel_11592\\2694455489.py:40: FutureWarning: DataFrame.applymap has been deprecated. Use DataFrame.map instead.\n",
      "  aqi_col = pm25_cols.applymap(lambda x: 'Good' if x < 12\n",
      "C:\\Users\\Raikou\\AppData\\Local\\Temp\\ipykernel_11592\\2694455489.py:46: FutureWarning: DataFrame.applymap has been deprecated. Use DataFrame.map instead.\n",
      "  pm25_category_col = pm25_cols.applymap(lambda x: '< 12.00' if x < 12.00\n",
      "C:\\Users\\Raikou\\AppData\\Local\\Temp\\ipykernel_11592\\2694455489.py:53: FutureWarning: DataFrame.applymap has been deprecated. Use DataFrame.map instead.\n",
      "  meso_west_category_col = pm25_cols.applymap(lambda x: '< 2.00' if x < 2.00\n"
     ]
    },
    {
     "name": "stdout",
     "output_type": "stream",
     "text": [
      "Groomed: TRX02_2023_07.csv\n"
     ]
    },
    {
     "name": "stderr",
     "output_type": "stream",
     "text": [
      "C:\\Users\\Raikou\\AppData\\Local\\Temp\\ipykernel_11592\\2694455489.py:40: FutureWarning: DataFrame.applymap has been deprecated. Use DataFrame.map instead.\n",
      "  aqi_col = pm25_cols.applymap(lambda x: 'Good' if x < 12\n",
      "C:\\Users\\Raikou\\AppData\\Local\\Temp\\ipykernel_11592\\2694455489.py:46: FutureWarning: DataFrame.applymap has been deprecated. Use DataFrame.map instead.\n",
      "  pm25_category_col = pm25_cols.applymap(lambda x: '< 12.00' if x < 12.00\n",
      "C:\\Users\\Raikou\\AppData\\Local\\Temp\\ipykernel_11592\\2694455489.py:53: FutureWarning: DataFrame.applymap has been deprecated. Use DataFrame.map instead.\n",
      "  meso_west_category_col = pm25_cols.applymap(lambda x: '< 2.00' if x < 2.00\n"
     ]
    },
    {
     "name": "stdout",
     "output_type": "stream",
     "text": [
      "Groomed: TRX02_2023_08.csv\n"
     ]
    },
    {
     "name": "stderr",
     "output_type": "stream",
     "text": [
      "C:\\Users\\Raikou\\AppData\\Local\\Temp\\ipykernel_11592\\2694455489.py:40: FutureWarning: DataFrame.applymap has been deprecated. Use DataFrame.map instead.\n",
      "  aqi_col = pm25_cols.applymap(lambda x: 'Good' if x < 12\n",
      "C:\\Users\\Raikou\\AppData\\Local\\Temp\\ipykernel_11592\\2694455489.py:46: FutureWarning: DataFrame.applymap has been deprecated. Use DataFrame.map instead.\n",
      "  pm25_category_col = pm25_cols.applymap(lambda x: '< 12.00' if x < 12.00\n",
      "C:\\Users\\Raikou\\AppData\\Local\\Temp\\ipykernel_11592\\2694455489.py:53: FutureWarning: DataFrame.applymap has been deprecated. Use DataFrame.map instead.\n",
      "  meso_west_category_col = pm25_cols.applymap(lambda x: '< 2.00' if x < 2.00\n"
     ]
    },
    {
     "name": "stdout",
     "output_type": "stream",
     "text": [
      "Groomed: TRX02_2023_09.csv\n"
     ]
    },
    {
     "name": "stderr",
     "output_type": "stream",
     "text": [
      "C:\\Users\\Raikou\\AppData\\Local\\Temp\\ipykernel_11592\\2694455489.py:40: FutureWarning: DataFrame.applymap has been deprecated. Use DataFrame.map instead.\n",
      "  aqi_col = pm25_cols.applymap(lambda x: 'Good' if x < 12\n",
      "C:\\Users\\Raikou\\AppData\\Local\\Temp\\ipykernel_11592\\2694455489.py:46: FutureWarning: DataFrame.applymap has been deprecated. Use DataFrame.map instead.\n",
      "  pm25_category_col = pm25_cols.applymap(lambda x: '< 12.00' if x < 12.00\n",
      "C:\\Users\\Raikou\\AppData\\Local\\Temp\\ipykernel_11592\\2694455489.py:53: FutureWarning: DataFrame.applymap has been deprecated. Use DataFrame.map instead.\n",
      "  meso_west_category_col = pm25_cols.applymap(lambda x: '< 2.00' if x < 2.00\n"
     ]
    },
    {
     "name": "stdout",
     "output_type": "stream",
     "text": [
      "Groomed: TRX03_2019_11.csv\n"
     ]
    },
    {
     "name": "stderr",
     "output_type": "stream",
     "text": [
      "C:\\Users\\Raikou\\AppData\\Local\\Temp\\ipykernel_11592\\2694455489.py:40: FutureWarning: DataFrame.applymap has been deprecated. Use DataFrame.map instead.\n",
      "  aqi_col = pm25_cols.applymap(lambda x: 'Good' if x < 12\n",
      "C:\\Users\\Raikou\\AppData\\Local\\Temp\\ipykernel_11592\\2694455489.py:46: FutureWarning: DataFrame.applymap has been deprecated. Use DataFrame.map instead.\n",
      "  pm25_category_col = pm25_cols.applymap(lambda x: '< 12.00' if x < 12.00\n",
      "C:\\Users\\Raikou\\AppData\\Local\\Temp\\ipykernel_11592\\2694455489.py:53: FutureWarning: DataFrame.applymap has been deprecated. Use DataFrame.map instead.\n",
      "  meso_west_category_col = pm25_cols.applymap(lambda x: '< 2.00' if x < 2.00\n"
     ]
    },
    {
     "name": "stdout",
     "output_type": "stream",
     "text": [
      "Groomed: TRX03_2019_12.csv\n"
     ]
    },
    {
     "name": "stderr",
     "output_type": "stream",
     "text": [
      "C:\\Users\\Raikou\\AppData\\Local\\Temp\\ipykernel_11592\\2694455489.py:40: FutureWarning: DataFrame.applymap has been deprecated. Use DataFrame.map instead.\n",
      "  aqi_col = pm25_cols.applymap(lambda x: 'Good' if x < 12\n",
      "C:\\Users\\Raikou\\AppData\\Local\\Temp\\ipykernel_11592\\2694455489.py:46: FutureWarning: DataFrame.applymap has been deprecated. Use DataFrame.map instead.\n",
      "  pm25_category_col = pm25_cols.applymap(lambda x: '< 12.00' if x < 12.00\n",
      "C:\\Users\\Raikou\\AppData\\Local\\Temp\\ipykernel_11592\\2694455489.py:53: FutureWarning: DataFrame.applymap has been deprecated. Use DataFrame.map instead.\n",
      "  meso_west_category_col = pm25_cols.applymap(lambda x: '< 2.00' if x < 2.00\n"
     ]
    },
    {
     "name": "stdout",
     "output_type": "stream",
     "text": [
      "Groomed: TRX03_2020_01.csv\n"
     ]
    },
    {
     "name": "stderr",
     "output_type": "stream",
     "text": [
      "C:\\Users\\Raikou\\AppData\\Local\\Temp\\ipykernel_11592\\2694455489.py:40: FutureWarning: DataFrame.applymap has been deprecated. Use DataFrame.map instead.\n",
      "  aqi_col = pm25_cols.applymap(lambda x: 'Good' if x < 12\n",
      "C:\\Users\\Raikou\\AppData\\Local\\Temp\\ipykernel_11592\\2694455489.py:46: FutureWarning: DataFrame.applymap has been deprecated. Use DataFrame.map instead.\n",
      "  pm25_category_col = pm25_cols.applymap(lambda x: '< 12.00' if x < 12.00\n",
      "C:\\Users\\Raikou\\AppData\\Local\\Temp\\ipykernel_11592\\2694455489.py:53: FutureWarning: DataFrame.applymap has been deprecated. Use DataFrame.map instead.\n",
      "  meso_west_category_col = pm25_cols.applymap(lambda x: '< 2.00' if x < 2.00\n"
     ]
    },
    {
     "name": "stdout",
     "output_type": "stream",
     "text": [
      "Groomed: TRX03_2020_02.csv\n"
     ]
    },
    {
     "name": "stderr",
     "output_type": "stream",
     "text": [
      "C:\\Users\\Raikou\\AppData\\Local\\Temp\\ipykernel_11592\\2694455489.py:40: FutureWarning: DataFrame.applymap has been deprecated. Use DataFrame.map instead.\n",
      "  aqi_col = pm25_cols.applymap(lambda x: 'Good' if x < 12\n",
      "C:\\Users\\Raikou\\AppData\\Local\\Temp\\ipykernel_11592\\2694455489.py:46: FutureWarning: DataFrame.applymap has been deprecated. Use DataFrame.map instead.\n",
      "  pm25_category_col = pm25_cols.applymap(lambda x: '< 12.00' if x < 12.00\n",
      "C:\\Users\\Raikou\\AppData\\Local\\Temp\\ipykernel_11592\\2694455489.py:53: FutureWarning: DataFrame.applymap has been deprecated. Use DataFrame.map instead.\n",
      "  meso_west_category_col = pm25_cols.applymap(lambda x: '< 2.00' if x < 2.00\n"
     ]
    },
    {
     "name": "stdout",
     "output_type": "stream",
     "text": [
      "Groomed: TRX03_2020_03.csv\n"
     ]
    },
    {
     "name": "stderr",
     "output_type": "stream",
     "text": [
      "C:\\Users\\Raikou\\AppData\\Local\\Temp\\ipykernel_11592\\2694455489.py:40: FutureWarning: DataFrame.applymap has been deprecated. Use DataFrame.map instead.\n",
      "  aqi_col = pm25_cols.applymap(lambda x: 'Good' if x < 12\n",
      "C:\\Users\\Raikou\\AppData\\Local\\Temp\\ipykernel_11592\\2694455489.py:46: FutureWarning: DataFrame.applymap has been deprecated. Use DataFrame.map instead.\n",
      "  pm25_category_col = pm25_cols.applymap(lambda x: '< 12.00' if x < 12.00\n",
      "C:\\Users\\Raikou\\AppData\\Local\\Temp\\ipykernel_11592\\2694455489.py:53: FutureWarning: DataFrame.applymap has been deprecated. Use DataFrame.map instead.\n",
      "  meso_west_category_col = pm25_cols.applymap(lambda x: '< 2.00' if x < 2.00\n"
     ]
    },
    {
     "name": "stdout",
     "output_type": "stream",
     "text": [
      "Groomed: TRX03_2020_04.csv\n"
     ]
    },
    {
     "name": "stderr",
     "output_type": "stream",
     "text": [
      "C:\\Users\\Raikou\\AppData\\Local\\Temp\\ipykernel_11592\\2694455489.py:40: FutureWarning: DataFrame.applymap has been deprecated. Use DataFrame.map instead.\n",
      "  aqi_col = pm25_cols.applymap(lambda x: 'Good' if x < 12\n",
      "C:\\Users\\Raikou\\AppData\\Local\\Temp\\ipykernel_11592\\2694455489.py:46: FutureWarning: DataFrame.applymap has been deprecated. Use DataFrame.map instead.\n",
      "  pm25_category_col = pm25_cols.applymap(lambda x: '< 12.00' if x < 12.00\n",
      "C:\\Users\\Raikou\\AppData\\Local\\Temp\\ipykernel_11592\\2694455489.py:53: FutureWarning: DataFrame.applymap has been deprecated. Use DataFrame.map instead.\n",
      "  meso_west_category_col = pm25_cols.applymap(lambda x: '< 2.00' if x < 2.00\n"
     ]
    },
    {
     "name": "stdout",
     "output_type": "stream",
     "text": [
      "Groomed: TRX03_2020_05.csv\n"
     ]
    },
    {
     "name": "stderr",
     "output_type": "stream",
     "text": [
      "C:\\Users\\Raikou\\AppData\\Local\\Temp\\ipykernel_11592\\2694455489.py:40: FutureWarning: DataFrame.applymap has been deprecated. Use DataFrame.map instead.\n",
      "  aqi_col = pm25_cols.applymap(lambda x: 'Good' if x < 12\n",
      "C:\\Users\\Raikou\\AppData\\Local\\Temp\\ipykernel_11592\\2694455489.py:46: FutureWarning: DataFrame.applymap has been deprecated. Use DataFrame.map instead.\n",
      "  pm25_category_col = pm25_cols.applymap(lambda x: '< 12.00' if x < 12.00\n",
      "C:\\Users\\Raikou\\AppData\\Local\\Temp\\ipykernel_11592\\2694455489.py:53: FutureWarning: DataFrame.applymap has been deprecated. Use DataFrame.map instead.\n",
      "  meso_west_category_col = pm25_cols.applymap(lambda x: '< 2.00' if x < 2.00\n"
     ]
    },
    {
     "name": "stdout",
     "output_type": "stream",
     "text": [
      "Groomed: TRX03_2020_06.csv\n"
     ]
    },
    {
     "name": "stderr",
     "output_type": "stream",
     "text": [
      "C:\\Users\\Raikou\\AppData\\Local\\Temp\\ipykernel_11592\\2694455489.py:40: FutureWarning: DataFrame.applymap has been deprecated. Use DataFrame.map instead.\n",
      "  aqi_col = pm25_cols.applymap(lambda x: 'Good' if x < 12\n",
      "C:\\Users\\Raikou\\AppData\\Local\\Temp\\ipykernel_11592\\2694455489.py:46: FutureWarning: DataFrame.applymap has been deprecated. Use DataFrame.map instead.\n",
      "  pm25_category_col = pm25_cols.applymap(lambda x: '< 12.00' if x < 12.00\n",
      "C:\\Users\\Raikou\\AppData\\Local\\Temp\\ipykernel_11592\\2694455489.py:53: FutureWarning: DataFrame.applymap has been deprecated. Use DataFrame.map instead.\n",
      "  meso_west_category_col = pm25_cols.applymap(lambda x: '< 2.00' if x < 2.00\n"
     ]
    },
    {
     "name": "stdout",
     "output_type": "stream",
     "text": [
      "Groomed: TRX03_2020_07.csv\n"
     ]
    },
    {
     "name": "stderr",
     "output_type": "stream",
     "text": [
      "C:\\Users\\Raikou\\AppData\\Local\\Temp\\ipykernel_11592\\2694455489.py:40: FutureWarning: DataFrame.applymap has been deprecated. Use DataFrame.map instead.\n",
      "  aqi_col = pm25_cols.applymap(lambda x: 'Good' if x < 12\n",
      "C:\\Users\\Raikou\\AppData\\Local\\Temp\\ipykernel_11592\\2694455489.py:46: FutureWarning: DataFrame.applymap has been deprecated. Use DataFrame.map instead.\n",
      "  pm25_category_col = pm25_cols.applymap(lambda x: '< 12.00' if x < 12.00\n",
      "C:\\Users\\Raikou\\AppData\\Local\\Temp\\ipykernel_11592\\2694455489.py:53: FutureWarning: DataFrame.applymap has been deprecated. Use DataFrame.map instead.\n",
      "  meso_west_category_col = pm25_cols.applymap(lambda x: '< 2.00' if x < 2.00\n"
     ]
    },
    {
     "name": "stdout",
     "output_type": "stream",
     "text": [
      "Groomed: TRX03_2020_08.csv\n"
     ]
    },
    {
     "name": "stderr",
     "output_type": "stream",
     "text": [
      "C:\\Users\\Raikou\\AppData\\Local\\Temp\\ipykernel_11592\\2694455489.py:40: FutureWarning: DataFrame.applymap has been deprecated. Use DataFrame.map instead.\n",
      "  aqi_col = pm25_cols.applymap(lambda x: 'Good' if x < 12\n",
      "C:\\Users\\Raikou\\AppData\\Local\\Temp\\ipykernel_11592\\2694455489.py:46: FutureWarning: DataFrame.applymap has been deprecated. Use DataFrame.map instead.\n",
      "  pm25_category_col = pm25_cols.applymap(lambda x: '< 12.00' if x < 12.00\n",
      "C:\\Users\\Raikou\\AppData\\Local\\Temp\\ipykernel_11592\\2694455489.py:53: FutureWarning: DataFrame.applymap has been deprecated. Use DataFrame.map instead.\n",
      "  meso_west_category_col = pm25_cols.applymap(lambda x: '< 2.00' if x < 2.00\n"
     ]
    },
    {
     "name": "stdout",
     "output_type": "stream",
     "text": [
      "Groomed: TRX03_2020_09.csv\n"
     ]
    },
    {
     "name": "stderr",
     "output_type": "stream",
     "text": [
      "C:\\Users\\Raikou\\AppData\\Local\\Temp\\ipykernel_11592\\2694455489.py:40: FutureWarning: DataFrame.applymap has been deprecated. Use DataFrame.map instead.\n",
      "  aqi_col = pm25_cols.applymap(lambda x: 'Good' if x < 12\n",
      "C:\\Users\\Raikou\\AppData\\Local\\Temp\\ipykernel_11592\\2694455489.py:46: FutureWarning: DataFrame.applymap has been deprecated. Use DataFrame.map instead.\n",
      "  pm25_category_col = pm25_cols.applymap(lambda x: '< 12.00' if x < 12.00\n",
      "C:\\Users\\Raikou\\AppData\\Local\\Temp\\ipykernel_11592\\2694455489.py:53: FutureWarning: DataFrame.applymap has been deprecated. Use DataFrame.map instead.\n",
      "  meso_west_category_col = pm25_cols.applymap(lambda x: '< 2.00' if x < 2.00\n"
     ]
    },
    {
     "name": "stdout",
     "output_type": "stream",
     "text": [
      "Groomed: TRX03_2020_10.csv\n"
     ]
    },
    {
     "name": "stderr",
     "output_type": "stream",
     "text": [
      "C:\\Users\\Raikou\\AppData\\Local\\Temp\\ipykernel_11592\\2694455489.py:40: FutureWarning: DataFrame.applymap has been deprecated. Use DataFrame.map instead.\n",
      "  aqi_col = pm25_cols.applymap(lambda x: 'Good' if x < 12\n",
      "C:\\Users\\Raikou\\AppData\\Local\\Temp\\ipykernel_11592\\2694455489.py:46: FutureWarning: DataFrame.applymap has been deprecated. Use DataFrame.map instead.\n",
      "  pm25_category_col = pm25_cols.applymap(lambda x: '< 12.00' if x < 12.00\n",
      "C:\\Users\\Raikou\\AppData\\Local\\Temp\\ipykernel_11592\\2694455489.py:53: FutureWarning: DataFrame.applymap has been deprecated. Use DataFrame.map instead.\n",
      "  meso_west_category_col = pm25_cols.applymap(lambda x: '< 2.00' if x < 2.00\n"
     ]
    },
    {
     "name": "stdout",
     "output_type": "stream",
     "text": [
      "Groomed: TRX03_2020_11.csv\n"
     ]
    },
    {
     "name": "stderr",
     "output_type": "stream",
     "text": [
      "C:\\Users\\Raikou\\AppData\\Local\\Temp\\ipykernel_11592\\2694455489.py:40: FutureWarning: DataFrame.applymap has been deprecated. Use DataFrame.map instead.\n",
      "  aqi_col = pm25_cols.applymap(lambda x: 'Good' if x < 12\n",
      "C:\\Users\\Raikou\\AppData\\Local\\Temp\\ipykernel_11592\\2694455489.py:46: FutureWarning: DataFrame.applymap has been deprecated. Use DataFrame.map instead.\n",
      "  pm25_category_col = pm25_cols.applymap(lambda x: '< 12.00' if x < 12.00\n",
      "C:\\Users\\Raikou\\AppData\\Local\\Temp\\ipykernel_11592\\2694455489.py:53: FutureWarning: DataFrame.applymap has been deprecated. Use DataFrame.map instead.\n",
      "  meso_west_category_col = pm25_cols.applymap(lambda x: '< 2.00' if x < 2.00\n"
     ]
    },
    {
     "name": "stdout",
     "output_type": "stream",
     "text": [
      "Groomed: TRX03_2020_12.csv\n"
     ]
    },
    {
     "name": "stderr",
     "output_type": "stream",
     "text": [
      "C:\\Users\\Raikou\\AppData\\Local\\Temp\\ipykernel_11592\\2694455489.py:40: FutureWarning: DataFrame.applymap has been deprecated. Use DataFrame.map instead.\n",
      "  aqi_col = pm25_cols.applymap(lambda x: 'Good' if x < 12\n",
      "C:\\Users\\Raikou\\AppData\\Local\\Temp\\ipykernel_11592\\2694455489.py:46: FutureWarning: DataFrame.applymap has been deprecated. Use DataFrame.map instead.\n",
      "  pm25_category_col = pm25_cols.applymap(lambda x: '< 12.00' if x < 12.00\n",
      "C:\\Users\\Raikou\\AppData\\Local\\Temp\\ipykernel_11592\\2694455489.py:53: FutureWarning: DataFrame.applymap has been deprecated. Use DataFrame.map instead.\n",
      "  meso_west_category_col = pm25_cols.applymap(lambda x: '< 2.00' if x < 2.00\n"
     ]
    },
    {
     "name": "stdout",
     "output_type": "stream",
     "text": [
      "Groomed: TRX03_2021_01.csv\n"
     ]
    },
    {
     "name": "stderr",
     "output_type": "stream",
     "text": [
      "C:\\Users\\Raikou\\AppData\\Local\\Temp\\ipykernel_11592\\2694455489.py:40: FutureWarning: DataFrame.applymap has been deprecated. Use DataFrame.map instead.\n",
      "  aqi_col = pm25_cols.applymap(lambda x: 'Good' if x < 12\n",
      "C:\\Users\\Raikou\\AppData\\Local\\Temp\\ipykernel_11592\\2694455489.py:46: FutureWarning: DataFrame.applymap has been deprecated. Use DataFrame.map instead.\n",
      "  pm25_category_col = pm25_cols.applymap(lambda x: '< 12.00' if x < 12.00\n",
      "C:\\Users\\Raikou\\AppData\\Local\\Temp\\ipykernel_11592\\2694455489.py:53: FutureWarning: DataFrame.applymap has been deprecated. Use DataFrame.map instead.\n",
      "  meso_west_category_col = pm25_cols.applymap(lambda x: '< 2.00' if x < 2.00\n"
     ]
    },
    {
     "name": "stdout",
     "output_type": "stream",
     "text": [
      "Groomed: TRX03_2021_02.csv\n"
     ]
    },
    {
     "name": "stderr",
     "output_type": "stream",
     "text": [
      "C:\\Users\\Raikou\\AppData\\Local\\Temp\\ipykernel_11592\\2694455489.py:40: FutureWarning: DataFrame.applymap has been deprecated. Use DataFrame.map instead.\n",
      "  aqi_col = pm25_cols.applymap(lambda x: 'Good' if x < 12\n",
      "C:\\Users\\Raikou\\AppData\\Local\\Temp\\ipykernel_11592\\2694455489.py:46: FutureWarning: DataFrame.applymap has been deprecated. Use DataFrame.map instead.\n",
      "  pm25_category_col = pm25_cols.applymap(lambda x: '< 12.00' if x < 12.00\n",
      "C:\\Users\\Raikou\\AppData\\Local\\Temp\\ipykernel_11592\\2694455489.py:53: FutureWarning: DataFrame.applymap has been deprecated. Use DataFrame.map instead.\n",
      "  meso_west_category_col = pm25_cols.applymap(lambda x: '< 2.00' if x < 2.00\n"
     ]
    },
    {
     "name": "stdout",
     "output_type": "stream",
     "text": [
      "Groomed: TRX03_2021_03.csv\n"
     ]
    },
    {
     "name": "stderr",
     "output_type": "stream",
     "text": [
      "C:\\Users\\Raikou\\AppData\\Local\\Temp\\ipykernel_11592\\2694455489.py:40: FutureWarning: DataFrame.applymap has been deprecated. Use DataFrame.map instead.\n",
      "  aqi_col = pm25_cols.applymap(lambda x: 'Good' if x < 12\n",
      "C:\\Users\\Raikou\\AppData\\Local\\Temp\\ipykernel_11592\\2694455489.py:46: FutureWarning: DataFrame.applymap has been deprecated. Use DataFrame.map instead.\n",
      "  pm25_category_col = pm25_cols.applymap(lambda x: '< 12.00' if x < 12.00\n",
      "C:\\Users\\Raikou\\AppData\\Local\\Temp\\ipykernel_11592\\2694455489.py:53: FutureWarning: DataFrame.applymap has been deprecated. Use DataFrame.map instead.\n",
      "  meso_west_category_col = pm25_cols.applymap(lambda x: '< 2.00' if x < 2.00\n"
     ]
    },
    {
     "name": "stdout",
     "output_type": "stream",
     "text": [
      "Groomed: TRX03_2021_04.csv\n"
     ]
    },
    {
     "name": "stderr",
     "output_type": "stream",
     "text": [
      "C:\\Users\\Raikou\\AppData\\Local\\Temp\\ipykernel_11592\\2694455489.py:40: FutureWarning: DataFrame.applymap has been deprecated. Use DataFrame.map instead.\n",
      "  aqi_col = pm25_cols.applymap(lambda x: 'Good' if x < 12\n",
      "C:\\Users\\Raikou\\AppData\\Local\\Temp\\ipykernel_11592\\2694455489.py:46: FutureWarning: DataFrame.applymap has been deprecated. Use DataFrame.map instead.\n",
      "  pm25_category_col = pm25_cols.applymap(lambda x: '< 12.00' if x < 12.00\n",
      "C:\\Users\\Raikou\\AppData\\Local\\Temp\\ipykernel_11592\\2694455489.py:53: FutureWarning: DataFrame.applymap has been deprecated. Use DataFrame.map instead.\n",
      "  meso_west_category_col = pm25_cols.applymap(lambda x: '< 2.00' if x < 2.00\n"
     ]
    },
    {
     "name": "stdout",
     "output_type": "stream",
     "text": [
      "Groomed: TRX03_2021_05.csv\n"
     ]
    },
    {
     "name": "stderr",
     "output_type": "stream",
     "text": [
      "C:\\Users\\Raikou\\AppData\\Local\\Temp\\ipykernel_11592\\2694455489.py:40: FutureWarning: DataFrame.applymap has been deprecated. Use DataFrame.map instead.\n",
      "  aqi_col = pm25_cols.applymap(lambda x: 'Good' if x < 12\n",
      "C:\\Users\\Raikou\\AppData\\Local\\Temp\\ipykernel_11592\\2694455489.py:46: FutureWarning: DataFrame.applymap has been deprecated. Use DataFrame.map instead.\n",
      "  pm25_category_col = pm25_cols.applymap(lambda x: '< 12.00' if x < 12.00\n",
      "C:\\Users\\Raikou\\AppData\\Local\\Temp\\ipykernel_11592\\2694455489.py:53: FutureWarning: DataFrame.applymap has been deprecated. Use DataFrame.map instead.\n",
      "  meso_west_category_col = pm25_cols.applymap(lambda x: '< 2.00' if x < 2.00\n"
     ]
    },
    {
     "name": "stdout",
     "output_type": "stream",
     "text": [
      "Groomed: TRX03_2021_06.csv\n"
     ]
    },
    {
     "name": "stderr",
     "output_type": "stream",
     "text": [
      "C:\\Users\\Raikou\\AppData\\Local\\Temp\\ipykernel_11592\\2694455489.py:40: FutureWarning: DataFrame.applymap has been deprecated. Use DataFrame.map instead.\n",
      "  aqi_col = pm25_cols.applymap(lambda x: 'Good' if x < 12\n",
      "C:\\Users\\Raikou\\AppData\\Local\\Temp\\ipykernel_11592\\2694455489.py:46: FutureWarning: DataFrame.applymap has been deprecated. Use DataFrame.map instead.\n",
      "  pm25_category_col = pm25_cols.applymap(lambda x: '< 12.00' if x < 12.00\n",
      "C:\\Users\\Raikou\\AppData\\Local\\Temp\\ipykernel_11592\\2694455489.py:53: FutureWarning: DataFrame.applymap has been deprecated. Use DataFrame.map instead.\n",
      "  meso_west_category_col = pm25_cols.applymap(lambda x: '< 2.00' if x < 2.00\n"
     ]
    },
    {
     "name": "stdout",
     "output_type": "stream",
     "text": [
      "Groomed: TRX03_2021_07.csv\n"
     ]
    },
    {
     "name": "stderr",
     "output_type": "stream",
     "text": [
      "C:\\Users\\Raikou\\AppData\\Local\\Temp\\ipykernel_11592\\2694455489.py:40: FutureWarning: DataFrame.applymap has been deprecated. Use DataFrame.map instead.\n",
      "  aqi_col = pm25_cols.applymap(lambda x: 'Good' if x < 12\n",
      "C:\\Users\\Raikou\\AppData\\Local\\Temp\\ipykernel_11592\\2694455489.py:46: FutureWarning: DataFrame.applymap has been deprecated. Use DataFrame.map instead.\n",
      "  pm25_category_col = pm25_cols.applymap(lambda x: '< 12.00' if x < 12.00\n",
      "C:\\Users\\Raikou\\AppData\\Local\\Temp\\ipykernel_11592\\2694455489.py:53: FutureWarning: DataFrame.applymap has been deprecated. Use DataFrame.map instead.\n",
      "  meso_west_category_col = pm25_cols.applymap(lambda x: '< 2.00' if x < 2.00\n"
     ]
    },
    {
     "name": "stdout",
     "output_type": "stream",
     "text": [
      "Groomed: TRX03_2021_08.csv\n"
     ]
    },
    {
     "name": "stderr",
     "output_type": "stream",
     "text": [
      "C:\\Users\\Raikou\\AppData\\Local\\Temp\\ipykernel_11592\\2694455489.py:40: FutureWarning: DataFrame.applymap has been deprecated. Use DataFrame.map instead.\n",
      "  aqi_col = pm25_cols.applymap(lambda x: 'Good' if x < 12\n",
      "C:\\Users\\Raikou\\AppData\\Local\\Temp\\ipykernel_11592\\2694455489.py:46: FutureWarning: DataFrame.applymap has been deprecated. Use DataFrame.map instead.\n",
      "  pm25_category_col = pm25_cols.applymap(lambda x: '< 12.00' if x < 12.00\n",
      "C:\\Users\\Raikou\\AppData\\Local\\Temp\\ipykernel_11592\\2694455489.py:53: FutureWarning: DataFrame.applymap has been deprecated. Use DataFrame.map instead.\n",
      "  meso_west_category_col = pm25_cols.applymap(lambda x: '< 2.00' if x < 2.00\n"
     ]
    },
    {
     "name": "stdout",
     "output_type": "stream",
     "text": [
      "Groomed: TRX03_2021_09.csv\n"
     ]
    },
    {
     "name": "stderr",
     "output_type": "stream",
     "text": [
      "C:\\Users\\Raikou\\AppData\\Local\\Temp\\ipykernel_11592\\2694455489.py:40: FutureWarning: DataFrame.applymap has been deprecated. Use DataFrame.map instead.\n",
      "  aqi_col = pm25_cols.applymap(lambda x: 'Good' if x < 12\n",
      "C:\\Users\\Raikou\\AppData\\Local\\Temp\\ipykernel_11592\\2694455489.py:46: FutureWarning: DataFrame.applymap has been deprecated. Use DataFrame.map instead.\n",
      "  pm25_category_col = pm25_cols.applymap(lambda x: '< 12.00' if x < 12.00\n",
      "C:\\Users\\Raikou\\AppData\\Local\\Temp\\ipykernel_11592\\2694455489.py:53: FutureWarning: DataFrame.applymap has been deprecated. Use DataFrame.map instead.\n",
      "  meso_west_category_col = pm25_cols.applymap(lambda x: '< 2.00' if x < 2.00\n"
     ]
    },
    {
     "name": "stdout",
     "output_type": "stream",
     "text": [
      "Groomed: TRX03_2021_10.csv\n"
     ]
    },
    {
     "name": "stderr",
     "output_type": "stream",
     "text": [
      "C:\\Users\\Raikou\\AppData\\Local\\Temp\\ipykernel_11592\\2694455489.py:40: FutureWarning: DataFrame.applymap has been deprecated. Use DataFrame.map instead.\n",
      "  aqi_col = pm25_cols.applymap(lambda x: 'Good' if x < 12\n",
      "C:\\Users\\Raikou\\AppData\\Local\\Temp\\ipykernel_11592\\2694455489.py:46: FutureWarning: DataFrame.applymap has been deprecated. Use DataFrame.map instead.\n",
      "  pm25_category_col = pm25_cols.applymap(lambda x: '< 12.00' if x < 12.00\n",
      "C:\\Users\\Raikou\\AppData\\Local\\Temp\\ipykernel_11592\\2694455489.py:53: FutureWarning: DataFrame.applymap has been deprecated. Use DataFrame.map instead.\n",
      "  meso_west_category_col = pm25_cols.applymap(lambda x: '< 2.00' if x < 2.00\n"
     ]
    },
    {
     "name": "stdout",
     "output_type": "stream",
     "text": [
      "Groomed: TRX03_2021_11.csv\n"
     ]
    },
    {
     "name": "stderr",
     "output_type": "stream",
     "text": [
      "C:\\Users\\Raikou\\AppData\\Local\\Temp\\ipykernel_11592\\2694455489.py:40: FutureWarning: DataFrame.applymap has been deprecated. Use DataFrame.map instead.\n",
      "  aqi_col = pm25_cols.applymap(lambda x: 'Good' if x < 12\n",
      "C:\\Users\\Raikou\\AppData\\Local\\Temp\\ipykernel_11592\\2694455489.py:46: FutureWarning: DataFrame.applymap has been deprecated. Use DataFrame.map instead.\n",
      "  pm25_category_col = pm25_cols.applymap(lambda x: '< 12.00' if x < 12.00\n",
      "C:\\Users\\Raikou\\AppData\\Local\\Temp\\ipykernel_11592\\2694455489.py:53: FutureWarning: DataFrame.applymap has been deprecated. Use DataFrame.map instead.\n",
      "  meso_west_category_col = pm25_cols.applymap(lambda x: '< 2.00' if x < 2.00\n"
     ]
    },
    {
     "name": "stdout",
     "output_type": "stream",
     "text": [
      "Groomed: TRX03_2021_12.csv\n"
     ]
    },
    {
     "name": "stderr",
     "output_type": "stream",
     "text": [
      "C:\\Users\\Raikou\\AppData\\Local\\Temp\\ipykernel_11592\\2694455489.py:40: FutureWarning: DataFrame.applymap has been deprecated. Use DataFrame.map instead.\n",
      "  aqi_col = pm25_cols.applymap(lambda x: 'Good' if x < 12\n",
      "C:\\Users\\Raikou\\AppData\\Local\\Temp\\ipykernel_11592\\2694455489.py:46: FutureWarning: DataFrame.applymap has been deprecated. Use DataFrame.map instead.\n",
      "  pm25_category_col = pm25_cols.applymap(lambda x: '< 12.00' if x < 12.00\n",
      "C:\\Users\\Raikou\\AppData\\Local\\Temp\\ipykernel_11592\\2694455489.py:53: FutureWarning: DataFrame.applymap has been deprecated. Use DataFrame.map instead.\n",
      "  meso_west_category_col = pm25_cols.applymap(lambda x: '< 2.00' if x < 2.00\n"
     ]
    },
    {
     "name": "stdout",
     "output_type": "stream",
     "text": [
      "Groomed: TRX03_2022_01.csv\n"
     ]
    },
    {
     "name": "stderr",
     "output_type": "stream",
     "text": [
      "C:\\Users\\Raikou\\AppData\\Local\\Temp\\ipykernel_11592\\2694455489.py:40: FutureWarning: DataFrame.applymap has been deprecated. Use DataFrame.map instead.\n",
      "  aqi_col = pm25_cols.applymap(lambda x: 'Good' if x < 12\n",
      "C:\\Users\\Raikou\\AppData\\Local\\Temp\\ipykernel_11592\\2694455489.py:46: FutureWarning: DataFrame.applymap has been deprecated. Use DataFrame.map instead.\n",
      "  pm25_category_col = pm25_cols.applymap(lambda x: '< 12.00' if x < 12.00\n",
      "C:\\Users\\Raikou\\AppData\\Local\\Temp\\ipykernel_11592\\2694455489.py:53: FutureWarning: DataFrame.applymap has been deprecated. Use DataFrame.map instead.\n",
      "  meso_west_category_col = pm25_cols.applymap(lambda x: '< 2.00' if x < 2.00\n"
     ]
    },
    {
     "name": "stdout",
     "output_type": "stream",
     "text": [
      "Groomed: TRX03_2022_02.csv\n"
     ]
    },
    {
     "name": "stderr",
     "output_type": "stream",
     "text": [
      "C:\\Users\\Raikou\\AppData\\Local\\Temp\\ipykernel_11592\\2694455489.py:40: FutureWarning: DataFrame.applymap has been deprecated. Use DataFrame.map instead.\n",
      "  aqi_col = pm25_cols.applymap(lambda x: 'Good' if x < 12\n",
      "C:\\Users\\Raikou\\AppData\\Local\\Temp\\ipykernel_11592\\2694455489.py:46: FutureWarning: DataFrame.applymap has been deprecated. Use DataFrame.map instead.\n",
      "  pm25_category_col = pm25_cols.applymap(lambda x: '< 12.00' if x < 12.00\n",
      "C:\\Users\\Raikou\\AppData\\Local\\Temp\\ipykernel_11592\\2694455489.py:53: FutureWarning: DataFrame.applymap has been deprecated. Use DataFrame.map instead.\n",
      "  meso_west_category_col = pm25_cols.applymap(lambda x: '< 2.00' if x < 2.00\n"
     ]
    },
    {
     "name": "stdout",
     "output_type": "stream",
     "text": [
      "Groomed: TRX03_2022_03.csv\n"
     ]
    },
    {
     "name": "stderr",
     "output_type": "stream",
     "text": [
      "C:\\Users\\Raikou\\AppData\\Local\\Temp\\ipykernel_11592\\2694455489.py:40: FutureWarning: DataFrame.applymap has been deprecated. Use DataFrame.map instead.\n",
      "  aqi_col = pm25_cols.applymap(lambda x: 'Good' if x < 12\n",
      "C:\\Users\\Raikou\\AppData\\Local\\Temp\\ipykernel_11592\\2694455489.py:46: FutureWarning: DataFrame.applymap has been deprecated. Use DataFrame.map instead.\n",
      "  pm25_category_col = pm25_cols.applymap(lambda x: '< 12.00' if x < 12.00\n",
      "C:\\Users\\Raikou\\AppData\\Local\\Temp\\ipykernel_11592\\2694455489.py:53: FutureWarning: DataFrame.applymap has been deprecated. Use DataFrame.map instead.\n",
      "  meso_west_category_col = pm25_cols.applymap(lambda x: '< 2.00' if x < 2.00\n"
     ]
    },
    {
     "name": "stdout",
     "output_type": "stream",
     "text": [
      "Groomed: TRX03_2022_04.csv\n"
     ]
    },
    {
     "name": "stderr",
     "output_type": "stream",
     "text": [
      "C:\\Users\\Raikou\\AppData\\Local\\Temp\\ipykernel_11592\\2694455489.py:40: FutureWarning: DataFrame.applymap has been deprecated. Use DataFrame.map instead.\n",
      "  aqi_col = pm25_cols.applymap(lambda x: 'Good' if x < 12\n",
      "C:\\Users\\Raikou\\AppData\\Local\\Temp\\ipykernel_11592\\2694455489.py:46: FutureWarning: DataFrame.applymap has been deprecated. Use DataFrame.map instead.\n",
      "  pm25_category_col = pm25_cols.applymap(lambda x: '< 12.00' if x < 12.00\n",
      "C:\\Users\\Raikou\\AppData\\Local\\Temp\\ipykernel_11592\\2694455489.py:53: FutureWarning: DataFrame.applymap has been deprecated. Use DataFrame.map instead.\n",
      "  meso_west_category_col = pm25_cols.applymap(lambda x: '< 2.00' if x < 2.00\n"
     ]
    },
    {
     "name": "stdout",
     "output_type": "stream",
     "text": [
      "Groomed: TRX03_2022_05.csv\n"
     ]
    },
    {
     "name": "stderr",
     "output_type": "stream",
     "text": [
      "C:\\Users\\Raikou\\AppData\\Local\\Temp\\ipykernel_11592\\2694455489.py:40: FutureWarning: DataFrame.applymap has been deprecated. Use DataFrame.map instead.\n",
      "  aqi_col = pm25_cols.applymap(lambda x: 'Good' if x < 12\n",
      "C:\\Users\\Raikou\\AppData\\Local\\Temp\\ipykernel_11592\\2694455489.py:46: FutureWarning: DataFrame.applymap has been deprecated. Use DataFrame.map instead.\n",
      "  pm25_category_col = pm25_cols.applymap(lambda x: '< 12.00' if x < 12.00\n",
      "C:\\Users\\Raikou\\AppData\\Local\\Temp\\ipykernel_11592\\2694455489.py:53: FutureWarning: DataFrame.applymap has been deprecated. Use DataFrame.map instead.\n",
      "  meso_west_category_col = pm25_cols.applymap(lambda x: '< 2.00' if x < 2.00\n"
     ]
    },
    {
     "name": "stdout",
     "output_type": "stream",
     "text": [
      "Groomed: TRX03_2022_06.csv\n"
     ]
    },
    {
     "name": "stderr",
     "output_type": "stream",
     "text": [
      "C:\\Users\\Raikou\\AppData\\Local\\Temp\\ipykernel_11592\\2694455489.py:40: FutureWarning: DataFrame.applymap has been deprecated. Use DataFrame.map instead.\n",
      "  aqi_col = pm25_cols.applymap(lambda x: 'Good' if x < 12\n",
      "C:\\Users\\Raikou\\AppData\\Local\\Temp\\ipykernel_11592\\2694455489.py:46: FutureWarning: DataFrame.applymap has been deprecated. Use DataFrame.map instead.\n",
      "  pm25_category_col = pm25_cols.applymap(lambda x: '< 12.00' if x < 12.00\n",
      "C:\\Users\\Raikou\\AppData\\Local\\Temp\\ipykernel_11592\\2694455489.py:53: FutureWarning: DataFrame.applymap has been deprecated. Use DataFrame.map instead.\n",
      "  meso_west_category_col = pm25_cols.applymap(lambda x: '< 2.00' if x < 2.00\n"
     ]
    },
    {
     "name": "stdout",
     "output_type": "stream",
     "text": [
      "Groomed: TRX03_2022_07.csv\n"
     ]
    },
    {
     "name": "stderr",
     "output_type": "stream",
     "text": [
      "C:\\Users\\Raikou\\AppData\\Local\\Temp\\ipykernel_11592\\2694455489.py:40: FutureWarning: DataFrame.applymap has been deprecated. Use DataFrame.map instead.\n",
      "  aqi_col = pm25_cols.applymap(lambda x: 'Good' if x < 12\n",
      "C:\\Users\\Raikou\\AppData\\Local\\Temp\\ipykernel_11592\\2694455489.py:46: FutureWarning: DataFrame.applymap has been deprecated. Use DataFrame.map instead.\n",
      "  pm25_category_col = pm25_cols.applymap(lambda x: '< 12.00' if x < 12.00\n",
      "C:\\Users\\Raikou\\AppData\\Local\\Temp\\ipykernel_11592\\2694455489.py:53: FutureWarning: DataFrame.applymap has been deprecated. Use DataFrame.map instead.\n",
      "  meso_west_category_col = pm25_cols.applymap(lambda x: '< 2.00' if x < 2.00\n"
     ]
    },
    {
     "name": "stdout",
     "output_type": "stream",
     "text": [
      "Groomed: TRX03_2022_08.csv\n"
     ]
    },
    {
     "name": "stderr",
     "output_type": "stream",
     "text": [
      "C:\\Users\\Raikou\\AppData\\Local\\Temp\\ipykernel_11592\\2694455489.py:40: FutureWarning: DataFrame.applymap has been deprecated. Use DataFrame.map instead.\n",
      "  aqi_col = pm25_cols.applymap(lambda x: 'Good' if x < 12\n",
      "C:\\Users\\Raikou\\AppData\\Local\\Temp\\ipykernel_11592\\2694455489.py:46: FutureWarning: DataFrame.applymap has been deprecated. Use DataFrame.map instead.\n",
      "  pm25_category_col = pm25_cols.applymap(lambda x: '< 12.00' if x < 12.00\n",
      "C:\\Users\\Raikou\\AppData\\Local\\Temp\\ipykernel_11592\\2694455489.py:53: FutureWarning: DataFrame.applymap has been deprecated. Use DataFrame.map instead.\n",
      "  meso_west_category_col = pm25_cols.applymap(lambda x: '< 2.00' if x < 2.00\n"
     ]
    },
    {
     "name": "stdout",
     "output_type": "stream",
     "text": [
      "Groomed: TRX03_2022_09.csv\n"
     ]
    },
    {
     "name": "stderr",
     "output_type": "stream",
     "text": [
      "C:\\Users\\Raikou\\AppData\\Local\\Temp\\ipykernel_11592\\2694455489.py:40: FutureWarning: DataFrame.applymap has been deprecated. Use DataFrame.map instead.\n",
      "  aqi_col = pm25_cols.applymap(lambda x: 'Good' if x < 12\n",
      "C:\\Users\\Raikou\\AppData\\Local\\Temp\\ipykernel_11592\\2694455489.py:46: FutureWarning: DataFrame.applymap has been deprecated. Use DataFrame.map instead.\n",
      "  pm25_category_col = pm25_cols.applymap(lambda x: '< 12.00' if x < 12.00\n",
      "C:\\Users\\Raikou\\AppData\\Local\\Temp\\ipykernel_11592\\2694455489.py:53: FutureWarning: DataFrame.applymap has been deprecated. Use DataFrame.map instead.\n",
      "  meso_west_category_col = pm25_cols.applymap(lambda x: '< 2.00' if x < 2.00\n"
     ]
    },
    {
     "name": "stdout",
     "output_type": "stream",
     "text": [
      "Groomed: TRX03_2022_10.csv\n"
     ]
    },
    {
     "name": "stderr",
     "output_type": "stream",
     "text": [
      "C:\\Users\\Raikou\\AppData\\Local\\Temp\\ipykernel_11592\\2694455489.py:40: FutureWarning: DataFrame.applymap has been deprecated. Use DataFrame.map instead.\n",
      "  aqi_col = pm25_cols.applymap(lambda x: 'Good' if x < 12\n",
      "C:\\Users\\Raikou\\AppData\\Local\\Temp\\ipykernel_11592\\2694455489.py:46: FutureWarning: DataFrame.applymap has been deprecated. Use DataFrame.map instead.\n",
      "  pm25_category_col = pm25_cols.applymap(lambda x: '< 12.00' if x < 12.00\n",
      "C:\\Users\\Raikou\\AppData\\Local\\Temp\\ipykernel_11592\\2694455489.py:53: FutureWarning: DataFrame.applymap has been deprecated. Use DataFrame.map instead.\n",
      "  meso_west_category_col = pm25_cols.applymap(lambda x: '< 2.00' if x < 2.00\n"
     ]
    },
    {
     "name": "stdout",
     "output_type": "stream",
     "text": [
      "Groomed: TRX03_2022_11.csv\n"
     ]
    },
    {
     "name": "stderr",
     "output_type": "stream",
     "text": [
      "C:\\Users\\Raikou\\AppData\\Local\\Temp\\ipykernel_11592\\2694455489.py:40: FutureWarning: DataFrame.applymap has been deprecated. Use DataFrame.map instead.\n",
      "  aqi_col = pm25_cols.applymap(lambda x: 'Good' if x < 12\n",
      "C:\\Users\\Raikou\\AppData\\Local\\Temp\\ipykernel_11592\\2694455489.py:46: FutureWarning: DataFrame.applymap has been deprecated. Use DataFrame.map instead.\n",
      "  pm25_category_col = pm25_cols.applymap(lambda x: '< 12.00' if x < 12.00\n",
      "C:\\Users\\Raikou\\AppData\\Local\\Temp\\ipykernel_11592\\2694455489.py:53: FutureWarning: DataFrame.applymap has been deprecated. Use DataFrame.map instead.\n",
      "  meso_west_category_col = pm25_cols.applymap(lambda x: '< 2.00' if x < 2.00\n"
     ]
    },
    {
     "name": "stdout",
     "output_type": "stream",
     "text": [
      "Groomed: TRX03_2022_12.csv\n"
     ]
    },
    {
     "name": "stderr",
     "output_type": "stream",
     "text": [
      "C:\\Users\\Raikou\\AppData\\Local\\Temp\\ipykernel_11592\\2694455489.py:40: FutureWarning: DataFrame.applymap has been deprecated. Use DataFrame.map instead.\n",
      "  aqi_col = pm25_cols.applymap(lambda x: 'Good' if x < 12\n",
      "C:\\Users\\Raikou\\AppData\\Local\\Temp\\ipykernel_11592\\2694455489.py:46: FutureWarning: DataFrame.applymap has been deprecated. Use DataFrame.map instead.\n",
      "  pm25_category_col = pm25_cols.applymap(lambda x: '< 12.00' if x < 12.00\n",
      "C:\\Users\\Raikou\\AppData\\Local\\Temp\\ipykernel_11592\\2694455489.py:53: FutureWarning: DataFrame.applymap has been deprecated. Use DataFrame.map instead.\n",
      "  meso_west_category_col = pm25_cols.applymap(lambda x: '< 2.00' if x < 2.00\n"
     ]
    },
    {
     "name": "stdout",
     "output_type": "stream",
     "text": [
      "Groomed: TRX03_2023_01.csv\n"
     ]
    },
    {
     "name": "stderr",
     "output_type": "stream",
     "text": [
      "C:\\Users\\Raikou\\AppData\\Local\\Temp\\ipykernel_11592\\2694455489.py:40: FutureWarning: DataFrame.applymap has been deprecated. Use DataFrame.map instead.\n",
      "  aqi_col = pm25_cols.applymap(lambda x: 'Good' if x < 12\n",
      "C:\\Users\\Raikou\\AppData\\Local\\Temp\\ipykernel_11592\\2694455489.py:46: FutureWarning: DataFrame.applymap has been deprecated. Use DataFrame.map instead.\n",
      "  pm25_category_col = pm25_cols.applymap(lambda x: '< 12.00' if x < 12.00\n",
      "C:\\Users\\Raikou\\AppData\\Local\\Temp\\ipykernel_11592\\2694455489.py:53: FutureWarning: DataFrame.applymap has been deprecated. Use DataFrame.map instead.\n",
      "  meso_west_category_col = pm25_cols.applymap(lambda x: '< 2.00' if x < 2.00\n"
     ]
    },
    {
     "name": "stdout",
     "output_type": "stream",
     "text": [
      "Groomed: TRX03_2023_02.csv\n"
     ]
    },
    {
     "name": "stderr",
     "output_type": "stream",
     "text": [
      "C:\\Users\\Raikou\\AppData\\Local\\Temp\\ipykernel_11592\\2694455489.py:40: FutureWarning: DataFrame.applymap has been deprecated. Use DataFrame.map instead.\n",
      "  aqi_col = pm25_cols.applymap(lambda x: 'Good' if x < 12\n",
      "C:\\Users\\Raikou\\AppData\\Local\\Temp\\ipykernel_11592\\2694455489.py:46: FutureWarning: DataFrame.applymap has been deprecated. Use DataFrame.map instead.\n",
      "  pm25_category_col = pm25_cols.applymap(lambda x: '< 12.00' if x < 12.00\n",
      "C:\\Users\\Raikou\\AppData\\Local\\Temp\\ipykernel_11592\\2694455489.py:53: FutureWarning: DataFrame.applymap has been deprecated. Use DataFrame.map instead.\n",
      "  meso_west_category_col = pm25_cols.applymap(lambda x: '< 2.00' if x < 2.00\n"
     ]
    },
    {
     "name": "stdout",
     "output_type": "stream",
     "text": [
      "Groomed: TRX03_2023_03.csv\n"
     ]
    },
    {
     "name": "stderr",
     "output_type": "stream",
     "text": [
      "C:\\Users\\Raikou\\AppData\\Local\\Temp\\ipykernel_11592\\2694455489.py:40: FutureWarning: DataFrame.applymap has been deprecated. Use DataFrame.map instead.\n",
      "  aqi_col = pm25_cols.applymap(lambda x: 'Good' if x < 12\n",
      "C:\\Users\\Raikou\\AppData\\Local\\Temp\\ipykernel_11592\\2694455489.py:46: FutureWarning: DataFrame.applymap has been deprecated. Use DataFrame.map instead.\n",
      "  pm25_category_col = pm25_cols.applymap(lambda x: '< 12.00' if x < 12.00\n",
      "C:\\Users\\Raikou\\AppData\\Local\\Temp\\ipykernel_11592\\2694455489.py:53: FutureWarning: DataFrame.applymap has been deprecated. Use DataFrame.map instead.\n",
      "  meso_west_category_col = pm25_cols.applymap(lambda x: '< 2.00' if x < 2.00\n"
     ]
    },
    {
     "name": "stdout",
     "output_type": "stream",
     "text": [
      "Groomed: TRX03_2023_04.csv\n"
     ]
    },
    {
     "name": "stderr",
     "output_type": "stream",
     "text": [
      "C:\\Users\\Raikou\\AppData\\Local\\Temp\\ipykernel_11592\\2694455489.py:40: FutureWarning: DataFrame.applymap has been deprecated. Use DataFrame.map instead.\n",
      "  aqi_col = pm25_cols.applymap(lambda x: 'Good' if x < 12\n",
      "C:\\Users\\Raikou\\AppData\\Local\\Temp\\ipykernel_11592\\2694455489.py:46: FutureWarning: DataFrame.applymap has been deprecated. Use DataFrame.map instead.\n",
      "  pm25_category_col = pm25_cols.applymap(lambda x: '< 12.00' if x < 12.00\n",
      "C:\\Users\\Raikou\\AppData\\Local\\Temp\\ipykernel_11592\\2694455489.py:53: FutureWarning: DataFrame.applymap has been deprecated. Use DataFrame.map instead.\n",
      "  meso_west_category_col = pm25_cols.applymap(lambda x: '< 2.00' if x < 2.00\n"
     ]
    },
    {
     "name": "stdout",
     "output_type": "stream",
     "text": [
      "Groomed: TRX03_2023_05.csv\n"
     ]
    },
    {
     "name": "stderr",
     "output_type": "stream",
     "text": [
      "C:\\Users\\Raikou\\AppData\\Local\\Temp\\ipykernel_11592\\2694455489.py:40: FutureWarning: DataFrame.applymap has been deprecated. Use DataFrame.map instead.\n",
      "  aqi_col = pm25_cols.applymap(lambda x: 'Good' if x < 12\n",
      "C:\\Users\\Raikou\\AppData\\Local\\Temp\\ipykernel_11592\\2694455489.py:46: FutureWarning: DataFrame.applymap has been deprecated. Use DataFrame.map instead.\n",
      "  pm25_category_col = pm25_cols.applymap(lambda x: '< 12.00' if x < 12.00\n",
      "C:\\Users\\Raikou\\AppData\\Local\\Temp\\ipykernel_11592\\2694455489.py:53: FutureWarning: DataFrame.applymap has been deprecated. Use DataFrame.map instead.\n",
      "  meso_west_category_col = pm25_cols.applymap(lambda x: '< 2.00' if x < 2.00\n"
     ]
    },
    {
     "name": "stdout",
     "output_type": "stream",
     "text": [
      "Groomed: TRX03_2023_06.csv\n"
     ]
    },
    {
     "name": "stderr",
     "output_type": "stream",
     "text": [
      "C:\\Users\\Raikou\\AppData\\Local\\Temp\\ipykernel_11592\\2694455489.py:40: FutureWarning: DataFrame.applymap has been deprecated. Use DataFrame.map instead.\n",
      "  aqi_col = pm25_cols.applymap(lambda x: 'Good' if x < 12\n",
      "C:\\Users\\Raikou\\AppData\\Local\\Temp\\ipykernel_11592\\2694455489.py:46: FutureWarning: DataFrame.applymap has been deprecated. Use DataFrame.map instead.\n",
      "  pm25_category_col = pm25_cols.applymap(lambda x: '< 12.00' if x < 12.00\n",
      "C:\\Users\\Raikou\\AppData\\Local\\Temp\\ipykernel_11592\\2694455489.py:53: FutureWarning: DataFrame.applymap has been deprecated. Use DataFrame.map instead.\n",
      "  meso_west_category_col = pm25_cols.applymap(lambda x: '< 2.00' if x < 2.00\n"
     ]
    },
    {
     "name": "stdout",
     "output_type": "stream",
     "text": [
      "Groomed: TRX03_2023_07.csv\n"
     ]
    },
    {
     "name": "stderr",
     "output_type": "stream",
     "text": [
      "C:\\Users\\Raikou\\AppData\\Local\\Temp\\ipykernel_11592\\2694455489.py:40: FutureWarning: DataFrame.applymap has been deprecated. Use DataFrame.map instead.\n",
      "  aqi_col = pm25_cols.applymap(lambda x: 'Good' if x < 12\n",
      "C:\\Users\\Raikou\\AppData\\Local\\Temp\\ipykernel_11592\\2694455489.py:46: FutureWarning: DataFrame.applymap has been deprecated. Use DataFrame.map instead.\n",
      "  pm25_category_col = pm25_cols.applymap(lambda x: '< 12.00' if x < 12.00\n",
      "C:\\Users\\Raikou\\AppData\\Local\\Temp\\ipykernel_11592\\2694455489.py:53: FutureWarning: DataFrame.applymap has been deprecated. Use DataFrame.map instead.\n",
      "  meso_west_category_col = pm25_cols.applymap(lambda x: '< 2.00' if x < 2.00\n"
     ]
    },
    {
     "name": "stdout",
     "output_type": "stream",
     "text": [
      "Groomed: TRX03_2023_08.csv\n"
     ]
    },
    {
     "name": "stderr",
     "output_type": "stream",
     "text": [
      "C:\\Users\\Raikou\\AppData\\Local\\Temp\\ipykernel_11592\\2694455489.py:40: FutureWarning: DataFrame.applymap has been deprecated. Use DataFrame.map instead.\n",
      "  aqi_col = pm25_cols.applymap(lambda x: 'Good' if x < 12\n",
      "C:\\Users\\Raikou\\AppData\\Local\\Temp\\ipykernel_11592\\2694455489.py:46: FutureWarning: DataFrame.applymap has been deprecated. Use DataFrame.map instead.\n",
      "  pm25_category_col = pm25_cols.applymap(lambda x: '< 12.00' if x < 12.00\n",
      "C:\\Users\\Raikou\\AppData\\Local\\Temp\\ipykernel_11592\\2694455489.py:53: FutureWarning: DataFrame.applymap has been deprecated. Use DataFrame.map instead.\n",
      "  meso_west_category_col = pm25_cols.applymap(lambda x: '< 2.00' if x < 2.00\n"
     ]
    },
    {
     "name": "stdout",
     "output_type": "stream",
     "text": [
      "Groomed: TRX03_2023_09.csv\n"
     ]
    }
   ],
   "source": [
    "for filename in os.listdir(raw_data_path):\n",
    "    if filename.endswith('.csv'):\n",
    "        raw_file_path = os.path.join(raw_data_path, filename)\n",
    "        gmd_file_path = os.path.join(gmd_data_path, filename)\n",
    "        transit_id = filename.split('_')[0]\n",
    "        transit_df = pd.read_csv(raw_file_path, low_memory=False)\n",
    "\n",
    "        headers = transit_df.columns.to_list()\n",
    "        units = transit_df.iloc[0].to_list()\n",
    "\n",
    "        new_headers = [f'{h}_{u}' for h, u in zip(headers, units)]\n",
    "\n",
    "        transit_df = transit_df.iloc[1:].reset_index(drop=True)\n",
    "        transit_df.columns = pd.Index(new_headers)\n",
    "        transit_df['Timestamp_UTC'] = pd.to_datetime(\n",
    "            transit_df['Timestamp_UTC'])\n",
    "        transit_df.iloc[:, 1:-2] = transit_df.iloc[:, 1:-2].astype(float)\n",
    "\n",
    "        transit_df['Time_Tuple'] = transit_df['Timestamp_UTC'].apply(\n",
    "            lambda x: x.timetuple())\n",
    "        transit_df['Date'] = transit_df['Timestamp_UTC'].apply(\n",
    "            lambda x: x.date())\n",
    "        transit_df['Year'] = transit_df['Timestamp_UTC'].apply(\n",
    "            lambda x: x.timetuple().tm_year)\n",
    "        transit_df['Month'] = transit_df['Timestamp_UTC'].apply(\n",
    "            lambda x: x.timetuple().tm_mon)\n",
    "        transit_df['Day_of_Year'] = transit_df['Timestamp_UTC'].apply(\n",
    "            lambda x: x.timetuple().tm_yday)\n",
    "        transit_df['Day_of_Month'] = transit_df['Timestamp_UTC'].apply(\n",
    "            lambda x: x.timetuple().tm_mday)\n",
    "        transit_df['Minute'] = transit_df['Timestamp_UTC'].apply(\n",
    "            lambda x: x.timetuple().tm_min)\n",
    "        transit_df['Hour'] = transit_df['Timestamp_UTC'].apply(\n",
    "            lambda x: x.timetuple().tm_hour)\n",
    "        transit_df['Transit_ID'] = transit_id\n",
    "        \n",
    "        pm25_cols = transit_df.filter(like='PM2.5_Concentration_ug/m3')\n",
    "        ozone_cols = transit_df.filter(like='Ozone_Concentration_ppbv')\n",
    "        \n",
    "        aqi_col = pm25_cols.applymap(lambda x: 'Good' if x < 12\n",
    "                                            else ('Moderate' if x < 35.5\n",
    "                                                  else ('Unhealthy for Sensitive Groups' if x < 55.5\n",
    "                                                        else ('Unhealthy' if x < 150.5\n",
    "                                                              else ('Very Unhealthy' if x < 250.5 else 'Hazardous')))))\n",
    "\n",
    "        pm25_category_col = pm25_cols.applymap(lambda x: '< 12.00' if x < 12.00\n",
    "                                                       else ('12.00 - 35.50' if x < 35.50\n",
    "                                                             else ('35.50 - 85.50' if x < 85.50\n",
    "                                                                else ('115.00 - 150.50') if x < 150.50\n",
    "                                                                else ('150.50+'))))\n",
    "\n",
    "\n",
    "        meso_west_category_col = pm25_cols.applymap(lambda x: '< 2.00' if x < 2.00\n",
    "                                                           else ('2.00 - 4.00' if x < 4.00\n",
    "                                                                 else ('4.00 - 6.00' if x < 6.00\n",
    "                                                                      else ('6.00 - 8.00') if x < 8.00\n",
    "                                                                      else ('8.00 - 10.00') if x < 10.00\n",
    "                                                                      else ('10.00 - 12.00') if x < 12.00\n",
    "                                                                      else ('12.00 - 20.00') if x < 20.00\n",
    "                                                                      else ('20.00 - 28.00') if x < 28.00\n",
    "                                                                      else ('28.00 - 35.50') if x < 35.50\n",
    "                                                                      else ('35.50 - 45.50') if x < 45.50\n",
    "                                                                      else ('45.50 - 55.50') if x < 55.50\n",
    "                                                                      else ('55.50 - 85.50') if x < 85.50\n",
    "                                                                      else ('85.50 - 115.50') if x < 115.50\n",
    "                                                                      else ('115.50 - 150.50') if x < 150.50\n",
    "                                                                      else ('150.50+'))))\n",
    "        \n",
    "        transit_df['AQI'] = aqi_col\n",
    "        transit_df['PM2.5_Category'] = pm25_category_col\n",
    "        transit_df['Meso_West_Category'] = meso_west_category_col\n",
    "        \n",
    "        transit_df['AQI'] = transit_df['AQI'].astype(AQI_category)\n",
    "        transit_df['PM2.5_Category'] = transit_df['PM2.5_Category'].astype(PM25_Category)\n",
    "        transit_df['Meso_West_Category'] = transit_df['Meso_West_Category'].astype(MesoWest_Category)\n",
    "\n",
    "        transit_df_filt = transit_df[\n",
    "            (pm25_cols != -9999.00).all(axis=1) &\n",
    "            # (ozone_cols != -9999.00).all(axis=1) &\n",
    "            (transit_df['Latitude_ddeg'] != -9999.00) &\n",
    "            (transit_df['Longitude_ddeg'] != -9999.00)]\n",
    "\n",
    "        if 'BUS' in transit_id:\n",
    "            transit_df_gmd = transit_df_filt.iloc[::20, :].reset_index(drop=True)\n",
    "        else:\n",
    "            transit_df_gmd = transit_df_filt.iloc[::30, :].reset_index(drop=True)\n",
    "        \n",
    "        transit_df_gmd.to_csv(gmd_file_path, index=False)\n",
    "        print(f'Groomed: {filename}')"
   ]
  }
 ],
 "metadata": {
  "kernelspec": {
   "display_name": "base",
   "language": "python",
   "name": "python3"
  },
  "language_info": {
   "codemirror_mode": {
    "name": "ipython",
    "version": 3
   },
   "file_extension": ".py",
   "mimetype": "text/x-python",
   "name": "python",
   "nbconvert_exporter": "python",
   "pygments_lexer": "ipython3",
   "version": "3.11.5"
  }
 },
 "nbformat": 4,
 "nbformat_minor": 2
}
